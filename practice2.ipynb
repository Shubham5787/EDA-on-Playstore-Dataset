{
  "nbformat": 4,
  "nbformat_minor": 0,
  "metadata": {
    "colab": {
      "provenance": [],
      "authorship_tag": "ABX9TyNT1QqB/xrPMFQtCcnS/WeR",
      "include_colab_link": true
    },
    "kernelspec": {
      "name": "python3",
      "display_name": "Python 3"
    },
    "language_info": {
      "name": "python"
    }
  },
  "cells": [
    {
      "cell_type": "markdown",
      "metadata": {
        "id": "view-in-github",
        "colab_type": "text"
      },
      "source": [
        "<a href=\"https://colab.research.google.com/github/Shubham5787/practice-project/blob/main/practice2.ipynb\" target=\"_parent\"><img src=\"https://colab.research.google.com/assets/colab-badge.svg\" alt=\"Open In Colab\"/></a>"
      ]
    },
    {
      "cell_type": "code",
      "execution_count": null,
      "metadata": {
        "id": "gOvEq0yoIw-K"
      },
      "outputs": [],
      "source": [
        "a = [1,2,3,4,5,6]"
      ]
    },
    {
      "cell_type": "code",
      "source": [],
      "metadata": {
        "id": "GsFmgJGCn3I2"
      },
      "execution_count": null,
      "outputs": []
    },
    {
      "cell_type": "code",
      "source": [
        "a.append ({1:10})"
      ],
      "metadata": {
        "id": "79k0rXj_Nf2T"
      },
      "execution_count": null,
      "outputs": []
    },
    {
      "cell_type": "code",
      "source": [
        "a"
      ],
      "metadata": {
        "colab": {
          "base_uri": "https://localhost:8080/"
        },
        "id": "c4LSJNQvNp_g",
        "outputId": "6cb76a75-4dd7-4731-9dcd-ce45eb94d068"
      },
      "execution_count": null,
      "outputs": [
        {
          "output_type": "execute_result",
          "data": {
            "text/plain": [
              "[1, 2, 3, 4, 5, 6, 7, 7, 8, 9, 'a', 10.5, True, [1, 2, 3], (1, 2, 3), {1: 10}]"
            ]
          },
          "metadata": {},
          "execution_count": 28
        }
      ]
    },
    {
      "cell_type": "code",
      "source": [
        "print ('updated_a:',a)"
      ],
      "metadata": {
        "colab": {
          "base_uri": "https://localhost:8080/"
        },
        "id": "WcbffGb8Ph_H",
        "outputId": "49ce2c9d-0fc8-4705-f63a-f5a5ccfb3aea"
      },
      "execution_count": null,
      "outputs": [
        {
          "output_type": "stream",
          "name": "stdout",
          "text": [
            "updated_a: [1, 2, 3, 4, 5, 6, 7, 7, 8, 9, 'a', 10.5, True, [1, 2, 3], (1, 2, 3), {1: 10}]\n"
          ]
        }
      ]
    },
    {
      "cell_type": "code",
      "source": [
        "print (a[4])"
      ],
      "metadata": {
        "colab": {
          "base_uri": "https://localhost:8080/"
        },
        "id": "LgWhu5tLOSQX",
        "outputId": "849bb3b4-ff0b-4f82-c438-7a1460c32fda"
      },
      "execution_count": null,
      "outputs": [
        {
          "output_type": "stream",
          "name": "stdout",
          "text": [
            "5\n"
          ]
        }
      ]
    },
    {
      "cell_type": "code",
      "source": [
        "print(a)"
      ],
      "metadata": {
        "colab": {
          "base_uri": "https://localhost:8080/"
        },
        "id": "JJ7OOOHQQZbH",
        "outputId": "ec34f0f6-c316-47fe-bcc1-cdbb5dd25f35"
      },
      "execution_count": null,
      "outputs": [
        {
          "output_type": "stream",
          "name": "stdout",
          "text": [
            "[1, 2, 3, 4, 5, 6, 7, 7, 8, 9, 'a', 10.5, True, [1, 2, 3], (1, 2, 3), {1: 10}]\n"
          ]
        }
      ]
    },
    {
      "cell_type": "code",
      "source": [
        "b = [1,2,3,4,6,7]"
      ],
      "metadata": {
        "id": "HJQR9xWoQhwx"
      },
      "execution_count": null,
      "outputs": []
    },
    {
      "cell_type": "code",
      "source": [
        "c = []\n",
        "for i in b:\n",
        "  c.append(i**2)\n",
        "print(c)\n",
        "  \n"
      ],
      "metadata": {
        "colab": {
          "base_uri": "https://localhost:8080/"
        },
        "id": "jbPw0qzQQmkP",
        "outputId": "5be23d67-5e75-4aff-c600-f335e7507560"
      },
      "execution_count": null,
      "outputs": [
        {
          "output_type": "stream",
          "name": "stdout",
          "text": [
            "[1, 4, 9, 16, 36, 49]\n"
          ]
        }
      ]
    },
    {
      "cell_type": "code",
      "source": [
        "c.append (z)\n",
        "print(c)"
      ],
      "metadata": {
        "colab": {
          "base_uri": "https://localhost:8080/"
        },
        "id": "OUIsH6QmSdRq",
        "outputId": "be81e2ce-e7a3-4d48-8885-7ab9ae783f9f"
      },
      "execution_count": null,
      "outputs": [
        {
          "output_type": "stream",
          "name": "stdout",
          "text": [
            "[20, 40, 50, 60, [8000, 64000, 125000, 216000], [8000, 64000, 125000, 216000]]\n"
          ]
        }
      ]
    },
    {
      "cell_type": "code",
      "source": [],
      "metadata": {
        "id": "WnaIiqih7KiP"
      },
      "execution_count": null,
      "outputs": []
    },
    {
      "cell_type": "code",
      "source": [],
      "metadata": {
        "id": "hQP54d2l2uml"
      },
      "execution_count": null,
      "outputs": []
    },
    {
      "cell_type": "code",
      "source": [],
      "metadata": {
        "id": "3O4dvccf64C_"
      },
      "execution_count": null,
      "outputs": []
    },
    {
      "cell_type": "code",
      "source": [
        "my_word = \"Hello World\"\n",
        "print(my_word)"
      ],
      "metadata": {
        "colab": {
          "base_uri": "https://localhost:8080/"
        },
        "id": "ZThdW7Eu5hal",
        "outputId": "7a5a772e-4482-48f8-f6e6-0ffaec92f981"
      },
      "execution_count": null,
      "outputs": [
        {
          "output_type": "stream",
          "name": "stdout",
          "text": [
            "Hello World\n"
          ]
        }
      ]
    },
    {
      "cell_type": "code",
      "source": [
        "a = []\n",
        "type(a)"
      ],
      "metadata": {
        "id": "iUiEef79bNWQ",
        "colab": {
          "base_uri": "https://localhost:8080/"
        },
        "outputId": "d877f8a8-843b-498c-87a8-e0ffd8762a70"
      },
      "execution_count": null,
      "outputs": [
        {
          "output_type": "execute_result",
          "data": {
            "text/plain": [
              "list"
            ]
          },
          "metadata": {},
          "execution_count": 1
        }
      ]
    },
    {
      "cell_type": "code",
      "source": [
        "selfa= [1,2,3]"
      ],
      "metadata": {
        "id": "TqYAUM48bOPv"
      },
      "execution_count": null,
      "outputs": []
    },
    {
      "cell_type": "code",
      "source": [],
      "metadata": {
        "id": "oMdw90wmclag"
      },
      "execution_count": null,
      "outputs": []
    },
    {
      "cell_type": "code",
      "source": [],
      "metadata": {
        "id": "TtxH58N2XoE_"
      },
      "execution_count": null,
      "outputs": []
    },
    {
      "cell_type": "code",
      "source": [
        "round(4.556)"
      ],
      "metadata": {
        "id": "gr-63ZLBXpSB",
        "colab": {
          "base_uri": "https://localhost:8080/"
        },
        "outputId": "59baca79-001a-40d5-ad3c-75b56d4ad600"
      },
      "execution_count": null,
      "outputs": [
        {
          "output_type": "execute_result",
          "data": {
            "text/plain": [
              "5"
            ]
          },
          "metadata": {},
          "execution_count": 1
        }
      ]
    },
    {
      "cell_type": "code",
      "source": [],
      "metadata": {
        "id": "_Udp6MnL6GPv"
      },
      "execution_count": null,
      "outputs": []
    },
    {
      "cell_type": "code",
      "source": [
        "a = []"
      ],
      "metadata": {
        "id": "Ia6a8gFRTh31"
      },
      "execution_count": null,
      "outputs": []
    },
    {
      "cell_type": "code",
      "source": [
        "a,b = (1,2)\n",
        "type(a)"
      ],
      "metadata": {
        "colab": {
          "base_uri": "https://localhost:8080/"
        },
        "id": "nWyQEKuxr2zb",
        "outputId": "4a0d3256-1adc-4e15-8afd-322a6e3a022c"
      },
      "execution_count": null,
      "outputs": [
        {
          "output_type": "execute_result",
          "data": {
            "text/plain": [
              "int"
            ]
          },
          "metadata": {},
          "execution_count": 1
        }
      ]
    },
    {
      "cell_type": "code",
      "source": [
        "b= 1,2,3\n",
        "type(b)"
      ],
      "metadata": {
        "colab": {
          "base_uri": "https://localhost:8080/"
        },
        "id": "nObsxTiFtLVK",
        "outputId": "ec5a7a40-1240-4b0a-81e3-b4724c1017ac"
      },
      "execution_count": null,
      "outputs": [
        {
          "output_type": "execute_result",
          "data": {
            "text/plain": [
              "tuple"
            ]
          },
          "metadata": {},
          "execution_count": 3
        }
      ]
    },
    {
      "cell_type": "code",
      "source": [
        "a = (1,2,3,[1,2,3],5)\n",
        "a[3][0]=9\n",
        "a\n"
      ],
      "metadata": {
        "colab": {
          "base_uri": "https://localhost:8080/"
        },
        "id": "LpxQuDeyzgMT",
        "outputId": "2d1c952e-7c4b-42ec-e3ae-207dcb9d95ba"
      },
      "execution_count": null,
      "outputs": [
        {
          "output_type": "execute_result",
          "data": {
            "text/plain": [
              "(1, 2, 3, [9, 2, 3], 5)"
            ]
          },
          "metadata": {},
          "execution_count": 5
        }
      ]
    },
    {
      "cell_type": "code",
      "source": [
        "a = [1,2,3,1,2,3,5]\n",
        "a[3]=9\n",
        "a"
      ],
      "metadata": {
        "colab": {
          "base_uri": "https://localhost:8080/"
        },
        "id": "iK9QzDLpMght",
        "outputId": "e7bd995a-36f5-48bb-bf23-1d1eeb2086b2"
      },
      "execution_count": null,
      "outputs": [
        {
          "output_type": "execute_result",
          "data": {
            "text/plain": [
              "[1, 2, 3, 9, 2, 3, 5]"
            ]
          },
          "metadata": {},
          "execution_count": 2
        }
      ]
    },
    {
      "cell_type": "code",
      "source": [
        "a"
      ],
      "metadata": {
        "colab": {
          "base_uri": "https://localhost:8080/"
        },
        "id": "WE-7kJtOMurG",
        "outputId": "9ba9fd83-0db5-44ac-f2ff-085cc3c96afe"
      },
      "execution_count": null,
      "outputs": [
        {
          "output_type": "execute_result",
          "data": {
            "text/plain": [
              "[1, 2, 3, 9, 2, 3, 5]"
            ]
          },
          "metadata": {},
          "execution_count": 3
        }
      ]
    },
    {
      "cell_type": "code",
      "source": [
        "a.append(10)\n",
        "a"
      ],
      "metadata": {
        "colab": {
          "base_uri": "https://localhost:8080/"
        },
        "id": "w_m9RFKYMxoJ",
        "outputId": "92d84272-6c5f-4fa6-9cbf-d6c56d0ca807"
      },
      "execution_count": null,
      "outputs": [
        {
          "output_type": "execute_result",
          "data": {
            "text/plain": [
              "[1, 2, 3, 9, 2, 3, 5, 10, 10]"
            ]
          },
          "metadata": {},
          "execution_count": 5
        }
      ]
    },
    {
      "cell_type": "code",
      "source": [
        "a"
      ],
      "metadata": {
        "colab": {
          "base_uri": "https://localhost:8080/"
        },
        "id": "nvCLPHDnM304",
        "outputId": "08b77c86-894a-48e4-f562-689762cc1f5b"
      },
      "execution_count": null,
      "outputs": [
        {
          "output_type": "execute_result",
          "data": {
            "text/plain": [
              "[1, 2, 3, 9, 2, 3, 5, 10, 10]"
            ]
          },
          "metadata": {},
          "execution_count": 7
        }
      ]
    },
    {
      "cell_type": "code",
      "source": [
        "a.pop(8)\n"
      ],
      "metadata": {
        "colab": {
          "base_uri": "https://localhost:8080/",
          "height": 165
        },
        "id": "qnOpAWJQM8V_",
        "outputId": "f48cc099-e869-4053-eee0-8aed72281d49"
      },
      "execution_count": null,
      "outputs": [
        {
          "output_type": "error",
          "ename": "IndexError",
          "evalue": "ignored",
          "traceback": [
            "\u001b[0;31m---------------------------------------------------------------------------\u001b[0m",
            "\u001b[0;31mIndexError\u001b[0m                                Traceback (most recent call last)",
            "\u001b[0;32m<ipython-input-11-e9ac9f2cdd98>\u001b[0m in \u001b[0;36m<module>\u001b[0;34m()\u001b[0m\n\u001b[0;32m----> 1\u001b[0;31m \u001b[0ma\u001b[0m\u001b[0;34m.\u001b[0m\u001b[0mpop\u001b[0m\u001b[0;34m(\u001b[0m\u001b[0;36m8\u001b[0m\u001b[0;34m)\u001b[0m\u001b[0;34m\u001b[0m\u001b[0;34m\u001b[0m\u001b[0m\n\u001b[0m",
            "\u001b[0;31mIndexError\u001b[0m: pop index out of range"
          ]
        }
      ]
    },
    {
      "cell_type": "code",
      "source": [
        "a"
      ],
      "metadata": {
        "colab": {
          "base_uri": "https://localhost:8080/"
        },
        "id": "g3KiOovaNDlA",
        "outputId": "605537d4-1094-4056-8766-f575ab79b5df"
      },
      "execution_count": null,
      "outputs": [
        {
          "output_type": "execute_result",
          "data": {
            "text/plain": [
              "[1, 2, 3, 9, 2, 3, 5, 10]"
            ]
          },
          "metadata": {},
          "execution_count": 12
        }
      ]
    },
    {
      "cell_type": "code",
      "source": [
        "helloword = 'hello' +' ' 'word'\n",
        "print(helloword)"
      ],
      "metadata": {
        "id": "K2FXDHgWNJrv",
        "colab": {
          "base_uri": "https://localhost:8080/"
        },
        "outputId": "2a751a30-f9ee-40e2-b7db-879ff9f8327f"
      },
      "execution_count": null,
      "outputs": [
        {
          "output_type": "stream",
          "name": "stdout",
          "text": [
            "hello word\n"
          ]
        }
      ]
    },
    {
      "cell_type": "code",
      "source": [],
      "metadata": {
        "id": "sJ2_-zB5pFqB"
      },
      "execution_count": null,
      "outputs": []
    },
    {
      "cell_type": "code",
      "source": [
        "lotsofhello = 'hello '*10\n",
        "print(lotsofhello)"
      ],
      "metadata": {
        "colab": {
          "base_uri": "https://localhost:8080/"
        },
        "id": "GY_qblLIPL9l",
        "outputId": "4869f60a-9196-4586-87a7-221d996d9eb3"
      },
      "execution_count": null,
      "outputs": [
        {
          "output_type": "stream",
          "name": "stdout",
          "text": [
            "hello hello hello hello hello hello hello hello hello hello \n"
          ]
        }
      ]
    },
    {
      "cell_type": "code",
      "source": [
        "a = [1,2,3,4]\n",
        "b = [5,6,7,8]\n",
        "c= a + b\n",
        "print(c)"
      ],
      "metadata": {
        "colab": {
          "base_uri": "https://localhost:8080/"
        },
        "id": "Z_49wX0JPqxQ",
        "outputId": "03318d49-0b2c-4944-f34b-a902db7ef33e"
      },
      "execution_count": null,
      "outputs": [
        {
          "output_type": "stream",
          "name": "stdout",
          "text": [
            "[1, 2, 3, 4, 5, 6, 7, 8]\n"
          ]
        }
      ]
    },
    {
      "cell_type": "code",
      "source": [
        "g = ['x']\n",
        "h = ['y']\n"
      ],
      "metadata": {
        "id": "S0Ip82I6QB1r"
      },
      "execution_count": null,
      "outputs": []
    },
    {
      "cell_type": "code",
      "source": [
        "k = object\n",
        "type(k)"
      ],
      "metadata": {
        "colab": {
          "base_uri": "https://localhost:8080/"
        },
        "id": "wzwRNRFxRKHG",
        "outputId": "28bdb282-f20d-4695-c0a1-c6b80e943314"
      },
      "execution_count": null,
      "outputs": [
        {
          "output_type": "execute_result",
          "data": {
            "text/plain": [
              "type"
            ]
          },
          "metadata": {},
          "execution_count": 27
        }
      ]
    },
    {
      "cell_type": "code",
      "source": [
        "x_list = [1]*5\n",
        "print(\"x_list contains %o  objects \" % len(x_list))\n"
      ],
      "metadata": {
        "colab": {
          "base_uri": "https://localhost:8080/"
        },
        "id": "7vU04gbDSbAs",
        "outputId": "c02888e8-8ae7-45ab-e3a0-04515bb9defe"
      },
      "execution_count": null,
      "outputs": [
        {
          "output_type": "stream",
          "name": "stdout",
          "text": [
            "x_list contains 5  objects \n"
          ]
        }
      ]
    },
    {
      "cell_type": "code",
      "source": [
        "a = 5%5\n",
        "a"
      ],
      "metadata": {
        "colab": {
          "base_uri": "https://localhost:8080/"
        },
        "id": "ZJ5a0gMpXNUc",
        "outputId": "13f05dae-c40d-468e-c016-8b404e86d5a5"
      },
      "execution_count": null,
      "outputs": [
        {
          "output_type": "execute_result",
          "data": {
            "text/plain": [
              "0"
            ]
          },
          "metadata": {},
          "execution_count": 41
        }
      ]
    },
    {
      "cell_type": "code",
      "source": [
        "m = 'shubham %a dandnaik'\n",
        "m"
      ],
      "metadata": {
        "colab": {
          "base_uri": "https://localhost:8080/",
          "height": 35
        },
        "id": "QBXOY6GfX8uL",
        "outputId": "c43a2aab-07b4-45cf-ee10-54e3b67ccca8"
      },
      "execution_count": null,
      "outputs": [
        {
          "output_type": "execute_result",
          "data": {
            "text/plain": [
              "'shubham %a dandnaik'"
            ],
            "application/vnd.google.colaboratory.intrinsic+json": {
              "type": "string"
            }
          },
          "metadata": {},
          "execution_count": 48
        }
      ]
    },
    {
      "cell_type": "code",
      "source": [
        "s = 'shubham'\n",
        "f =   f'my name is {s} {5} '\n",
        "print(f)"
      ],
      "metadata": {
        "colab": {
          "base_uri": "https://localhost:8080/"
        },
        "id": "BjtHrAwAYQb_",
        "outputId": "8d1cda10-cdeb-4338-da2f-7f110adafe76"
      },
      "execution_count": null,
      "outputs": [
        {
          "output_type": "stream",
          "name": "stdout",
          "text": [
            "my name is shubham 5 \n"
          ]
        }
      ]
    },
    {
      "cell_type": "code",
      "source": [
        "a = 10\n",
        "b = 5\n",
        "c = a%b\n",
        "c"
      ],
      "metadata": {
        "colab": {
          "base_uri": "https://localhost:8080/"
        },
        "id": "3aySCvFTb-S6",
        "outputId": "cc119256-cdd4-41fb-f2e0-a1a8eff457b9"
      },
      "execution_count": null,
      "outputs": [
        {
          "output_type": "execute_result",
          "data": {
            "text/plain": [
              "0"
            ]
          },
          "metadata": {},
          "execution_count": 59
        }
      ]
    },
    {
      "cell_type": "code",
      "source": [
        "name = 'shubham dandnaik '\n",
        "s = print('name is', name)\n",
        "s"
      ],
      "metadata": {
        "colab": {
          "base_uri": "https://localhost:8080/"
        },
        "id": "WWItLHsTcdTk",
        "outputId": "a6e84111-c2b7-4664-d2be-dbe4e28286a6"
      },
      "execution_count": null,
      "outputs": [
        {
          "output_type": "stream",
          "name": "stdout",
          "text": [
            "name is shubham dandnaik \n"
          ]
        }
      ]
    },
    {
      "cell_type": "code",
      "source": [
        "clas = 'supriya'\n",
        "s = f\"who is {clas}\"\n",
        "s"
      ],
      "metadata": {
        "colab": {
          "base_uri": "https://localhost:8080/",
          "height": 35
        },
        "id": "ZpCmnoZvdxYs",
        "outputId": "5030338c-5317-42f9-dce8-583912ab5735"
      },
      "execution_count": null,
      "outputs": [
        {
          "output_type": "execute_result",
          "data": {
            "text/plain": [
              "'who is supriya'"
            ],
            "application/vnd.google.colaboratory.intrinsic+json": {
              "type": "string"
            }
          },
          "metadata": {},
          "execution_count": 66
        }
      ]
    },
    {
      "cell_type": "code",
      "source": [
        "print('who is', clas)"
      ],
      "metadata": {
        "colab": {
          "base_uri": "https://localhost:8080/"
        },
        "id": "1bJd6cfReSie",
        "outputId": "d9782446-63d6-4014-fd02-58488ce21a34"
      },
      "execution_count": null,
      "outputs": [
        {
          "output_type": "stream",
          "name": "stdout",
          "text": [
            "who is supriya\n"
          ]
        }
      ]
    },
    {
      "cell_type": "code",
      "source": [
        "d = {'name' : 'shubham' , 'roll x' : 14}\n",
        "print (d ['roll x'])"
      ],
      "metadata": {
        "colab": {
          "base_uri": "https://localhost:8080/"
        },
        "id": "_92QeNNsmV3x",
        "outputId": "21707d1d-a7ac-46ba-cadd-881dc32169c9"
      },
      "execution_count": null,
      "outputs": [
        {
          "output_type": "stream",
          "name": "stdout",
          "text": [
            "14\n"
          ]
        }
      ]
    },
    {
      "cell_type": "code",
      "source": [
        "g = [1,2,3,4,5]\n",
        "print (g[0 : 3])"
      ],
      "metadata": {
        "colab": {
          "base_uri": "https://localhost:8080/"
        },
        "id": "GCrD26Emmhy3",
        "outputId": "1bd69da5-c6ec-4b1f-b7a8-ea4f9a9a0df8"
      },
      "execution_count": null,
      "outputs": [
        {
          "output_type": "stream",
          "name": "stdout",
          "text": [
            "[1, 2, 3]\n"
          ]
        }
      ]
    },
    {
      "cell_type": "code",
      "source": [
        "a = range (1,15)\n",
        "print(list(a))\n",
        "print (list(a[-1 : -7 : -1]))"
      ],
      "metadata": {
        "colab": {
          "base_uri": "https://localhost:8080/"
        },
        "id": "uvS726oApG2F",
        "outputId": "12a57c7a-1c01-48a5-8ceb-52f755cef315"
      },
      "execution_count": null,
      "outputs": [
        {
          "output_type": "stream",
          "name": "stdout",
          "text": [
            "[1, 2, 3, 4, 5, 6, 7, 8, 9, 10, 11, 12, 13, 14]\n",
            "[14, 13, 12, 11, 10, 9]\n"
          ]
        }
      ]
    },
    {
      "cell_type": "code",
      "source": [
        "astring = \"Hello world!\"\n",
        "afewwords = astring.split(\" \")\n",
        "print(afewwords)"
      ],
      "metadata": {
        "colab": {
          "base_uri": "https://localhost:8080/"
        },
        "id": "lZu05wPD6IJ0",
        "outputId": "74ff66cf-5b29-4e63-bd6c-aa04fa743dac"
      },
      "execution_count": null,
      "outputs": [
        {
          "output_type": "stream",
          "name": "stdout",
          "text": [
            "['Hello', 'world!']\n"
          ]
        }
      ]
    },
    {
      "cell_type": "code",
      "source": [
        "astring = \"Hello world!\"\n",
        "print(astring.startswith(\"Helo\"))\n",
        "print(astring.endswith(\"asdfasdfasdf\"))"
      ],
      "metadata": {
        "id": "a2AICIln6RFH",
        "colab": {
          "base_uri": "https://localhost:8080/"
        },
        "outputId": "04f9fe34-5b07-4f58-af1c-a826b25e97e3"
      },
      "execution_count": null,
      "outputs": [
        {
          "output_type": "stream",
          "name": "stdout",
          "text": [
            "False\n",
            "False\n"
          ]
        }
      ]
    },
    {
      "cell_type": "code",
      "source": [
        "m = [1,2,3]\n",
        "for  i in m :\n",
        "  print(i)\n"
      ],
      "metadata": {
        "colab": {
          "base_uri": "https://localhost:8080/"
        },
        "id": "otZ3IaUjRSV4",
        "outputId": "99c33795-09c8-443d-a5ae-7ffd72c8c350"
      },
      "execution_count": null,
      "outputs": [
        {
          "output_type": "stream",
          "name": "stdout",
          "text": [
            "1\n",
            "2\n",
            "3\n"
          ]
        }
      ]
    },
    {
      "cell_type": "code",
      "source": [
        "name = ['shubham', 'rushabh', 'abhishek']\n",
        "for i in name :\n",
        "  print ('name', i)"
      ],
      "metadata": {
        "colab": {
          "base_uri": "https://localhost:8080/"
        },
        "id": "EST98GJsSWlE",
        "outputId": "ee9d5871-2052-4769-9a0e-5ff5d8af6539"
      },
      "execution_count": null,
      "outputs": [
        {
          "output_type": "stream",
          "name": "stdout",
          "text": [
            "name shubham\n",
            "name rushabh\n",
            "name abhishek\n"
          ]
        }
      ]
    },
    {
      "cell_type": "code",
      "source": [
        "name = ['shubham', 'rushabh', 'abhishek']\n",
        "for i in name :\n",
        "  print(f\"name {i}\")"
      ],
      "metadata": {
        "colab": {
          "base_uri": "https://localhost:8080/"
        },
        "id": "EHr4ehDmYrKF",
        "outputId": "afbd328b-a019-41a3-8746-296b2b4d7c54"
      },
      "execution_count": null,
      "outputs": [
        {
          "output_type": "stream",
          "name": "stdout",
          "text": [
            "name shubham\n",
            "name rushabh\n",
            "name abhishek\n"
          ]
        }
      ]
    },
    {
      "cell_type": "code",
      "source": [
        "a = [1,2,3,4,5]\n",
        "b = []\n",
        "for i in a :\n",
        "  c = b.append(i**2)\n",
        "  print (c)\n"
      ],
      "metadata": {
        "colab": {
          "base_uri": "https://localhost:8080/"
        },
        "id": "eJviYvuSdWge",
        "outputId": "cd7f9cd8-b285-4599-ffea-20f8d404e747"
      },
      "execution_count": null,
      "outputs": [
        {
          "output_type": "stream",
          "name": "stdout",
          "text": [
            "None\n",
            "None\n",
            "None\n",
            "None\n",
            "None\n"
          ]
        }
      ]
    },
    {
      "cell_type": "code",
      "source": [],
      "metadata": {
        "id": "SsCs9hJNofQ5"
      },
      "execution_count": null,
      "outputs": []
    },
    {
      "cell_type": "code",
      "source": [],
      "metadata": {
        "id": "ZDLFN68xoqd8"
      },
      "execution_count": null,
      "outputs": []
    },
    {
      "cell_type": "code",
      "source": [
        "print(len(a))\n",
        "print (a.count(2))\n",
        "c = b.append(a*2)\n",
        "print (b)"
      ],
      "metadata": {
        "colab": {
          "base_uri": "https://localhost:8080/"
        },
        "id": "HLbyONXHnpPz",
        "outputId": "ec168e71-b8ac-4da7-e911-a6b74c033c89"
      },
      "execution_count": null,
      "outputs": [
        {
          "output_type": "stream",
          "name": "stdout",
          "text": [
            "5\n",
            "1\n",
            "[1, 4, 9, 16, 25, [1, 2, 3, 4, 5, 1, 2, 3, 4, 5], [1, 2, 3, 4, 5, 1, 2, 3, 4, 5], [1, 2, 3, 4, 5, 1, 2, 3, 4, 5]]\n"
          ]
        }
      ]
    },
    {
      "cell_type": "code",
      "source": [
        "j = 'shubham dandnaik'\n",
        "c = j.upper\n",
        "print (j)"
      ],
      "metadata": {
        "colab": {
          "base_uri": "https://localhost:8080/"
        },
        "id": "ugTcfQ5eorWt",
        "outputId": "cdfe0d33-0e71-43f6-dc4e-1417610da593"
      },
      "execution_count": null,
      "outputs": [
        {
          "output_type": "stream",
          "name": "stdout",
          "text": [
            "shubham dandnaik\n"
          ]
        }
      ]
    },
    {
      "cell_type": "code",
      "source": [
        "x = 0\n",
        "while x < 5 :\n",
        "  print ('good')\n",
        "  x+= 1 "
      ],
      "metadata": {
        "colab": {
          "base_uri": "https://localhost:8080/"
        },
        "id": "NzzBsRWYdWah",
        "outputId": "5101bea1-2507-4ed7-8319-2d7d62ebabc6"
      },
      "execution_count": null,
      "outputs": [
        {
          "output_type": "stream",
          "name": "stdout",
          "text": [
            "good\n",
            "good\n",
            "good\n",
            "good\n",
            "good\n"
          ]
        }
      ]
    },
    {
      "cell_type": "code",
      "source": [
        "import numpy as np"
      ],
      "metadata": {
        "id": "RUUELsSFn4dG"
      },
      "execution_count": null,
      "outputs": []
    },
    {
      "cell_type": "code",
      "source": [
        "array1 = np.array([2,4,6,8])\n",
        "print(array1)"
      ],
      "metadata": {
        "colab": {
          "base_uri": "https://localhost:8080/"
        },
        "id": "u9Qh3RJOv4Aa",
        "outputId": "889eb530-7fa7-4521-c919-a345529ec1f3"
      },
      "execution_count": null,
      "outputs": [
        {
          "output_type": "stream",
          "name": "stdout",
          "text": [
            "[2 4 6 8]\n"
          ]
        }
      ]
    },
    {
      "cell_type": "code",
      "source": [
        "array2 = np.array([1,4,5,6])\n",
        "print(array2)"
      ],
      "metadata": {
        "colab": {
          "base_uri": "https://localhost:8080/"
        },
        "id": "6EBx0mDpwGbq",
        "outputId": "4058d8b6-ace4-43dc-cf1d-34fa681481fc"
      },
      "execution_count": null,
      "outputs": [
        {
          "output_type": "stream",
          "name": "stdout",
          "text": [
            "[1 4 5 6]\n"
          ]
        }
      ]
    },
    {
      "cell_type": "code",
      "source": [
        "array3 = np.array([4,5,6,8,7,9])\n",
        "print(array3)"
      ],
      "metadata": {
        "colab": {
          "base_uri": "https://localhost:8080/"
        },
        "id": "U9fvZaC6wZkt",
        "outputId": "8674900c-db28-4edb-d47c-eab6392c1ed9"
      },
      "execution_count": null,
      "outputs": [
        {
          "output_type": "stream",
          "name": "stdout",
          "text": [
            "[4 5 6 8 7 9]\n"
          ]
        }
      ]
    },
    {
      "cell_type": "code",
      "source": [
        "array4 = np.array((4,5,6))\n",
        "print(array4)\n",
        "type(array4)"
      ],
      "metadata": {
        "colab": {
          "base_uri": "https://localhost:8080/"
        },
        "id": "ZLGotRuWwi-u",
        "outputId": "840bc4cf-fc0d-480f-b8c5-67b8917c485d"
      },
      "execution_count": null,
      "outputs": [
        {
          "output_type": "stream",
          "name": "stdout",
          "text": [
            "[4 5 6]\n"
          ]
        },
        {
          "output_type": "execute_result",
          "data": {
            "text/plain": [
              "numpy.ndarray"
            ]
          },
          "metadata": {},
          "execution_count": 30
        }
      ]
    },
    {
      "cell_type": "code",
      "source": [
        "array5 = np.array({1,2,3})\n",
        "print(array5)\n",
        "type(array5)"
      ],
      "metadata": {
        "colab": {
          "base_uri": "https://localhost:8080/"
        },
        "id": "vQtit_7CwtNg",
        "outputId": "fd1bf50c-8335-44b1-b4f0-b7d7bddc1d65"
      },
      "execution_count": null,
      "outputs": [
        {
          "output_type": "stream",
          "name": "stdout",
          "text": [
            "{1, 2, 3}\n"
          ]
        },
        {
          "output_type": "execute_result",
          "data": {
            "text/plain": [
              "numpy.ndarray"
            ]
          },
          "metadata": {},
          "execution_count": 29
        }
      ]
    },
    {
      "cell_type": "code",
      "source": [
        "array6 = np.array({'shubham':1 , 'rushabh':2 })\n",
        "print(array6)\n",
        "type(array6)"
      ],
      "metadata": {
        "colab": {
          "base_uri": "https://localhost:8080/"
        },
        "id": "XaJIBPO9xN8T",
        "outputId": "19034d82-5551-4f01-ad02-22492b493e2c"
      },
      "execution_count": null,
      "outputs": [
        {
          "output_type": "stream",
          "name": "stdout",
          "text": [
            "{'shubham': 1, 'rushabh': 2}\n"
          ]
        },
        {
          "output_type": "execute_result",
          "data": {
            "text/plain": [
              "numpy.ndarray"
            ]
          },
          "metadata": {},
          "execution_count": 31
        }
      ]
    },
    {
      "cell_type": "code",
      "source": [
        "# 2 dimensional array\n",
        "twodarray = np.array([{'shuhham':2 , 'rushabh':3},{'rushabh':5 , 'shubham':5}])\n",
        "print(twodarray)\n",
        "type(twodarray)"
      ],
      "metadata": {
        "colab": {
          "base_uri": "https://localhost:8080/"
        },
        "id": "YNod9ioIy9Wt",
        "outputId": "58013ba2-3379-45c8-eb83-007102f17c7f"
      },
      "execution_count": null,
      "outputs": [
        {
          "output_type": "stream",
          "name": "stdout",
          "text": [
            "[{'shuhham': 2, 'rushabh': 3} {'rushabh': 5, 'shubham': 5}]\n"
          ]
        },
        {
          "output_type": "execute_result",
          "data": {
            "text/plain": [
              "numpy.ndarray"
            ]
          },
          "metadata": {},
          "execution_count": 92
        }
      ]
    },
    {
      "cell_type": "code",
      "source": [
        "# 3 dimensional array\n",
        "threedarray = np.array([[[1,2,3],[4,5,6]],[[7,8,9],[10,11,12]]])\n",
        "print(threedarray)"
      ],
      "metadata": {
        "colab": {
          "base_uri": "https://localhost:8080/"
        },
        "id": "CJ6d_m7Fz7o4",
        "outputId": "6052ab2a-5f97-474d-ff19-cb9e4ac49849"
      },
      "execution_count": null,
      "outputs": [
        {
          "output_type": "stream",
          "name": "stdout",
          "text": [
            "[[[ 1  2  3]\n",
            "  [ 4  5  6]]\n",
            "\n",
            " [[ 7  8  9]\n",
            "  [10 11 12]]]\n"
          ]
        }
      ]
    },
    {
      "cell_type": "code",
      "source": [
        "anotherarray = np.array([[1,2,3,4],[5,6,7,8]])\n",
        "print(anotherarray)"
      ],
      "metadata": {
        "colab": {
          "base_uri": "https://localhost:8080/"
        },
        "id": "jNCy9tFg2uNh",
        "outputId": "222e7073-9bbb-4c49-df2e-6cec5a78cc7c"
      },
      "execution_count": null,
      "outputs": [
        {
          "output_type": "stream",
          "name": "stdout",
          "text": [
            "[[1 2 3 4]\n",
            " [5 6 7 8]]\n"
          ]
        }
      ]
    },
    {
      "cell_type": "code",
      "source": [
        "#two dimensional array\n",
        "morearray = np.array([[1],[2]])\n",
        "print(morearray)"
      ],
      "metadata": {
        "colab": {
          "base_uri": "https://localhost:8080/"
        },
        "id": "dgFNBQ4M2_Iy",
        "outputId": "2b03af76-c8e9-468c-df4c-bf8eab7bcb25"
      },
      "execution_count": null,
      "outputs": [
        {
          "output_type": "stream",
          "name": "stdout",
          "text": [
            "[[1]\n",
            " [2]]\n"
          ]
        }
      ]
    },
    {
      "cell_type": "code",
      "source": [
        "#3 dimensional array \n",
        "arr = np.array([[[1],[2]],[[3],[4]],[[5],[6]]])\n",
        "print(arr)"
      ],
      "metadata": {
        "colab": {
          "base_uri": "https://localhost:8080/"
        },
        "id": "g1mc7-TX3JVl",
        "outputId": "fd391d5f-9fc6-4952-e66c-dab00be29867"
      },
      "execution_count": null,
      "outputs": [
        {
          "output_type": "stream",
          "name": "stdout",
          "text": [
            "[[[1]\n",
            "  [2]]\n",
            "\n",
            " [[3]\n",
            "  [4]]\n",
            "\n",
            " [[5]\n",
            "  [6]]]\n"
          ]
        }
      ]
    },
    {
      "cell_type": "code",
      "source": [
        "# 3 dimensional array\n",
        "second = np.array([[[1],[2]],[[3],[4]]])\n",
        "print(second)"
      ],
      "metadata": {
        "colab": {
          "base_uri": "https://localhost:8080/"
        },
        "id": "Jq4Ix11Q4dnV",
        "outputId": "7fb0f0ff-9cfd-45e9-cb37-0fbf586b770a"
      },
      "execution_count": null,
      "outputs": [
        {
          "output_type": "stream",
          "name": "stdout",
          "text": [
            "[[[1]\n",
            "  [2]]\n",
            "\n",
            " [[3]\n",
            "  [4]]]\n"
          ]
        }
      ]
    },
    {
      "cell_type": "code",
      "source": [
        "print(second.shape)\n",
        "second.ndim"
      ],
      "metadata": {
        "colab": {
          "base_uri": "https://localhost:8080/"
        },
        "id": "_nObQYdc5Kco",
        "outputId": "ef88e3ce-859c-4d98-bb2d-91f064518673"
      },
      "execution_count": null,
      "outputs": [
        {
          "output_type": "stream",
          "name": "stdout",
          "text": [
            "(2, 2, 1)\n"
          ]
        },
        {
          "output_type": "execute_result",
          "data": {
            "text/plain": [
              "3"
            ]
          },
          "metadata": {},
          "execution_count": 13
        }
      ]
    },
    {
      "cell_type": "code",
      "source": [
        "# another 3d array\n",
        "another = np.array([[[1,2,3],[4,5,6],[7,8,9],[1,2,3]],[[7,8,9],[1,2,3],[4,5,6],[7,8,9]]])\n",
        "print(another)\n",
        "print(another.shape)\n",
        "print(another.ndim)"
      ],
      "metadata": {
        "colab": {
          "base_uri": "https://localhost:8080/"
        },
        "id": "iMGR5DR66k66",
        "outputId": "2bf09c1d-843d-466e-c953-341231a917b3"
      },
      "execution_count": null,
      "outputs": [
        {
          "output_type": "stream",
          "name": "stdout",
          "text": [
            "[[[1 2 3]\n",
            "  [4 5 6]\n",
            "  [7 8 9]\n",
            "  [1 2 3]]\n",
            "\n",
            " [[7 8 9]\n",
            "  [1 2 3]\n",
            "  [4 5 6]\n",
            "  [7 8 9]]]\n",
            "(2, 4, 3)\n",
            "3\n"
          ]
        }
      ]
    },
    {
      "cell_type": "code",
      "source": [
        "# pandas "
      ],
      "metadata": {
        "id": "Y3u5IMNq7itV"
      },
      "execution_count": null,
      "outputs": []
    },
    {
      "cell_type": "code",
      "source": [
        "import pandas as pd"
      ],
      "metadata": {
        "id": "MMMFr3r6Aauy"
      },
      "execution_count": null,
      "outputs": []
    },
    {
      "cell_type": "code",
      "source": [
        "pandas_series = pd.Series([2,5,4,6],\n",
        "                          [5,6,7,8])\n",
        "print(pandas_series)"
      ],
      "metadata": {
        "colab": {
          "base_uri": "https://localhost:8080/"
        },
        "id": "lJg6WC88Ad8D",
        "outputId": "0452c027-4f64-431f-8797-bb9bfe45ca9f"
      },
      "execution_count": null,
      "outputs": [
        {
          "output_type": "stream",
          "name": "stdout",
          "text": [
            "5    2\n",
            "6    5\n",
            "7    4\n",
            "8    6\n",
            "dtype: int64\n"
          ]
        }
      ]
    },
    {
      "cell_type": "code",
      "source": [
        "#to change the index name\n",
        "panda_series = pd.Series([1,5,6,7,8], index= ['a','b','c','d','e'])\n",
        "print(panda_series)"
      ],
      "metadata": {
        "colab": {
          "base_uri": "https://localhost:8080/"
        },
        "id": "bL5fE5D8F9GH",
        "outputId": "ab99c6d7-6870-4c5a-d9f0-73302c12e93c"
      },
      "execution_count": null,
      "outputs": [
        {
          "output_type": "stream",
          "name": "stdout",
          "text": [
            "a    1\n",
            "b    5\n",
            "c    6\n",
            "d    7\n",
            "e    8\n",
            "dtype: int64\n"
          ]
        }
      ]
    },
    {
      "cell_type": "code",
      "source": [
        "print(panda_series[0])\n",
        "\n",
        "panda_series['a']"
      ],
      "metadata": {
        "colab": {
          "base_uri": "https://localhost:8080/"
        },
        "id": "ngLE7yd7HGee",
        "outputId": "b5497f85-7100-4d76-df73-ee6d57dee4df"
      },
      "execution_count": null,
      "outputs": [
        {
          "output_type": "stream",
          "name": "stdout",
          "text": [
            "1\n"
          ]
        },
        {
          "output_type": "execute_result",
          "data": {
            "text/plain": [
              "1"
            ]
          },
          "metadata": {},
          "execution_count": 109
        }
      ]
    },
    {
      "cell_type": "code",
      "source": [
        "# random integer with 5 rows and 4 columns\n",
        "some2d_array = np.random.randint(10,20,(5,4))\n",
        "panda_frame = pd.DataFrame(some2d_array , columns = ['one', 'two', 'three','four'])\n",
        "panda_frame"
      ],
      "metadata": {
        "colab": {
          "base_uri": "https://localhost:8080/",
          "height": 206
        },
        "id": "9liFmQ8bHnqK",
        "outputId": "599518ae-1894-42f7-d388-1a473ef3e02f"
      },
      "execution_count": null,
      "outputs": [
        {
          "output_type": "execute_result",
          "data": {
            "text/plain": [
              "   one  two  three  four\n",
              "0   11   14     12    17\n",
              "1   10   16     19    18\n",
              "2   19   13     13    14\n",
              "3   19   18     19    11\n",
              "4   19   17     11    18"
            ],
            "text/html": [
              "\n",
              "  <div id=\"df-d2b6c7e4-6b5e-48ec-9a43-8ee253ec4c81\">\n",
              "    <div class=\"colab-df-container\">\n",
              "      <div>\n",
              "<style scoped>\n",
              "    .dataframe tbody tr th:only-of-type {\n",
              "        vertical-align: middle;\n",
              "    }\n",
              "\n",
              "    .dataframe tbody tr th {\n",
              "        vertical-align: top;\n",
              "    }\n",
              "\n",
              "    .dataframe thead th {\n",
              "        text-align: right;\n",
              "    }\n",
              "</style>\n",
              "<table border=\"1\" class=\"dataframe\">\n",
              "  <thead>\n",
              "    <tr style=\"text-align: right;\">\n",
              "      <th></th>\n",
              "      <th>one</th>\n",
              "      <th>two</th>\n",
              "      <th>three</th>\n",
              "      <th>four</th>\n",
              "    </tr>\n",
              "  </thead>\n",
              "  <tbody>\n",
              "    <tr>\n",
              "      <th>0</th>\n",
              "      <td>11</td>\n",
              "      <td>14</td>\n",
              "      <td>12</td>\n",
              "      <td>17</td>\n",
              "    </tr>\n",
              "    <tr>\n",
              "      <th>1</th>\n",
              "      <td>10</td>\n",
              "      <td>16</td>\n",
              "      <td>19</td>\n",
              "      <td>18</td>\n",
              "    </tr>\n",
              "    <tr>\n",
              "      <th>2</th>\n",
              "      <td>19</td>\n",
              "      <td>13</td>\n",
              "      <td>13</td>\n",
              "      <td>14</td>\n",
              "    </tr>\n",
              "    <tr>\n",
              "      <th>3</th>\n",
              "      <td>19</td>\n",
              "      <td>18</td>\n",
              "      <td>19</td>\n",
              "      <td>11</td>\n",
              "    </tr>\n",
              "    <tr>\n",
              "      <th>4</th>\n",
              "      <td>19</td>\n",
              "      <td>17</td>\n",
              "      <td>11</td>\n",
              "      <td>18</td>\n",
              "    </tr>\n",
              "  </tbody>\n",
              "</table>\n",
              "</div>\n",
              "      <button class=\"colab-df-convert\" onclick=\"convertToInteractive('df-d2b6c7e4-6b5e-48ec-9a43-8ee253ec4c81')\"\n",
              "              title=\"Convert this dataframe to an interactive table.\"\n",
              "              style=\"display:none;\">\n",
              "        \n",
              "  <svg xmlns=\"http://www.w3.org/2000/svg\" height=\"24px\"viewBox=\"0 0 24 24\"\n",
              "       width=\"24px\">\n",
              "    <path d=\"M0 0h24v24H0V0z\" fill=\"none\"/>\n",
              "    <path d=\"M18.56 5.44l.94 2.06.94-2.06 2.06-.94-2.06-.94-.94-2.06-.94 2.06-2.06.94zm-11 1L8.5 8.5l.94-2.06 2.06-.94-2.06-.94L8.5 2.5l-.94 2.06-2.06.94zm10 10l.94 2.06.94-2.06 2.06-.94-2.06-.94-.94-2.06-.94 2.06-2.06.94z\"/><path d=\"M17.41 7.96l-1.37-1.37c-.4-.4-.92-.59-1.43-.59-.52 0-1.04.2-1.43.59L10.3 9.45l-7.72 7.72c-.78.78-.78 2.05 0 2.83L4 21.41c.39.39.9.59 1.41.59.51 0 1.02-.2 1.41-.59l7.78-7.78 2.81-2.81c.8-.78.8-2.07 0-2.86zM5.41 20L4 18.59l7.72-7.72 1.47 1.35L5.41 20z\"/>\n",
              "  </svg>\n",
              "      </button>\n",
              "      \n",
              "  <style>\n",
              "    .colab-df-container {\n",
              "      display:flex;\n",
              "      flex-wrap:wrap;\n",
              "      gap: 12px;\n",
              "    }\n",
              "\n",
              "    .colab-df-convert {\n",
              "      background-color: #E8F0FE;\n",
              "      border: none;\n",
              "      border-radius: 50%;\n",
              "      cursor: pointer;\n",
              "      display: none;\n",
              "      fill: #1967D2;\n",
              "      height: 32px;\n",
              "      padding: 0 0 0 0;\n",
              "      width: 32px;\n",
              "    }\n",
              "\n",
              "    .colab-df-convert:hover {\n",
              "      background-color: #E2EBFA;\n",
              "      box-shadow: 0px 1px 2px rgba(60, 64, 67, 0.3), 0px 1px 3px 1px rgba(60, 64, 67, 0.15);\n",
              "      fill: #174EA6;\n",
              "    }\n",
              "\n",
              "    [theme=dark] .colab-df-convert {\n",
              "      background-color: #3B4455;\n",
              "      fill: #D2E3FC;\n",
              "    }\n",
              "\n",
              "    [theme=dark] .colab-df-convert:hover {\n",
              "      background-color: #434B5C;\n",
              "      box-shadow: 0px 1px 3px 1px rgba(0, 0, 0, 0.15);\n",
              "      filter: drop-shadow(0px 1px 2px rgba(0, 0, 0, 0.3));\n",
              "      fill: #FFFFFF;\n",
              "    }\n",
              "  </style>\n",
              "\n",
              "      <script>\n",
              "        const buttonEl =\n",
              "          document.querySelector('#df-d2b6c7e4-6b5e-48ec-9a43-8ee253ec4c81 button.colab-df-convert');\n",
              "        buttonEl.style.display =\n",
              "          google.colab.kernel.accessAllowed ? 'block' : 'none';\n",
              "\n",
              "        async function convertToInteractive(key) {\n",
              "          const element = document.querySelector('#df-d2b6c7e4-6b5e-48ec-9a43-8ee253ec4c81');\n",
              "          const dataTable =\n",
              "            await google.colab.kernel.invokeFunction('convertToInteractive',\n",
              "                                                     [key], {});\n",
              "          if (!dataTable) return;\n",
              "\n",
              "          const docLinkHtml = 'Like what you see? Visit the ' +\n",
              "            '<a target=\"_blank\" href=https://colab.research.google.com/notebooks/data_table.ipynb>data table notebook</a>'\n",
              "            + ' to learn more about interactive tables.';\n",
              "          element.innerHTML = '';\n",
              "          dataTable['output_type'] = 'display_data';\n",
              "          await google.colab.output.renderOutput(dataTable, element);\n",
              "          const docLink = document.createElement('div');\n",
              "          docLink.innerHTML = docLinkHtml;\n",
              "          element.appendChild(docLink);\n",
              "        }\n",
              "      </script>\n",
              "    </div>\n",
              "  </div>\n",
              "  "
            ]
          },
          "metadata": {},
          "execution_count": 126
        }
      ]
    },
    {
      "cell_type": "code",
      "source": [
        "# random integer with 5 rows and 4 columns changed name of rows and columns\n",
        "some2d_array = np.random.randint(10,20,(5,4))\n",
        "print(some2d_array)\n",
        "panda_frame = pd.DataFrame(some2d_array , columns = ['one', 'two', 'three','four'], index=['a','b','c','d','e'])\n",
        "panda_frame"
      ],
      "metadata": {
        "colab": {
          "base_uri": "https://localhost:8080/",
          "height": 293
        },
        "id": "1S6E5voELO6u",
        "outputId": "53b44187-4dd9-4a2f-bd60-f38651b3f596"
      },
      "execution_count": null,
      "outputs": [
        {
          "output_type": "stream",
          "name": "stdout",
          "text": [
            "[[10 10 12 13]\n",
            " [13 18 13 11]\n",
            " [14 10 10 11]\n",
            " [10 10 19 16]\n",
            " [19 10 19 19]]\n"
          ]
        },
        {
          "output_type": "execute_result",
          "data": {
            "text/plain": [
              "   one  two  three  four\n",
              "a   10   10     12    13\n",
              "b   13   18     13    11\n",
              "c   14   10     10    11\n",
              "d   10   10     19    16\n",
              "e   19   10     19    19"
            ],
            "text/html": [
              "\n",
              "  <div id=\"df-1e807ca2-f2d6-4aab-96c4-5544e88b0af3\">\n",
              "    <div class=\"colab-df-container\">\n",
              "      <div>\n",
              "<style scoped>\n",
              "    .dataframe tbody tr th:only-of-type {\n",
              "        vertical-align: middle;\n",
              "    }\n",
              "\n",
              "    .dataframe tbody tr th {\n",
              "        vertical-align: top;\n",
              "    }\n",
              "\n",
              "    .dataframe thead th {\n",
              "        text-align: right;\n",
              "    }\n",
              "</style>\n",
              "<table border=\"1\" class=\"dataframe\">\n",
              "  <thead>\n",
              "    <tr style=\"text-align: right;\">\n",
              "      <th></th>\n",
              "      <th>one</th>\n",
              "      <th>two</th>\n",
              "      <th>three</th>\n",
              "      <th>four</th>\n",
              "    </tr>\n",
              "  </thead>\n",
              "  <tbody>\n",
              "    <tr>\n",
              "      <th>a</th>\n",
              "      <td>10</td>\n",
              "      <td>10</td>\n",
              "      <td>12</td>\n",
              "      <td>13</td>\n",
              "    </tr>\n",
              "    <tr>\n",
              "      <th>b</th>\n",
              "      <td>13</td>\n",
              "      <td>18</td>\n",
              "      <td>13</td>\n",
              "      <td>11</td>\n",
              "    </tr>\n",
              "    <tr>\n",
              "      <th>c</th>\n",
              "      <td>14</td>\n",
              "      <td>10</td>\n",
              "      <td>10</td>\n",
              "      <td>11</td>\n",
              "    </tr>\n",
              "    <tr>\n",
              "      <th>d</th>\n",
              "      <td>10</td>\n",
              "      <td>10</td>\n",
              "      <td>19</td>\n",
              "      <td>16</td>\n",
              "    </tr>\n",
              "    <tr>\n",
              "      <th>e</th>\n",
              "      <td>19</td>\n",
              "      <td>10</td>\n",
              "      <td>19</td>\n",
              "      <td>19</td>\n",
              "    </tr>\n",
              "  </tbody>\n",
              "</table>\n",
              "</div>\n",
              "      <button class=\"colab-df-convert\" onclick=\"convertToInteractive('df-1e807ca2-f2d6-4aab-96c4-5544e88b0af3')\"\n",
              "              title=\"Convert this dataframe to an interactive table.\"\n",
              "              style=\"display:none;\">\n",
              "        \n",
              "  <svg xmlns=\"http://www.w3.org/2000/svg\" height=\"24px\"viewBox=\"0 0 24 24\"\n",
              "       width=\"24px\">\n",
              "    <path d=\"M0 0h24v24H0V0z\" fill=\"none\"/>\n",
              "    <path d=\"M18.56 5.44l.94 2.06.94-2.06 2.06-.94-2.06-.94-.94-2.06-.94 2.06-2.06.94zm-11 1L8.5 8.5l.94-2.06 2.06-.94-2.06-.94L8.5 2.5l-.94 2.06-2.06.94zm10 10l.94 2.06.94-2.06 2.06-.94-2.06-.94-.94-2.06-.94 2.06-2.06.94z\"/><path d=\"M17.41 7.96l-1.37-1.37c-.4-.4-.92-.59-1.43-.59-.52 0-1.04.2-1.43.59L10.3 9.45l-7.72 7.72c-.78.78-.78 2.05 0 2.83L4 21.41c.39.39.9.59 1.41.59.51 0 1.02-.2 1.41-.59l7.78-7.78 2.81-2.81c.8-.78.8-2.07 0-2.86zM5.41 20L4 18.59l7.72-7.72 1.47 1.35L5.41 20z\"/>\n",
              "  </svg>\n",
              "      </button>\n",
              "      \n",
              "  <style>\n",
              "    .colab-df-container {\n",
              "      display:flex;\n",
              "      flex-wrap:wrap;\n",
              "      gap: 12px;\n",
              "    }\n",
              "\n",
              "    .colab-df-convert {\n",
              "      background-color: #E8F0FE;\n",
              "      border: none;\n",
              "      border-radius: 50%;\n",
              "      cursor: pointer;\n",
              "      display: none;\n",
              "      fill: #1967D2;\n",
              "      height: 32px;\n",
              "      padding: 0 0 0 0;\n",
              "      width: 32px;\n",
              "    }\n",
              "\n",
              "    .colab-df-convert:hover {\n",
              "      background-color: #E2EBFA;\n",
              "      box-shadow: 0px 1px 2px rgba(60, 64, 67, 0.3), 0px 1px 3px 1px rgba(60, 64, 67, 0.15);\n",
              "      fill: #174EA6;\n",
              "    }\n",
              "\n",
              "    [theme=dark] .colab-df-convert {\n",
              "      background-color: #3B4455;\n",
              "      fill: #D2E3FC;\n",
              "    }\n",
              "\n",
              "    [theme=dark] .colab-df-convert:hover {\n",
              "      background-color: #434B5C;\n",
              "      box-shadow: 0px 1px 3px 1px rgba(0, 0, 0, 0.15);\n",
              "      filter: drop-shadow(0px 1px 2px rgba(0, 0, 0, 0.3));\n",
              "      fill: #FFFFFF;\n",
              "    }\n",
              "  </style>\n",
              "\n",
              "      <script>\n",
              "        const buttonEl =\n",
              "          document.querySelector('#df-1e807ca2-f2d6-4aab-96c4-5544e88b0af3 button.colab-df-convert');\n",
              "        buttonEl.style.display =\n",
              "          google.colab.kernel.accessAllowed ? 'block' : 'none';\n",
              "\n",
              "        async function convertToInteractive(key) {\n",
              "          const element = document.querySelector('#df-1e807ca2-f2d6-4aab-96c4-5544e88b0af3');\n",
              "          const dataTable =\n",
              "            await google.colab.kernel.invokeFunction('convertToInteractive',\n",
              "                                                     [key], {});\n",
              "          if (!dataTable) return;\n",
              "\n",
              "          const docLinkHtml = 'Like what you see? Visit the ' +\n",
              "            '<a target=\"_blank\" href=https://colab.research.google.com/notebooks/data_table.ipynb>data table notebook</a>'\n",
              "            + ' to learn more about interactive tables.';\n",
              "          element.innerHTML = '';\n",
              "          dataTable['output_type'] = 'display_data';\n",
              "          await google.colab.output.renderOutput(dataTable, element);\n",
              "          const docLink = document.createElement('div');\n",
              "          docLink.innerHTML = docLinkHtml;\n",
              "          element.appendChild(docLink);\n",
              "        }\n",
              "      </script>\n",
              "    </div>\n",
              "  </div>\n",
              "  "
            ]
          },
          "metadata": {},
          "execution_count": 7
        }
      ]
    },
    {
      "cell_type": "code",
      "source": [
        "# list of list\n",
        "listoflist = [['shubham',10],['rushabhm',12]]\n",
        "pd.DataFrame(listoflist)"
      ],
      "metadata": {
        "colab": {
          "base_uri": "https://localhost:8080/",
          "height": 112
        },
        "id": "njFHUSzTLf8a",
        "outputId": "b2ec3d88-8eff-46b5-e687-1df60d38b7c3"
      },
      "execution_count": null,
      "outputs": [
        {
          "output_type": "execute_result",
          "data": {
            "text/plain": [
              "          0   1\n",
              "0   shubham  10\n",
              "1  rushabhm  12"
            ],
            "text/html": [
              "\n",
              "  <div id=\"df-5fe979c8-3ce2-46f4-826f-39675f52121a\">\n",
              "    <div class=\"colab-df-container\">\n",
              "      <div>\n",
              "<style scoped>\n",
              "    .dataframe tbody tr th:only-of-type {\n",
              "        vertical-align: middle;\n",
              "    }\n",
              "\n",
              "    .dataframe tbody tr th {\n",
              "        vertical-align: top;\n",
              "    }\n",
              "\n",
              "    .dataframe thead th {\n",
              "        text-align: right;\n",
              "    }\n",
              "</style>\n",
              "<table border=\"1\" class=\"dataframe\">\n",
              "  <thead>\n",
              "    <tr style=\"text-align: right;\">\n",
              "      <th></th>\n",
              "      <th>0</th>\n",
              "      <th>1</th>\n",
              "    </tr>\n",
              "  </thead>\n",
              "  <tbody>\n",
              "    <tr>\n",
              "      <th>0</th>\n",
              "      <td>shubham</td>\n",
              "      <td>10</td>\n",
              "    </tr>\n",
              "    <tr>\n",
              "      <th>1</th>\n",
              "      <td>rushabhm</td>\n",
              "      <td>12</td>\n",
              "    </tr>\n",
              "  </tbody>\n",
              "</table>\n",
              "</div>\n",
              "      <button class=\"colab-df-convert\" onclick=\"convertToInteractive('df-5fe979c8-3ce2-46f4-826f-39675f52121a')\"\n",
              "              title=\"Convert this dataframe to an interactive table.\"\n",
              "              style=\"display:none;\">\n",
              "        \n",
              "  <svg xmlns=\"http://www.w3.org/2000/svg\" height=\"24px\"viewBox=\"0 0 24 24\"\n",
              "       width=\"24px\">\n",
              "    <path d=\"M0 0h24v24H0V0z\" fill=\"none\"/>\n",
              "    <path d=\"M18.56 5.44l.94 2.06.94-2.06 2.06-.94-2.06-.94-.94-2.06-.94 2.06-2.06.94zm-11 1L8.5 8.5l.94-2.06 2.06-.94-2.06-.94L8.5 2.5l-.94 2.06-2.06.94zm10 10l.94 2.06.94-2.06 2.06-.94-2.06-.94-.94-2.06-.94 2.06-2.06.94z\"/><path d=\"M17.41 7.96l-1.37-1.37c-.4-.4-.92-.59-1.43-.59-.52 0-1.04.2-1.43.59L10.3 9.45l-7.72 7.72c-.78.78-.78 2.05 0 2.83L4 21.41c.39.39.9.59 1.41.59.51 0 1.02-.2 1.41-.59l7.78-7.78 2.81-2.81c.8-.78.8-2.07 0-2.86zM5.41 20L4 18.59l7.72-7.72 1.47 1.35L5.41 20z\"/>\n",
              "  </svg>\n",
              "      </button>\n",
              "      \n",
              "  <style>\n",
              "    .colab-df-container {\n",
              "      display:flex;\n",
              "      flex-wrap:wrap;\n",
              "      gap: 12px;\n",
              "    }\n",
              "\n",
              "    .colab-df-convert {\n",
              "      background-color: #E8F0FE;\n",
              "      border: none;\n",
              "      border-radius: 50%;\n",
              "      cursor: pointer;\n",
              "      display: none;\n",
              "      fill: #1967D2;\n",
              "      height: 32px;\n",
              "      padding: 0 0 0 0;\n",
              "      width: 32px;\n",
              "    }\n",
              "\n",
              "    .colab-df-convert:hover {\n",
              "      background-color: #E2EBFA;\n",
              "      box-shadow: 0px 1px 2px rgba(60, 64, 67, 0.3), 0px 1px 3px 1px rgba(60, 64, 67, 0.15);\n",
              "      fill: #174EA6;\n",
              "    }\n",
              "\n",
              "    [theme=dark] .colab-df-convert {\n",
              "      background-color: #3B4455;\n",
              "      fill: #D2E3FC;\n",
              "    }\n",
              "\n",
              "    [theme=dark] .colab-df-convert:hover {\n",
              "      background-color: #434B5C;\n",
              "      box-shadow: 0px 1px 3px 1px rgba(0, 0, 0, 0.15);\n",
              "      filter: drop-shadow(0px 1px 2px rgba(0, 0, 0, 0.3));\n",
              "      fill: #FFFFFF;\n",
              "    }\n",
              "  </style>\n",
              "\n",
              "      <script>\n",
              "        const buttonEl =\n",
              "          document.querySelector('#df-5fe979c8-3ce2-46f4-826f-39675f52121a button.colab-df-convert');\n",
              "        buttonEl.style.display =\n",
              "          google.colab.kernel.accessAllowed ? 'block' : 'none';\n",
              "\n",
              "        async function convertToInteractive(key) {\n",
              "          const element = document.querySelector('#df-5fe979c8-3ce2-46f4-826f-39675f52121a');\n",
              "          const dataTable =\n",
              "            await google.colab.kernel.invokeFunction('convertToInteractive',\n",
              "                                                     [key], {});\n",
              "          if (!dataTable) return;\n",
              "\n",
              "          const docLinkHtml = 'Like what you see? Visit the ' +\n",
              "            '<a target=\"_blank\" href=https://colab.research.google.com/notebooks/data_table.ipynb>data table notebook</a>'\n",
              "            + ' to learn more about interactive tables.';\n",
              "          element.innerHTML = '';\n",
              "          dataTable['output_type'] = 'display_data';\n",
              "          await google.colab.output.renderOutput(dataTable, element);\n",
              "          const docLink = document.createElement('div');\n",
              "          docLink.innerHTML = docLinkHtml;\n",
              "          element.appendChild(docLink);\n",
              "        }\n",
              "      </script>\n",
              "    </div>\n",
              "  </div>\n",
              "  "
            ]
          },
          "metadata": {},
          "execution_count": 137
        }
      ]
    },
    {
      "cell_type": "code",
      "source": [
        "#pandas on ditctionary keys will be the name of column and the values will be arrange in rows\n",
        "dictionary = {'students': [12,13,14], 'marks':[10,12,13]}\n",
        "pd.DataFrame(dictionary)\n"
      ],
      "metadata": {
        "colab": {
          "base_uri": "https://localhost:8080/",
          "height": 143
        },
        "id": "8fes720fNp9v",
        "outputId": "72285214-d129-43ad-fcb7-61b08f8e285f"
      },
      "execution_count": null,
      "outputs": [
        {
          "output_type": "execute_result",
          "data": {
            "text/plain": [
              "   students  marks\n",
              "0        12     10\n",
              "1        13     12\n",
              "2        14     13"
            ],
            "text/html": [
              "\n",
              "  <div id=\"df-bd5f2b10-ba72-4b9e-9853-b0aa4d22f0fc\">\n",
              "    <div class=\"colab-df-container\">\n",
              "      <div>\n",
              "<style scoped>\n",
              "    .dataframe tbody tr th:only-of-type {\n",
              "        vertical-align: middle;\n",
              "    }\n",
              "\n",
              "    .dataframe tbody tr th {\n",
              "        vertical-align: top;\n",
              "    }\n",
              "\n",
              "    .dataframe thead th {\n",
              "        text-align: right;\n",
              "    }\n",
              "</style>\n",
              "<table border=\"1\" class=\"dataframe\">\n",
              "  <thead>\n",
              "    <tr style=\"text-align: right;\">\n",
              "      <th></th>\n",
              "      <th>students</th>\n",
              "      <th>marks</th>\n",
              "    </tr>\n",
              "  </thead>\n",
              "  <tbody>\n",
              "    <tr>\n",
              "      <th>0</th>\n",
              "      <td>12</td>\n",
              "      <td>10</td>\n",
              "    </tr>\n",
              "    <tr>\n",
              "      <th>1</th>\n",
              "      <td>13</td>\n",
              "      <td>12</td>\n",
              "    </tr>\n",
              "    <tr>\n",
              "      <th>2</th>\n",
              "      <td>14</td>\n",
              "      <td>13</td>\n",
              "    </tr>\n",
              "  </tbody>\n",
              "</table>\n",
              "</div>\n",
              "      <button class=\"colab-df-convert\" onclick=\"convertToInteractive('df-bd5f2b10-ba72-4b9e-9853-b0aa4d22f0fc')\"\n",
              "              title=\"Convert this dataframe to an interactive table.\"\n",
              "              style=\"display:none;\">\n",
              "        \n",
              "  <svg xmlns=\"http://www.w3.org/2000/svg\" height=\"24px\"viewBox=\"0 0 24 24\"\n",
              "       width=\"24px\">\n",
              "    <path d=\"M0 0h24v24H0V0z\" fill=\"none\"/>\n",
              "    <path d=\"M18.56 5.44l.94 2.06.94-2.06 2.06-.94-2.06-.94-.94-2.06-.94 2.06-2.06.94zm-11 1L8.5 8.5l.94-2.06 2.06-.94-2.06-.94L8.5 2.5l-.94 2.06-2.06.94zm10 10l.94 2.06.94-2.06 2.06-.94-2.06-.94-.94-2.06-.94 2.06-2.06.94z\"/><path d=\"M17.41 7.96l-1.37-1.37c-.4-.4-.92-.59-1.43-.59-.52 0-1.04.2-1.43.59L10.3 9.45l-7.72 7.72c-.78.78-.78 2.05 0 2.83L4 21.41c.39.39.9.59 1.41.59.51 0 1.02-.2 1.41-.59l7.78-7.78 2.81-2.81c.8-.78.8-2.07 0-2.86zM5.41 20L4 18.59l7.72-7.72 1.47 1.35L5.41 20z\"/>\n",
              "  </svg>\n",
              "      </button>\n",
              "      \n",
              "  <style>\n",
              "    .colab-df-container {\n",
              "      display:flex;\n",
              "      flex-wrap:wrap;\n",
              "      gap: 12px;\n",
              "    }\n",
              "\n",
              "    .colab-df-convert {\n",
              "      background-color: #E8F0FE;\n",
              "      border: none;\n",
              "      border-radius: 50%;\n",
              "      cursor: pointer;\n",
              "      display: none;\n",
              "      fill: #1967D2;\n",
              "      height: 32px;\n",
              "      padding: 0 0 0 0;\n",
              "      width: 32px;\n",
              "    }\n",
              "\n",
              "    .colab-df-convert:hover {\n",
              "      background-color: #E2EBFA;\n",
              "      box-shadow: 0px 1px 2px rgba(60, 64, 67, 0.3), 0px 1px 3px 1px rgba(60, 64, 67, 0.15);\n",
              "      fill: #174EA6;\n",
              "    }\n",
              "\n",
              "    [theme=dark] .colab-df-convert {\n",
              "      background-color: #3B4455;\n",
              "      fill: #D2E3FC;\n",
              "    }\n",
              "\n",
              "    [theme=dark] .colab-df-convert:hover {\n",
              "      background-color: #434B5C;\n",
              "      box-shadow: 0px 1px 3px 1px rgba(0, 0, 0, 0.15);\n",
              "      filter: drop-shadow(0px 1px 2px rgba(0, 0, 0, 0.3));\n",
              "      fill: #FFFFFF;\n",
              "    }\n",
              "  </style>\n",
              "\n",
              "      <script>\n",
              "        const buttonEl =\n",
              "          document.querySelector('#df-bd5f2b10-ba72-4b9e-9853-b0aa4d22f0fc button.colab-df-convert');\n",
              "        buttonEl.style.display =\n",
              "          google.colab.kernel.accessAllowed ? 'block' : 'none';\n",
              "\n",
              "        async function convertToInteractive(key) {\n",
              "          const element = document.querySelector('#df-bd5f2b10-ba72-4b9e-9853-b0aa4d22f0fc');\n",
              "          const dataTable =\n",
              "            await google.colab.kernel.invokeFunction('convertToInteractive',\n",
              "                                                     [key], {});\n",
              "          if (!dataTable) return;\n",
              "\n",
              "          const docLinkHtml = 'Like what you see? Visit the ' +\n",
              "            '<a target=\"_blank\" href=https://colab.research.google.com/notebooks/data_table.ipynb>data table notebook</a>'\n",
              "            + ' to learn more about interactive tables.';\n",
              "          element.innerHTML = '';\n",
              "          dataTable['output_type'] = 'display_data';\n",
              "          await google.colab.output.renderOutput(dataTable, element);\n",
              "          const docLink = document.createElement('div');\n",
              "          docLink.innerHTML = docLinkHtml;\n",
              "          element.appendChild(docLink);\n",
              "        }\n",
              "      </script>\n",
              "    </div>\n",
              "  </div>\n",
              "  "
            ]
          },
          "metadata": {},
          "execution_count": 22
        }
      ]
    },
    {
      "cell_type": "code",
      "source": [
        "#for list of dictionaries\n",
        "list_of_dict =[{'a':1,'b':2,'c':3},{'a':4,'b':5,'c':6 }]\n",
        "pd.DataFrame(list_of_dict)"
      ],
      "metadata": {
        "id": "UvmgsgC3OzqN",
        "colab": {
          "base_uri": "https://localhost:8080/",
          "height": 112
        },
        "outputId": "c464fb37-d20b-4e83-8c59-dc3974d25bdb"
      },
      "execution_count": null,
      "outputs": [
        {
          "output_type": "execute_result",
          "data": {
            "text/plain": [
              "   a  b  c\n",
              "0  1  2  3\n",
              "1  4  5  6"
            ],
            "text/html": [
              "\n",
              "  <div id=\"df-bb09227c-7fac-4e43-a47d-71e42b9ff6d4\">\n",
              "    <div class=\"colab-df-container\">\n",
              "      <div>\n",
              "<style scoped>\n",
              "    .dataframe tbody tr th:only-of-type {\n",
              "        vertical-align: middle;\n",
              "    }\n",
              "\n",
              "    .dataframe tbody tr th {\n",
              "        vertical-align: top;\n",
              "    }\n",
              "\n",
              "    .dataframe thead th {\n",
              "        text-align: right;\n",
              "    }\n",
              "</style>\n",
              "<table border=\"1\" class=\"dataframe\">\n",
              "  <thead>\n",
              "    <tr style=\"text-align: right;\">\n",
              "      <th></th>\n",
              "      <th>a</th>\n",
              "      <th>b</th>\n",
              "      <th>c</th>\n",
              "    </tr>\n",
              "  </thead>\n",
              "  <tbody>\n",
              "    <tr>\n",
              "      <th>0</th>\n",
              "      <td>1</td>\n",
              "      <td>2</td>\n",
              "      <td>3</td>\n",
              "    </tr>\n",
              "    <tr>\n",
              "      <th>1</th>\n",
              "      <td>4</td>\n",
              "      <td>5</td>\n",
              "      <td>6</td>\n",
              "    </tr>\n",
              "  </tbody>\n",
              "</table>\n",
              "</div>\n",
              "      <button class=\"colab-df-convert\" onclick=\"convertToInteractive('df-bb09227c-7fac-4e43-a47d-71e42b9ff6d4')\"\n",
              "              title=\"Convert this dataframe to an interactive table.\"\n",
              "              style=\"display:none;\">\n",
              "        \n",
              "  <svg xmlns=\"http://www.w3.org/2000/svg\" height=\"24px\"viewBox=\"0 0 24 24\"\n",
              "       width=\"24px\">\n",
              "    <path d=\"M0 0h24v24H0V0z\" fill=\"none\"/>\n",
              "    <path d=\"M18.56 5.44l.94 2.06.94-2.06 2.06-.94-2.06-.94-.94-2.06-.94 2.06-2.06.94zm-11 1L8.5 8.5l.94-2.06 2.06-.94-2.06-.94L8.5 2.5l-.94 2.06-2.06.94zm10 10l.94 2.06.94-2.06 2.06-.94-2.06-.94-.94-2.06-.94 2.06-2.06.94z\"/><path d=\"M17.41 7.96l-1.37-1.37c-.4-.4-.92-.59-1.43-.59-.52 0-1.04.2-1.43.59L10.3 9.45l-7.72 7.72c-.78.78-.78 2.05 0 2.83L4 21.41c.39.39.9.59 1.41.59.51 0 1.02-.2 1.41-.59l7.78-7.78 2.81-2.81c.8-.78.8-2.07 0-2.86zM5.41 20L4 18.59l7.72-7.72 1.47 1.35L5.41 20z\"/>\n",
              "  </svg>\n",
              "      </button>\n",
              "      \n",
              "  <style>\n",
              "    .colab-df-container {\n",
              "      display:flex;\n",
              "      flex-wrap:wrap;\n",
              "      gap: 12px;\n",
              "    }\n",
              "\n",
              "    .colab-df-convert {\n",
              "      background-color: #E8F0FE;\n",
              "      border: none;\n",
              "      border-radius: 50%;\n",
              "      cursor: pointer;\n",
              "      display: none;\n",
              "      fill: #1967D2;\n",
              "      height: 32px;\n",
              "      padding: 0 0 0 0;\n",
              "      width: 32px;\n",
              "    }\n",
              "\n",
              "    .colab-df-convert:hover {\n",
              "      background-color: #E2EBFA;\n",
              "      box-shadow: 0px 1px 2px rgba(60, 64, 67, 0.3), 0px 1px 3px 1px rgba(60, 64, 67, 0.15);\n",
              "      fill: #174EA6;\n",
              "    }\n",
              "\n",
              "    [theme=dark] .colab-df-convert {\n",
              "      background-color: #3B4455;\n",
              "      fill: #D2E3FC;\n",
              "    }\n",
              "\n",
              "    [theme=dark] .colab-df-convert:hover {\n",
              "      background-color: #434B5C;\n",
              "      box-shadow: 0px 1px 3px 1px rgba(0, 0, 0, 0.15);\n",
              "      filter: drop-shadow(0px 1px 2px rgba(0, 0, 0, 0.3));\n",
              "      fill: #FFFFFF;\n",
              "    }\n",
              "  </style>\n",
              "\n",
              "      <script>\n",
              "        const buttonEl =\n",
              "          document.querySelector('#df-bb09227c-7fac-4e43-a47d-71e42b9ff6d4 button.colab-df-convert');\n",
              "        buttonEl.style.display =\n",
              "          google.colab.kernel.accessAllowed ? 'block' : 'none';\n",
              "\n",
              "        async function convertToInteractive(key) {\n",
              "          const element = document.querySelector('#df-bb09227c-7fac-4e43-a47d-71e42b9ff6d4');\n",
              "          const dataTable =\n",
              "            await google.colab.kernel.invokeFunction('convertToInteractive',\n",
              "                                                     [key], {});\n",
              "          if (!dataTable) return;\n",
              "\n",
              "          const docLinkHtml = 'Like what you see? Visit the ' +\n",
              "            '<a target=\"_blank\" href=https://colab.research.google.com/notebooks/data_table.ipynb>data table notebook</a>'\n",
              "            + ' to learn more about interactive tables.';\n",
              "          element.innerHTML = '';\n",
              "          dataTable['output_type'] = 'display_data';\n",
              "          await google.colab.output.renderOutput(dataTable, element);\n",
              "          const docLink = document.createElement('div');\n",
              "          docLink.innerHTML = docLinkHtml;\n",
              "          element.appendChild(docLink);\n",
              "        }\n",
              "      </script>\n",
              "    </div>\n",
              "  </div>\n",
              "  "
            ]
          },
          "metadata": {},
          "execution_count": 31
        }
      ]
    },
    {
      "cell_type": "code",
      "source": [
        "#for list of dictionaries  with unequal arg or when thw keys are different in dict\n",
        "list_of_dict =[{'a':1,'b':2,'c':3},{'a':4,'b':5,'c':6 , 'd': 8}]\n",
        "pd.DataFrame(list_of_dict)"
      ],
      "metadata": {
        "colab": {
          "base_uri": "https://localhost:8080/",
          "height": 112
        },
        "id": "A2NbuLyLoZrr",
        "outputId": "a601e2c8-0e9b-4430-fceb-50c3514bec20"
      },
      "execution_count": null,
      "outputs": [
        {
          "output_type": "execute_result",
          "data": {
            "text/plain": [
              "   a  b  c    d\n",
              "0  1  2  3  NaN\n",
              "1  4  5  6  8.0"
            ],
            "text/html": [
              "\n",
              "  <div id=\"df-c9651e97-2350-4840-8f1e-402199c325c6\">\n",
              "    <div class=\"colab-df-container\">\n",
              "      <div>\n",
              "<style scoped>\n",
              "    .dataframe tbody tr th:only-of-type {\n",
              "        vertical-align: middle;\n",
              "    }\n",
              "\n",
              "    .dataframe tbody tr th {\n",
              "        vertical-align: top;\n",
              "    }\n",
              "\n",
              "    .dataframe thead th {\n",
              "        text-align: right;\n",
              "    }\n",
              "</style>\n",
              "<table border=\"1\" class=\"dataframe\">\n",
              "  <thead>\n",
              "    <tr style=\"text-align: right;\">\n",
              "      <th></th>\n",
              "      <th>a</th>\n",
              "      <th>b</th>\n",
              "      <th>c</th>\n",
              "      <th>d</th>\n",
              "    </tr>\n",
              "  </thead>\n",
              "  <tbody>\n",
              "    <tr>\n",
              "      <th>0</th>\n",
              "      <td>1</td>\n",
              "      <td>2</td>\n",
              "      <td>3</td>\n",
              "      <td>NaN</td>\n",
              "    </tr>\n",
              "    <tr>\n",
              "      <th>1</th>\n",
              "      <td>4</td>\n",
              "      <td>5</td>\n",
              "      <td>6</td>\n",
              "      <td>8.0</td>\n",
              "    </tr>\n",
              "  </tbody>\n",
              "</table>\n",
              "</div>\n",
              "      <button class=\"colab-df-convert\" onclick=\"convertToInteractive('df-c9651e97-2350-4840-8f1e-402199c325c6')\"\n",
              "              title=\"Convert this dataframe to an interactive table.\"\n",
              "              style=\"display:none;\">\n",
              "        \n",
              "  <svg xmlns=\"http://www.w3.org/2000/svg\" height=\"24px\"viewBox=\"0 0 24 24\"\n",
              "       width=\"24px\">\n",
              "    <path d=\"M0 0h24v24H0V0z\" fill=\"none\"/>\n",
              "    <path d=\"M18.56 5.44l.94 2.06.94-2.06 2.06-.94-2.06-.94-.94-2.06-.94 2.06-2.06.94zm-11 1L8.5 8.5l.94-2.06 2.06-.94-2.06-.94L8.5 2.5l-.94 2.06-2.06.94zm10 10l.94 2.06.94-2.06 2.06-.94-2.06-.94-.94-2.06-.94 2.06-2.06.94z\"/><path d=\"M17.41 7.96l-1.37-1.37c-.4-.4-.92-.59-1.43-.59-.52 0-1.04.2-1.43.59L10.3 9.45l-7.72 7.72c-.78.78-.78 2.05 0 2.83L4 21.41c.39.39.9.59 1.41.59.51 0 1.02-.2 1.41-.59l7.78-7.78 2.81-2.81c.8-.78.8-2.07 0-2.86zM5.41 20L4 18.59l7.72-7.72 1.47 1.35L5.41 20z\"/>\n",
              "  </svg>\n",
              "      </button>\n",
              "      \n",
              "  <style>\n",
              "    .colab-df-container {\n",
              "      display:flex;\n",
              "      flex-wrap:wrap;\n",
              "      gap: 12px;\n",
              "    }\n",
              "\n",
              "    .colab-df-convert {\n",
              "      background-color: #E8F0FE;\n",
              "      border: none;\n",
              "      border-radius: 50%;\n",
              "      cursor: pointer;\n",
              "      display: none;\n",
              "      fill: #1967D2;\n",
              "      height: 32px;\n",
              "      padding: 0 0 0 0;\n",
              "      width: 32px;\n",
              "    }\n",
              "\n",
              "    .colab-df-convert:hover {\n",
              "      background-color: #E2EBFA;\n",
              "      box-shadow: 0px 1px 2px rgba(60, 64, 67, 0.3), 0px 1px 3px 1px rgba(60, 64, 67, 0.15);\n",
              "      fill: #174EA6;\n",
              "    }\n",
              "\n",
              "    [theme=dark] .colab-df-convert {\n",
              "      background-color: #3B4455;\n",
              "      fill: #D2E3FC;\n",
              "    }\n",
              "\n",
              "    [theme=dark] .colab-df-convert:hover {\n",
              "      background-color: #434B5C;\n",
              "      box-shadow: 0px 1px 3px 1px rgba(0, 0, 0, 0.15);\n",
              "      filter: drop-shadow(0px 1px 2px rgba(0, 0, 0, 0.3));\n",
              "      fill: #FFFFFF;\n",
              "    }\n",
              "  </style>\n",
              "\n",
              "      <script>\n",
              "        const buttonEl =\n",
              "          document.querySelector('#df-c9651e97-2350-4840-8f1e-402199c325c6 button.colab-df-convert');\n",
              "        buttonEl.style.display =\n",
              "          google.colab.kernel.accessAllowed ? 'block' : 'none';\n",
              "\n",
              "        async function convertToInteractive(key) {\n",
              "          const element = document.querySelector('#df-c9651e97-2350-4840-8f1e-402199c325c6');\n",
              "          const dataTable =\n",
              "            await google.colab.kernel.invokeFunction('convertToInteractive',\n",
              "                                                     [key], {});\n",
              "          if (!dataTable) return;\n",
              "\n",
              "          const docLinkHtml = 'Like what you see? Visit the ' +\n",
              "            '<a target=\"_blank\" href=https://colab.research.google.com/notebooks/data_table.ipynb>data table notebook</a>'\n",
              "            + ' to learn more about interactive tables.';\n",
              "          element.innerHTML = '';\n",
              "          dataTable['output_type'] = 'display_data';\n",
              "          await google.colab.output.renderOutput(dataTable, element);\n",
              "          const docLink = document.createElement('div');\n",
              "          docLink.innerHTML = docLinkHtml;\n",
              "          element.appendChild(docLink);\n",
              "        }\n",
              "      </script>\n",
              "    </div>\n",
              "  </div>\n",
              "  "
            ]
          },
          "metadata": {},
          "execution_count": 34
        }
      ]
    },
    {
      "cell_type": "code",
      "source": [
        "#list of list in dataframe\n",
        "list_of_list = [['shubham','rushabh','abhishek'],[1,2,3],[4,5,6]]\n",
        "print(np.array(list_of_list))\n",
        "pd.DataFrame(list_of_list,index = ['a','b','c'])"
      ],
      "metadata": {
        "colab": {
          "base_uri": "https://localhost:8080/",
          "height": 195
        },
        "id": "bLK_YR-kpJwA",
        "outputId": "8ee70507-91b3-43c9-be32-8865c718fe5b"
      },
      "execution_count": null,
      "outputs": [
        {
          "output_type": "stream",
          "name": "stdout",
          "text": [
            "[['shubham' 'rushabh' 'abhishek']\n",
            " ['1' '2' '3']\n",
            " ['4' '5' '6']]\n"
          ]
        },
        {
          "output_type": "execute_result",
          "data": {
            "text/plain": [
              "         0        1         2\n",
              "a  shubham  rushabh  abhishek\n",
              "b        1        2         3\n",
              "c        4        5         6"
            ],
            "text/html": [
              "\n",
              "  <div id=\"df-81f68969-e450-48d4-9788-b0590f521255\">\n",
              "    <div class=\"colab-df-container\">\n",
              "      <div>\n",
              "<style scoped>\n",
              "    .dataframe tbody tr th:only-of-type {\n",
              "        vertical-align: middle;\n",
              "    }\n",
              "\n",
              "    .dataframe tbody tr th {\n",
              "        vertical-align: top;\n",
              "    }\n",
              "\n",
              "    .dataframe thead th {\n",
              "        text-align: right;\n",
              "    }\n",
              "</style>\n",
              "<table border=\"1\" class=\"dataframe\">\n",
              "  <thead>\n",
              "    <tr style=\"text-align: right;\">\n",
              "      <th></th>\n",
              "      <th>0</th>\n",
              "      <th>1</th>\n",
              "      <th>2</th>\n",
              "    </tr>\n",
              "  </thead>\n",
              "  <tbody>\n",
              "    <tr>\n",
              "      <th>a</th>\n",
              "      <td>shubham</td>\n",
              "      <td>rushabh</td>\n",
              "      <td>abhishek</td>\n",
              "    </tr>\n",
              "    <tr>\n",
              "      <th>b</th>\n",
              "      <td>1</td>\n",
              "      <td>2</td>\n",
              "      <td>3</td>\n",
              "    </tr>\n",
              "    <tr>\n",
              "      <th>c</th>\n",
              "      <td>4</td>\n",
              "      <td>5</td>\n",
              "      <td>6</td>\n",
              "    </tr>\n",
              "  </tbody>\n",
              "</table>\n",
              "</div>\n",
              "      <button class=\"colab-df-convert\" onclick=\"convertToInteractive('df-81f68969-e450-48d4-9788-b0590f521255')\"\n",
              "              title=\"Convert this dataframe to an interactive table.\"\n",
              "              style=\"display:none;\">\n",
              "        \n",
              "  <svg xmlns=\"http://www.w3.org/2000/svg\" height=\"24px\"viewBox=\"0 0 24 24\"\n",
              "       width=\"24px\">\n",
              "    <path d=\"M0 0h24v24H0V0z\" fill=\"none\"/>\n",
              "    <path d=\"M18.56 5.44l.94 2.06.94-2.06 2.06-.94-2.06-.94-.94-2.06-.94 2.06-2.06.94zm-11 1L8.5 8.5l.94-2.06 2.06-.94-2.06-.94L8.5 2.5l-.94 2.06-2.06.94zm10 10l.94 2.06.94-2.06 2.06-.94-2.06-.94-.94-2.06-.94 2.06-2.06.94z\"/><path d=\"M17.41 7.96l-1.37-1.37c-.4-.4-.92-.59-1.43-.59-.52 0-1.04.2-1.43.59L10.3 9.45l-7.72 7.72c-.78.78-.78 2.05 0 2.83L4 21.41c.39.39.9.59 1.41.59.51 0 1.02-.2 1.41-.59l7.78-7.78 2.81-2.81c.8-.78.8-2.07 0-2.86zM5.41 20L4 18.59l7.72-7.72 1.47 1.35L5.41 20z\"/>\n",
              "  </svg>\n",
              "      </button>\n",
              "      \n",
              "  <style>\n",
              "    .colab-df-container {\n",
              "      display:flex;\n",
              "      flex-wrap:wrap;\n",
              "      gap: 12px;\n",
              "    }\n",
              "\n",
              "    .colab-df-convert {\n",
              "      background-color: #E8F0FE;\n",
              "      border: none;\n",
              "      border-radius: 50%;\n",
              "      cursor: pointer;\n",
              "      display: none;\n",
              "      fill: #1967D2;\n",
              "      height: 32px;\n",
              "      padding: 0 0 0 0;\n",
              "      width: 32px;\n",
              "    }\n",
              "\n",
              "    .colab-df-convert:hover {\n",
              "      background-color: #E2EBFA;\n",
              "      box-shadow: 0px 1px 2px rgba(60, 64, 67, 0.3), 0px 1px 3px 1px rgba(60, 64, 67, 0.15);\n",
              "      fill: #174EA6;\n",
              "    }\n",
              "\n",
              "    [theme=dark] .colab-df-convert {\n",
              "      background-color: #3B4455;\n",
              "      fill: #D2E3FC;\n",
              "    }\n",
              "\n",
              "    [theme=dark] .colab-df-convert:hover {\n",
              "      background-color: #434B5C;\n",
              "      box-shadow: 0px 1px 3px 1px rgba(0, 0, 0, 0.15);\n",
              "      filter: drop-shadow(0px 1px 2px rgba(0, 0, 0, 0.3));\n",
              "      fill: #FFFFFF;\n",
              "    }\n",
              "  </style>\n",
              "\n",
              "      <script>\n",
              "        const buttonEl =\n",
              "          document.querySelector('#df-81f68969-e450-48d4-9788-b0590f521255 button.colab-df-convert');\n",
              "        buttonEl.style.display =\n",
              "          google.colab.kernel.accessAllowed ? 'block' : 'none';\n",
              "\n",
              "        async function convertToInteractive(key) {\n",
              "          const element = document.querySelector('#df-81f68969-e450-48d4-9788-b0590f521255');\n",
              "          const dataTable =\n",
              "            await google.colab.kernel.invokeFunction('convertToInteractive',\n",
              "                                                     [key], {});\n",
              "          if (!dataTable) return;\n",
              "\n",
              "          const docLinkHtml = 'Like what you see? Visit the ' +\n",
              "            '<a target=\"_blank\" href=https://colab.research.google.com/notebooks/data_table.ipynb>data table notebook</a>'\n",
              "            + ' to learn more about interactive tables.';\n",
              "          element.innerHTML = '';\n",
              "          dataTable['output_type'] = 'display_data';\n",
              "          await google.colab.output.renderOutput(dataTable, element);\n",
              "          const docLink = document.createElement('div');\n",
              "          docLink.innerHTML = docLinkHtml;\n",
              "          element.appendChild(docLink);\n",
              "        }\n",
              "      </script>\n",
              "    </div>\n",
              "  </div>\n",
              "  "
            ]
          },
          "metadata": {},
          "execution_count": 49
        }
      ]
    },
    {
      "cell_type": "code",
      "source": [
        "a = {'shubham': 1 , 'rushabh':2}\n",
        "b = {'abhiskek' : 4 , 'mohit':5}\n",
        "list(zip(a,b))"
      ],
      "metadata": {
        "colab": {
          "base_uri": "https://localhost:8080/"
        },
        "id": "odTmKmT6rN6_",
        "outputId": "4ea993bb-4c1a-418d-ec27-4b787e481742"
      },
      "execution_count": null,
      "outputs": [
        {
          "output_type": "execute_result",
          "data": {
            "text/plain": [
              "[('shubham', 'abhiskek'), ('rushabh', 'mohit')]"
            ]
          },
          "metadata": {},
          "execution_count": 62
        }
      ]
    },
    {
      "cell_type": "code",
      "source": [
        "list_of_name = ['shubham','abhishek','rushabh']\n",
        "list_of_age = [22,23,np.nan]\n",
        "list_of_tuples = list(zip(list_of_name,list_of_age))\n",
        "print(list_of_tuples)\n",
        "dataframe = pd.DataFrame(list_of_tuples, columns = ['name','age'])\n",
        "dataframe\n",
        "\n"
      ],
      "metadata": {
        "colab": {
          "base_uri": "https://localhost:8080/",
          "height": 161
        },
        "id": "Fup-hK92svRr",
        "outputId": "ef2c19fc-765c-4e05-e009-45117758c6b0"
      },
      "execution_count": null,
      "outputs": [
        {
          "output_type": "stream",
          "name": "stdout",
          "text": [
            "[('shubham', 22), ('abhishek', 23), ('rushabh', nan)]\n"
          ]
        },
        {
          "output_type": "execute_result",
          "data": {
            "text/plain": [
              "       name   age\n",
              "0   shubham  22.0\n",
              "1  abhishek  23.0\n",
              "2   rushabh   NaN"
            ],
            "text/html": [
              "\n",
              "  <div id=\"df-6b090393-7d2a-40c9-aee0-4144879e3189\">\n",
              "    <div class=\"colab-df-container\">\n",
              "      <div>\n",
              "<style scoped>\n",
              "    .dataframe tbody tr th:only-of-type {\n",
              "        vertical-align: middle;\n",
              "    }\n",
              "\n",
              "    .dataframe tbody tr th {\n",
              "        vertical-align: top;\n",
              "    }\n",
              "\n",
              "    .dataframe thead th {\n",
              "        text-align: right;\n",
              "    }\n",
              "</style>\n",
              "<table border=\"1\" class=\"dataframe\">\n",
              "  <thead>\n",
              "    <tr style=\"text-align: right;\">\n",
              "      <th></th>\n",
              "      <th>name</th>\n",
              "      <th>age</th>\n",
              "    </tr>\n",
              "  </thead>\n",
              "  <tbody>\n",
              "    <tr>\n",
              "      <th>0</th>\n",
              "      <td>shubham</td>\n",
              "      <td>22.0</td>\n",
              "    </tr>\n",
              "    <tr>\n",
              "      <th>1</th>\n",
              "      <td>abhishek</td>\n",
              "      <td>23.0</td>\n",
              "    </tr>\n",
              "    <tr>\n",
              "      <th>2</th>\n",
              "      <td>rushabh</td>\n",
              "      <td>NaN</td>\n",
              "    </tr>\n",
              "  </tbody>\n",
              "</table>\n",
              "</div>\n",
              "      <button class=\"colab-df-convert\" onclick=\"convertToInteractive('df-6b090393-7d2a-40c9-aee0-4144879e3189')\"\n",
              "              title=\"Convert this dataframe to an interactive table.\"\n",
              "              style=\"display:none;\">\n",
              "        \n",
              "  <svg xmlns=\"http://www.w3.org/2000/svg\" height=\"24px\"viewBox=\"0 0 24 24\"\n",
              "       width=\"24px\">\n",
              "    <path d=\"M0 0h24v24H0V0z\" fill=\"none\"/>\n",
              "    <path d=\"M18.56 5.44l.94 2.06.94-2.06 2.06-.94-2.06-.94-.94-2.06-.94 2.06-2.06.94zm-11 1L8.5 8.5l.94-2.06 2.06-.94-2.06-.94L8.5 2.5l-.94 2.06-2.06.94zm10 10l.94 2.06.94-2.06 2.06-.94-2.06-.94-.94-2.06-.94 2.06-2.06.94z\"/><path d=\"M17.41 7.96l-1.37-1.37c-.4-.4-.92-.59-1.43-.59-.52 0-1.04.2-1.43.59L10.3 9.45l-7.72 7.72c-.78.78-.78 2.05 0 2.83L4 21.41c.39.39.9.59 1.41.59.51 0 1.02-.2 1.41-.59l7.78-7.78 2.81-2.81c.8-.78.8-2.07 0-2.86zM5.41 20L4 18.59l7.72-7.72 1.47 1.35L5.41 20z\"/>\n",
              "  </svg>\n",
              "      </button>\n",
              "      \n",
              "  <style>\n",
              "    .colab-df-container {\n",
              "      display:flex;\n",
              "      flex-wrap:wrap;\n",
              "      gap: 12px;\n",
              "    }\n",
              "\n",
              "    .colab-df-convert {\n",
              "      background-color: #E8F0FE;\n",
              "      border: none;\n",
              "      border-radius: 50%;\n",
              "      cursor: pointer;\n",
              "      display: none;\n",
              "      fill: #1967D2;\n",
              "      height: 32px;\n",
              "      padding: 0 0 0 0;\n",
              "      width: 32px;\n",
              "    }\n",
              "\n",
              "    .colab-df-convert:hover {\n",
              "      background-color: #E2EBFA;\n",
              "      box-shadow: 0px 1px 2px rgba(60, 64, 67, 0.3), 0px 1px 3px 1px rgba(60, 64, 67, 0.15);\n",
              "      fill: #174EA6;\n",
              "    }\n",
              "\n",
              "    [theme=dark] .colab-df-convert {\n",
              "      background-color: #3B4455;\n",
              "      fill: #D2E3FC;\n",
              "    }\n",
              "\n",
              "    [theme=dark] .colab-df-convert:hover {\n",
              "      background-color: #434B5C;\n",
              "      box-shadow: 0px 1px 3px 1px rgba(0, 0, 0, 0.15);\n",
              "      filter: drop-shadow(0px 1px 2px rgba(0, 0, 0, 0.3));\n",
              "      fill: #FFFFFF;\n",
              "    }\n",
              "  </style>\n",
              "\n",
              "      <script>\n",
              "        const buttonEl =\n",
              "          document.querySelector('#df-6b090393-7d2a-40c9-aee0-4144879e3189 button.colab-df-convert');\n",
              "        buttonEl.style.display =\n",
              "          google.colab.kernel.accessAllowed ? 'block' : 'none';\n",
              "\n",
              "        async function convertToInteractive(key) {\n",
              "          const element = document.querySelector('#df-6b090393-7d2a-40c9-aee0-4144879e3189');\n",
              "          const dataTable =\n",
              "            await google.colab.kernel.invokeFunction('convertToInteractive',\n",
              "                                                     [key], {});\n",
              "          if (!dataTable) return;\n",
              "\n",
              "          const docLinkHtml = 'Like what you see? Visit the ' +\n",
              "            '<a target=\"_blank\" href=https://colab.research.google.com/notebooks/data_table.ipynb>data table notebook</a>'\n",
              "            + ' to learn more about interactive tables.';\n",
              "          element.innerHTML = '';\n",
              "          dataTable['output_type'] = 'display_data';\n",
              "          await google.colab.output.renderOutput(dataTable, element);\n",
              "          const docLink = document.createElement('div');\n",
              "          docLink.innerHTML = docLinkHtml;\n",
              "          element.appendChild(docLink);\n",
              "        }\n",
              "      </script>\n",
              "    </div>\n",
              "  </div>\n",
              "  "
            ]
          },
          "metadata": {},
          "execution_count": 74
        }
      ]
    },
    {
      "cell_type": "code",
      "source": [
        "x = 2\n",
        "for i in range (x):\n",
        "  x-=2\n",
        "  print(x)\n"
      ],
      "metadata": {
        "colab": {
          "base_uri": "https://localhost:8080/"
        },
        "id": "cq3b52NouxPT",
        "outputId": "cbd27643-4323-47de-d31a-62ad8201b50b"
      },
      "execution_count": null,
      "outputs": [
        {
          "output_type": "stream",
          "name": "stdout",
          "text": [
            "0\n",
            "-2\n"
          ]
        }
      ]
    },
    {
      "cell_type": "code",
      "source": [
        "x = 'abcd'\n",
        "for i in x:\n",
        "  print(i)\n",
        "  "
      ],
      "metadata": {
        "colab": {
          "base_uri": "https://localhost:8080/"
        },
        "id": "XA8w9mwLBnko",
        "outputId": "732da3f4-1a53-4c47-b588-5bd040876cb7"
      },
      "execution_count": null,
      "outputs": [
        {
          "output_type": "stream",
          "name": "stdout",
          "text": [
            "a\n",
            "b\n",
            "c\n",
            "d\n"
          ]
        }
      ]
    },
    {
      "cell_type": "code",
      "source": [
        "x.upper()"
      ],
      "metadata": {
        "colab": {
          "base_uri": "https://localhost:8080/",
          "height": 36
        },
        "id": "glZDxPLwH8vF",
        "outputId": "95ca5af9-7612-4777-e327-1c535deaf07c"
      },
      "execution_count": null,
      "outputs": [
        {
          "output_type": "execute_result",
          "data": {
            "text/plain": [
              "'ABCD'"
            ],
            "application/vnd.google.colaboratory.intrinsic+json": {
              "type": "string"
            }
          },
          "metadata": {},
          "execution_count": 96
        }
      ]
    },
    {
      "cell_type": "code",
      "source": [
        "i = 0\n",
        "while i<3:\n",
        "  i+=1\n",
        "  print(i)\n",
        "else:\n",
        "  print(0)"
      ],
      "metadata": {
        "colab": {
          "base_uri": "https://localhost:8080/"
        },
        "id": "mLuLecVqDKKb",
        "outputId": "c8e0fa5e-91b9-4e77-9610-13366bd53667"
      },
      "execution_count": null,
      "outputs": [
        {
          "output_type": "stream",
          "name": "stdout",
          "text": [
            "1\n",
            "2\n",
            "3\n",
            "0\n"
          ]
        }
      ]
    },
    {
      "cell_type": "code",
      "source": [
        "i = 1\n",
        "while False:\n",
        "   if i%2==0:\n",
        "     break\n",
        "     print(i)\n",
        "\n",
        "   \n"
      ],
      "metadata": {
        "id": "R1sZiJS0Ddkl"
      },
      "execution_count": null,
      "outputs": []
    },
    {
      "cell_type": "code",
      "source": [
        "i =0\n",
        "while i<3:\n",
        "  i+=1\n",
        "  print(i)\n",
        "else:\n",
        "  print(0)"
      ],
      "metadata": {
        "colab": {
          "base_uri": "https://localhost:8080/"
        },
        "id": "xOLopCJnEIRR",
        "outputId": "649366f5-2cb9-4761-968d-e6bd1e647bc5"
      },
      "execution_count": null,
      "outputs": [
        {
          "output_type": "stream",
          "name": "stdout",
          "text": [
            "1\n",
            "2\n",
            "3\n",
            "0\n"
          ]
        }
      ]
    },
    {
      "cell_type": "code",
      "source": [
        "# DATA WRANGLING\n"
      ],
      "metadata": {
        "id": "hIQmkrqr8VdJ"
      },
      "execution_count": null,
      "outputs": []
    },
    {
      "cell_type": "code",
      "source": [
        "import numpy as np\n",
        "import pandas as pd\n"
      ],
      "metadata": {
        "id": "amYiVoJD8d8R"
      },
      "execution_count": null,
      "outputs": []
    },
    {
      "cell_type": "code",
      "source": [
        "file_path = '/content/Copy of imdb_data.csv'\n",
        "imdb_df=pd.read_csv(file_path)"
      ],
      "metadata": {
        "id": "vGE47ClSIXT4"
      },
      "execution_count": null,
      "outputs": []
    },
    {
      "cell_type": "code",
      "source": [
        "imdb_df.head().T"
      ],
      "metadata": {
        "colab": {
          "base_uri": "https://localhost:8080/",
          "height": 1000
        },
        "id": "1k7SpZEZIrX2",
        "outputId": "2b8a6149-7ece-4336-e4ef-0023f65ad454"
      },
      "execution_count": null,
      "outputs": [
        {
          "output_type": "execute_result",
          "data": {
            "text/plain": [
              "                                                                       0  \\\n",
              "id                                                                     1   \n",
              "belongs_to_collection  [{'id': 313576, 'name': 'Hot Tub Time Machine ...   \n",
              "budget                                                          14000000   \n",
              "genres                                    [{'id': 35, 'name': 'Comedy'}]   \n",
              "homepage                                                             NaN   \n",
              "imdb_id                                                        tt2637294   \n",
              "original_language                                                     en   \n",
              "original_title                                    Hot Tub Time Machine 2   \n",
              "overview               When Lou, who has become the \"father of the In...   \n",
              "popularity                                                      6.575393   \n",
              "poster_path                             /tQtWuwvMf0hCc2QR2tkolwl7c3c.jpg   \n",
              "production_companies   [{'name': 'Paramount Pictures', 'id': 4}, {'na...   \n",
              "production_countries   [{'iso_3166_1': 'US', 'name': 'United States o...   \n",
              "release_date                                                     2/20/15   \n",
              "runtime                                                             93.0   \n",
              "spoken_languages                [{'iso_639_1': 'en', 'name': 'English'}]   \n",
              "status                                                          Released   \n",
              "tagline                The Laws of Space and Time are About to be Vio...   \n",
              "title                                             Hot Tub Time Machine 2   \n",
              "Keywords               [{'id': 4379, 'name': 'time travel'}, {'id': 9...   \n",
              "cast                   [{'cast_id': 4, 'character': 'Lou', 'credit_id...   \n",
              "crew                   [{'credit_id': '59ac067c92514107af02c8c8', 'de...   \n",
              "revenue                                                         12314651   \n",
              "\n",
              "                                                                       1  \\\n",
              "id                                                                     2   \n",
              "belongs_to_collection  [{'id': 107674, 'name': 'The Princess Diaries ...   \n",
              "budget                                                          40000000   \n",
              "genres                 [{'id': 35, 'name': 'Comedy'}, {'id': 18, 'nam...   \n",
              "homepage                                                             NaN   \n",
              "imdb_id                                                        tt0368933   \n",
              "original_language                                                     en   \n",
              "original_title                  The Princess Diaries 2: Royal Engagement   \n",
              "overview               Mia Thermopolis is now a college graduate and ...   \n",
              "popularity                                                      8.248895   \n",
              "poster_path                             /w9Z7A0GHEhIp7etpj0vyKOeU1Wx.jpg   \n",
              "production_companies         [{'name': 'Walt Disney Pictures', 'id': 2}]   \n",
              "production_countries   [{'iso_3166_1': 'US', 'name': 'United States o...   \n",
              "release_date                                                      8/6/04   \n",
              "runtime                                                            113.0   \n",
              "spoken_languages                [{'iso_639_1': 'en', 'name': 'English'}]   \n",
              "status                                                          Released   \n",
              "tagline                It can take a lifetime to find true love; she'...   \n",
              "title                           The Princess Diaries 2: Royal Engagement   \n",
              "Keywords               [{'id': 2505, 'name': 'coronation'}, {'id': 42...   \n",
              "cast                   [{'cast_id': 1, 'character': 'Mia Thermopolis'...   \n",
              "crew                   [{'credit_id': '52fe43fe9251416c7502563d', 'de...   \n",
              "revenue                                                         95149435   \n",
              "\n",
              "                                                                       2  \\\n",
              "id                                                                     3   \n",
              "belongs_to_collection                                                NaN   \n",
              "budget                                                           3300000   \n",
              "genres                                     [{'id': 18, 'name': 'Drama'}]   \n",
              "homepage                               http://sonyclassics.com/whiplash/   \n",
              "imdb_id                                                        tt2582802   \n",
              "original_language                                                     en   \n",
              "original_title                                                  Whiplash   \n",
              "overview               Under the direction of a ruthless instructor, ...   \n",
              "popularity                                                      64.29999   \n",
              "poster_path                             /lIv1QinFqz4dlp5U4lQ6HaiskOZ.jpg   \n",
              "production_companies   [{'name': 'Bold Films', 'id': 2266}, {'name': ...   \n",
              "production_countries   [{'iso_3166_1': 'US', 'name': 'United States o...   \n",
              "release_date                                                    10/10/14   \n",
              "runtime                                                            105.0   \n",
              "spoken_languages                [{'iso_639_1': 'en', 'name': 'English'}]   \n",
              "status                                                          Released   \n",
              "tagline                  The road to greatness can take you to the edge.   \n",
              "title                                                           Whiplash   \n",
              "Keywords               [{'id': 1416, 'name': 'jazz'}, {'id': 1523, 'n...   \n",
              "cast                   [{'cast_id': 5, 'character': 'Andrew Neimann',...   \n",
              "crew                   [{'credit_id': '54d5356ec3a3683ba0000039', 'de...   \n",
              "revenue                                                         13092000   \n",
              "\n",
              "                                                                       3  \\\n",
              "id                                                                     4   \n",
              "belongs_to_collection                                                NaN   \n",
              "budget                                                           1200000   \n",
              "genres                 [{'id': 53, 'name': 'Thriller'}, {'id': 18, 'n...   \n",
              "homepage                                      http://kahaanithefilm.com/   \n",
              "imdb_id                                                        tt1821480   \n",
              "original_language                                                     hi   \n",
              "original_title                                                   Kahaani   \n",
              "overview               Vidya Bagchi (Vidya Balan) arrives in Kolkata ...   \n",
              "popularity                                                      3.174936   \n",
              "poster_path                             /aTXRaPrWSinhcmCrcfJK17urp3F.jpg   \n",
              "production_companies                                                 NaN   \n",
              "production_countries             [{'iso_3166_1': 'IN', 'name': 'India'}]   \n",
              "release_date                                                      3/9/12   \n",
              "runtime                                                            122.0   \n",
              "spoken_languages       [{'iso_639_1': 'en', 'name': 'English'}, {'iso...   \n",
              "status                                                          Released   \n",
              "tagline                                                              NaN   \n",
              "title                                                            Kahaani   \n",
              "Keywords               [{'id': 10092, 'name': 'mystery'}, {'id': 1054...   \n",
              "cast                   [{'cast_id': 1, 'character': 'Vidya Bagchi', '...   \n",
              "crew                   [{'credit_id': '52fe48779251416c9108d6eb', 'de...   \n",
              "revenue                                                         16000000   \n",
              "\n",
              "                                                                       4  \n",
              "id                                                                     5  \n",
              "belongs_to_collection                                                NaN  \n",
              "budget                                                                 0  \n",
              "genres                 [{'id': 28, 'name': 'Action'}, {'id': 53, 'nam...  \n",
              "homepage                                                             NaN  \n",
              "imdb_id                                                        tt1380152  \n",
              "original_language                                                     ko  \n",
              "original_title                                                      마린보이  \n",
              "overview               Marine Boy is the story of a former national s...  \n",
              "popularity                                                       1.14807  \n",
              "poster_path                             /m22s7zvkVFDU9ir56PiiqIEWFdT.jpg  \n",
              "production_companies                                                 NaN  \n",
              "production_countries       [{'iso_3166_1': 'KR', 'name': 'South Korea'}]  \n",
              "release_date                                                      2/5/09  \n",
              "runtime                                                            118.0  \n",
              "spoken_languages                [{'iso_639_1': 'ko', 'name': '한국어/조선말'}]  \n",
              "status                                                          Released  \n",
              "tagline                                                              NaN  \n",
              "title                                                         Marine Boy  \n",
              "Keywords                                                             NaN  \n",
              "cast                   [{'cast_id': 3, 'character': 'Chun-soo', 'cred...  \n",
              "crew                   [{'credit_id': '52fe464b9251416c75073b43', 'de...  \n",
              "revenue                                                          3923970  "
            ],
            "text/html": [
              "\n",
              "  <div id=\"df-16d33c31-23fd-492f-a8a1-c0e493e08821\">\n",
              "    <div class=\"colab-df-container\">\n",
              "      <div>\n",
              "<style scoped>\n",
              "    .dataframe tbody tr th:only-of-type {\n",
              "        vertical-align: middle;\n",
              "    }\n",
              "\n",
              "    .dataframe tbody tr th {\n",
              "        vertical-align: top;\n",
              "    }\n",
              "\n",
              "    .dataframe thead th {\n",
              "        text-align: right;\n",
              "    }\n",
              "</style>\n",
              "<table border=\"1\" class=\"dataframe\">\n",
              "  <thead>\n",
              "    <tr style=\"text-align: right;\">\n",
              "      <th></th>\n",
              "      <th>0</th>\n",
              "      <th>1</th>\n",
              "      <th>2</th>\n",
              "      <th>3</th>\n",
              "      <th>4</th>\n",
              "    </tr>\n",
              "  </thead>\n",
              "  <tbody>\n",
              "    <tr>\n",
              "      <th>id</th>\n",
              "      <td>1</td>\n",
              "      <td>2</td>\n",
              "      <td>3</td>\n",
              "      <td>4</td>\n",
              "      <td>5</td>\n",
              "    </tr>\n",
              "    <tr>\n",
              "      <th>belongs_to_collection</th>\n",
              "      <td>[{'id': 313576, 'name': 'Hot Tub Time Machine ...</td>\n",
              "      <td>[{'id': 107674, 'name': 'The Princess Diaries ...</td>\n",
              "      <td>NaN</td>\n",
              "      <td>NaN</td>\n",
              "      <td>NaN</td>\n",
              "    </tr>\n",
              "    <tr>\n",
              "      <th>budget</th>\n",
              "      <td>14000000</td>\n",
              "      <td>40000000</td>\n",
              "      <td>3300000</td>\n",
              "      <td>1200000</td>\n",
              "      <td>0</td>\n",
              "    </tr>\n",
              "    <tr>\n",
              "      <th>genres</th>\n",
              "      <td>[{'id': 35, 'name': 'Comedy'}]</td>\n",
              "      <td>[{'id': 35, 'name': 'Comedy'}, {'id': 18, 'nam...</td>\n",
              "      <td>[{'id': 18, 'name': 'Drama'}]</td>\n",
              "      <td>[{'id': 53, 'name': 'Thriller'}, {'id': 18, 'n...</td>\n",
              "      <td>[{'id': 28, 'name': 'Action'}, {'id': 53, 'nam...</td>\n",
              "    </tr>\n",
              "    <tr>\n",
              "      <th>homepage</th>\n",
              "      <td>NaN</td>\n",
              "      <td>NaN</td>\n",
              "      <td>http://sonyclassics.com/whiplash/</td>\n",
              "      <td>http://kahaanithefilm.com/</td>\n",
              "      <td>NaN</td>\n",
              "    </tr>\n",
              "    <tr>\n",
              "      <th>imdb_id</th>\n",
              "      <td>tt2637294</td>\n",
              "      <td>tt0368933</td>\n",
              "      <td>tt2582802</td>\n",
              "      <td>tt1821480</td>\n",
              "      <td>tt1380152</td>\n",
              "    </tr>\n",
              "    <tr>\n",
              "      <th>original_language</th>\n",
              "      <td>en</td>\n",
              "      <td>en</td>\n",
              "      <td>en</td>\n",
              "      <td>hi</td>\n",
              "      <td>ko</td>\n",
              "    </tr>\n",
              "    <tr>\n",
              "      <th>original_title</th>\n",
              "      <td>Hot Tub Time Machine 2</td>\n",
              "      <td>The Princess Diaries 2: Royal Engagement</td>\n",
              "      <td>Whiplash</td>\n",
              "      <td>Kahaani</td>\n",
              "      <td>마린보이</td>\n",
              "    </tr>\n",
              "    <tr>\n",
              "      <th>overview</th>\n",
              "      <td>When Lou, who has become the \"father of the In...</td>\n",
              "      <td>Mia Thermopolis is now a college graduate and ...</td>\n",
              "      <td>Under the direction of a ruthless instructor, ...</td>\n",
              "      <td>Vidya Bagchi (Vidya Balan) arrives in Kolkata ...</td>\n",
              "      <td>Marine Boy is the story of a former national s...</td>\n",
              "    </tr>\n",
              "    <tr>\n",
              "      <th>popularity</th>\n",
              "      <td>6.575393</td>\n",
              "      <td>8.248895</td>\n",
              "      <td>64.29999</td>\n",
              "      <td>3.174936</td>\n",
              "      <td>1.14807</td>\n",
              "    </tr>\n",
              "    <tr>\n",
              "      <th>poster_path</th>\n",
              "      <td>/tQtWuwvMf0hCc2QR2tkolwl7c3c.jpg</td>\n",
              "      <td>/w9Z7A0GHEhIp7etpj0vyKOeU1Wx.jpg</td>\n",
              "      <td>/lIv1QinFqz4dlp5U4lQ6HaiskOZ.jpg</td>\n",
              "      <td>/aTXRaPrWSinhcmCrcfJK17urp3F.jpg</td>\n",
              "      <td>/m22s7zvkVFDU9ir56PiiqIEWFdT.jpg</td>\n",
              "    </tr>\n",
              "    <tr>\n",
              "      <th>production_companies</th>\n",
              "      <td>[{'name': 'Paramount Pictures', 'id': 4}, {'na...</td>\n",
              "      <td>[{'name': 'Walt Disney Pictures', 'id': 2}]</td>\n",
              "      <td>[{'name': 'Bold Films', 'id': 2266}, {'name': ...</td>\n",
              "      <td>NaN</td>\n",
              "      <td>NaN</td>\n",
              "    </tr>\n",
              "    <tr>\n",
              "      <th>production_countries</th>\n",
              "      <td>[{'iso_3166_1': 'US', 'name': 'United States o...</td>\n",
              "      <td>[{'iso_3166_1': 'US', 'name': 'United States o...</td>\n",
              "      <td>[{'iso_3166_1': 'US', 'name': 'United States o...</td>\n",
              "      <td>[{'iso_3166_1': 'IN', 'name': 'India'}]</td>\n",
              "      <td>[{'iso_3166_1': 'KR', 'name': 'South Korea'}]</td>\n",
              "    </tr>\n",
              "    <tr>\n",
              "      <th>release_date</th>\n",
              "      <td>2/20/15</td>\n",
              "      <td>8/6/04</td>\n",
              "      <td>10/10/14</td>\n",
              "      <td>3/9/12</td>\n",
              "      <td>2/5/09</td>\n",
              "    </tr>\n",
              "    <tr>\n",
              "      <th>runtime</th>\n",
              "      <td>93.0</td>\n",
              "      <td>113.0</td>\n",
              "      <td>105.0</td>\n",
              "      <td>122.0</td>\n",
              "      <td>118.0</td>\n",
              "    </tr>\n",
              "    <tr>\n",
              "      <th>spoken_languages</th>\n",
              "      <td>[{'iso_639_1': 'en', 'name': 'English'}]</td>\n",
              "      <td>[{'iso_639_1': 'en', 'name': 'English'}]</td>\n",
              "      <td>[{'iso_639_1': 'en', 'name': 'English'}]</td>\n",
              "      <td>[{'iso_639_1': 'en', 'name': 'English'}, {'iso...</td>\n",
              "      <td>[{'iso_639_1': 'ko', 'name': '한국어/조선말'}]</td>\n",
              "    </tr>\n",
              "    <tr>\n",
              "      <th>status</th>\n",
              "      <td>Released</td>\n",
              "      <td>Released</td>\n",
              "      <td>Released</td>\n",
              "      <td>Released</td>\n",
              "      <td>Released</td>\n",
              "    </tr>\n",
              "    <tr>\n",
              "      <th>tagline</th>\n",
              "      <td>The Laws of Space and Time are About to be Vio...</td>\n",
              "      <td>It can take a lifetime to find true love; she'...</td>\n",
              "      <td>The road to greatness can take you to the edge.</td>\n",
              "      <td>NaN</td>\n",
              "      <td>NaN</td>\n",
              "    </tr>\n",
              "    <tr>\n",
              "      <th>title</th>\n",
              "      <td>Hot Tub Time Machine 2</td>\n",
              "      <td>The Princess Diaries 2: Royal Engagement</td>\n",
              "      <td>Whiplash</td>\n",
              "      <td>Kahaani</td>\n",
              "      <td>Marine Boy</td>\n",
              "    </tr>\n",
              "    <tr>\n",
              "      <th>Keywords</th>\n",
              "      <td>[{'id': 4379, 'name': 'time travel'}, {'id': 9...</td>\n",
              "      <td>[{'id': 2505, 'name': 'coronation'}, {'id': 42...</td>\n",
              "      <td>[{'id': 1416, 'name': 'jazz'}, {'id': 1523, 'n...</td>\n",
              "      <td>[{'id': 10092, 'name': 'mystery'}, {'id': 1054...</td>\n",
              "      <td>NaN</td>\n",
              "    </tr>\n",
              "    <tr>\n",
              "      <th>cast</th>\n",
              "      <td>[{'cast_id': 4, 'character': 'Lou', 'credit_id...</td>\n",
              "      <td>[{'cast_id': 1, 'character': 'Mia Thermopolis'...</td>\n",
              "      <td>[{'cast_id': 5, 'character': 'Andrew Neimann',...</td>\n",
              "      <td>[{'cast_id': 1, 'character': 'Vidya Bagchi', '...</td>\n",
              "      <td>[{'cast_id': 3, 'character': 'Chun-soo', 'cred...</td>\n",
              "    </tr>\n",
              "    <tr>\n",
              "      <th>crew</th>\n",
              "      <td>[{'credit_id': '59ac067c92514107af02c8c8', 'de...</td>\n",
              "      <td>[{'credit_id': '52fe43fe9251416c7502563d', 'de...</td>\n",
              "      <td>[{'credit_id': '54d5356ec3a3683ba0000039', 'de...</td>\n",
              "      <td>[{'credit_id': '52fe48779251416c9108d6eb', 'de...</td>\n",
              "      <td>[{'credit_id': '52fe464b9251416c75073b43', 'de...</td>\n",
              "    </tr>\n",
              "    <tr>\n",
              "      <th>revenue</th>\n",
              "      <td>12314651</td>\n",
              "      <td>95149435</td>\n",
              "      <td>13092000</td>\n",
              "      <td>16000000</td>\n",
              "      <td>3923970</td>\n",
              "    </tr>\n",
              "  </tbody>\n",
              "</table>\n",
              "</div>\n",
              "      <button class=\"colab-df-convert\" onclick=\"convertToInteractive('df-16d33c31-23fd-492f-a8a1-c0e493e08821')\"\n",
              "              title=\"Convert this dataframe to an interactive table.\"\n",
              "              style=\"display:none;\">\n",
              "        \n",
              "  <svg xmlns=\"http://www.w3.org/2000/svg\" height=\"24px\"viewBox=\"0 0 24 24\"\n",
              "       width=\"24px\">\n",
              "    <path d=\"M0 0h24v24H0V0z\" fill=\"none\"/>\n",
              "    <path d=\"M18.56 5.44l.94 2.06.94-2.06 2.06-.94-2.06-.94-.94-2.06-.94 2.06-2.06.94zm-11 1L8.5 8.5l.94-2.06 2.06-.94-2.06-.94L8.5 2.5l-.94 2.06-2.06.94zm10 10l.94 2.06.94-2.06 2.06-.94-2.06-.94-.94-2.06-.94 2.06-2.06.94z\"/><path d=\"M17.41 7.96l-1.37-1.37c-.4-.4-.92-.59-1.43-.59-.52 0-1.04.2-1.43.59L10.3 9.45l-7.72 7.72c-.78.78-.78 2.05 0 2.83L4 21.41c.39.39.9.59 1.41.59.51 0 1.02-.2 1.41-.59l7.78-7.78 2.81-2.81c.8-.78.8-2.07 0-2.86zM5.41 20L4 18.59l7.72-7.72 1.47 1.35L5.41 20z\"/>\n",
              "  </svg>\n",
              "      </button>\n",
              "      \n",
              "  <style>\n",
              "    .colab-df-container {\n",
              "      display:flex;\n",
              "      flex-wrap:wrap;\n",
              "      gap: 12px;\n",
              "    }\n",
              "\n",
              "    .colab-df-convert {\n",
              "      background-color: #E8F0FE;\n",
              "      border: none;\n",
              "      border-radius: 50%;\n",
              "      cursor: pointer;\n",
              "      display: none;\n",
              "      fill: #1967D2;\n",
              "      height: 32px;\n",
              "      padding: 0 0 0 0;\n",
              "      width: 32px;\n",
              "    }\n",
              "\n",
              "    .colab-df-convert:hover {\n",
              "      background-color: #E2EBFA;\n",
              "      box-shadow: 0px 1px 2px rgba(60, 64, 67, 0.3), 0px 1px 3px 1px rgba(60, 64, 67, 0.15);\n",
              "      fill: #174EA6;\n",
              "    }\n",
              "\n",
              "    [theme=dark] .colab-df-convert {\n",
              "      background-color: #3B4455;\n",
              "      fill: #D2E3FC;\n",
              "    }\n",
              "\n",
              "    [theme=dark] .colab-df-convert:hover {\n",
              "      background-color: #434B5C;\n",
              "      box-shadow: 0px 1px 3px 1px rgba(0, 0, 0, 0.15);\n",
              "      filter: drop-shadow(0px 1px 2px rgba(0, 0, 0, 0.3));\n",
              "      fill: #FFFFFF;\n",
              "    }\n",
              "  </style>\n",
              "\n",
              "      <script>\n",
              "        const buttonEl =\n",
              "          document.querySelector('#df-16d33c31-23fd-492f-a8a1-c0e493e08821 button.colab-df-convert');\n",
              "        buttonEl.style.display =\n",
              "          google.colab.kernel.accessAllowed ? 'block' : 'none';\n",
              "\n",
              "        async function convertToInteractive(key) {\n",
              "          const element = document.querySelector('#df-16d33c31-23fd-492f-a8a1-c0e493e08821');\n",
              "          const dataTable =\n",
              "            await google.colab.kernel.invokeFunction('convertToInteractive',\n",
              "                                                     [key], {});\n",
              "          if (!dataTable) return;\n",
              "\n",
              "          const docLinkHtml = 'Like what you see? Visit the ' +\n",
              "            '<a target=\"_blank\" href=https://colab.research.google.com/notebooks/data_table.ipynb>data table notebook</a>'\n",
              "            + ' to learn more about interactive tables.';\n",
              "          element.innerHTML = '';\n",
              "          dataTable['output_type'] = 'display_data';\n",
              "          await google.colab.output.renderOutput(dataTable, element);\n",
              "          const docLink = document.createElement('div');\n",
              "          docLink.innerHTML = docLinkHtml;\n",
              "          element.appendChild(docLink);\n",
              "        }\n",
              "      </script>\n",
              "    </div>\n",
              "  </div>\n",
              "  "
            ]
          },
          "metadata": {},
          "execution_count": 15
        }
      ]
    },
    {
      "cell_type": "code",
      "source": [
        "imdb_df.shape"
      ],
      "metadata": {
        "colab": {
          "base_uri": "https://localhost:8080/"
        },
        "id": "nCkpkPuFI03Q",
        "outputId": "33dc72c2-b73b-4359-ce97-14155cbaf572"
      },
      "execution_count": null,
      "outputs": [
        {
          "output_type": "execute_result",
          "data": {
            "text/plain": [
              "(3000, 23)"
            ]
          },
          "metadata": {},
          "execution_count": 16
        }
      ]
    },
    {
      "cell_type": "code",
      "source": [
        "imdb_df.info()"
      ],
      "metadata": {
        "colab": {
          "base_uri": "https://localhost:8080/"
        },
        "id": "4tdOsQP8JnJS",
        "outputId": "264df440-eda2-4641-dec5-afd150486c0e"
      },
      "execution_count": null,
      "outputs": [
        {
          "output_type": "stream",
          "name": "stdout",
          "text": [
            "<class 'pandas.core.frame.DataFrame'>\n",
            "RangeIndex: 3000 entries, 0 to 2999\n",
            "Data columns (total 23 columns):\n",
            " #   Column                 Non-Null Count  Dtype  \n",
            "---  ------                 --------------  -----  \n",
            " 0   id                     3000 non-null   int64  \n",
            " 1   belongs_to_collection  604 non-null    object \n",
            " 2   budget                 3000 non-null   int64  \n",
            " 3   genres                 2993 non-null   object \n",
            " 4   homepage               946 non-null    object \n",
            " 5   imdb_id                3000 non-null   object \n",
            " 6   original_language      3000 non-null   object \n",
            " 7   original_title         3000 non-null   object \n",
            " 8   overview               2992 non-null   object \n",
            " 9   popularity             3000 non-null   float64\n",
            " 10  poster_path            2999 non-null   object \n",
            " 11  production_companies   2844 non-null   object \n",
            " 12  production_countries   2945 non-null   object \n",
            " 13  release_date           3000 non-null   object \n",
            " 14  runtime                2998 non-null   float64\n",
            " 15  spoken_languages       2980 non-null   object \n",
            " 16  status                 3000 non-null   object \n",
            " 17  tagline                2403 non-null   object \n",
            " 18  title                  3000 non-null   object \n",
            " 19  Keywords               2724 non-null   object \n",
            " 20  cast                   2987 non-null   object \n",
            " 21  crew                   2984 non-null   object \n",
            " 22  revenue                3000 non-null   int64  \n",
            "dtypes: float64(2), int64(3), object(18)\n",
            "memory usage: 539.2+ KB\n"
          ]
        }
      ]
    },
    {
      "cell_type": "code",
      "source": [],
      "metadata": {
        "id": "oIMHpiy_VvIO"
      },
      "execution_count": null,
      "outputs": []
    },
    {
      "cell_type": "code",
      "source": [],
      "metadata": {
        "id": "IxMlKCcxb8bO"
      },
      "execution_count": null,
      "outputs": []
    },
    {
      "cell_type": "markdown",
      "source": [
        "# data wrangling"
      ],
      "metadata": {
        "id": "_z_LtRHFb964"
      }
    },
    {
      "cell_type": "code",
      "source": [
        "#to drop the column as it does not contain any information\n",
        "imdb_df.drop('id', axis=1 , inplace=True)\n"
      ],
      "metadata": {
        "id": "jMTDb2WEcHXO"
      },
      "execution_count": null,
      "outputs": []
    },
    {
      "cell_type": "code",
      "source": [
        "#when we use only describe it gives us the description of only numeric values \n",
        "imdb_df.describe()"
      ],
      "metadata": {
        "colab": {
          "base_uri": "https://localhost:8080/",
          "height": 300
        },
        "id": "gYpbxd3ld5fB",
        "outputId": "fcb22dc3-9316-4029-d8a4-458dd9205b4a"
      },
      "execution_count": null,
      "outputs": [
        {
          "output_type": "execute_result",
          "data": {
            "text/plain": [
              "                id        budget   popularity      runtime       revenue\n",
              "count  3000.000000  3.000000e+03  3000.000000  2998.000000  3.000000e+03\n",
              "mean   1500.500000  2.253133e+07     8.463274   107.856571  6.672585e+07\n",
              "std     866.169729  3.702609e+07    12.104000    22.086434  1.375323e+08\n",
              "min       1.000000  0.000000e+00     0.000001     0.000000  1.000000e+00\n",
              "25%     750.750000  0.000000e+00     4.018053    94.000000  2.379808e+06\n",
              "50%    1500.500000  8.000000e+06     7.374861   104.000000  1.680707e+07\n",
              "75%    2250.250000  2.900000e+07    10.890983   118.000000  6.891920e+07\n",
              "max    3000.000000  3.800000e+08   294.337037   338.000000  1.519558e+09"
            ],
            "text/html": [
              "\n",
              "  <div id=\"df-7b5ef060-7a61-4019-9d59-bfbb18506c40\">\n",
              "    <div class=\"colab-df-container\">\n",
              "      <div>\n",
              "<style scoped>\n",
              "    .dataframe tbody tr th:only-of-type {\n",
              "        vertical-align: middle;\n",
              "    }\n",
              "\n",
              "    .dataframe tbody tr th {\n",
              "        vertical-align: top;\n",
              "    }\n",
              "\n",
              "    .dataframe thead th {\n",
              "        text-align: right;\n",
              "    }\n",
              "</style>\n",
              "<table border=\"1\" class=\"dataframe\">\n",
              "  <thead>\n",
              "    <tr style=\"text-align: right;\">\n",
              "      <th></th>\n",
              "      <th>id</th>\n",
              "      <th>budget</th>\n",
              "      <th>popularity</th>\n",
              "      <th>runtime</th>\n",
              "      <th>revenue</th>\n",
              "    </tr>\n",
              "  </thead>\n",
              "  <tbody>\n",
              "    <tr>\n",
              "      <th>count</th>\n",
              "      <td>3000.000000</td>\n",
              "      <td>3.000000e+03</td>\n",
              "      <td>3000.000000</td>\n",
              "      <td>2998.000000</td>\n",
              "      <td>3.000000e+03</td>\n",
              "    </tr>\n",
              "    <tr>\n",
              "      <th>mean</th>\n",
              "      <td>1500.500000</td>\n",
              "      <td>2.253133e+07</td>\n",
              "      <td>8.463274</td>\n",
              "      <td>107.856571</td>\n",
              "      <td>6.672585e+07</td>\n",
              "    </tr>\n",
              "    <tr>\n",
              "      <th>std</th>\n",
              "      <td>866.169729</td>\n",
              "      <td>3.702609e+07</td>\n",
              "      <td>12.104000</td>\n",
              "      <td>22.086434</td>\n",
              "      <td>1.375323e+08</td>\n",
              "    </tr>\n",
              "    <tr>\n",
              "      <th>min</th>\n",
              "      <td>1.000000</td>\n",
              "      <td>0.000000e+00</td>\n",
              "      <td>0.000001</td>\n",
              "      <td>0.000000</td>\n",
              "      <td>1.000000e+00</td>\n",
              "    </tr>\n",
              "    <tr>\n",
              "      <th>25%</th>\n",
              "      <td>750.750000</td>\n",
              "      <td>0.000000e+00</td>\n",
              "      <td>4.018053</td>\n",
              "      <td>94.000000</td>\n",
              "      <td>2.379808e+06</td>\n",
              "    </tr>\n",
              "    <tr>\n",
              "      <th>50%</th>\n",
              "      <td>1500.500000</td>\n",
              "      <td>8.000000e+06</td>\n",
              "      <td>7.374861</td>\n",
              "      <td>104.000000</td>\n",
              "      <td>1.680707e+07</td>\n",
              "    </tr>\n",
              "    <tr>\n",
              "      <th>75%</th>\n",
              "      <td>2250.250000</td>\n",
              "      <td>2.900000e+07</td>\n",
              "      <td>10.890983</td>\n",
              "      <td>118.000000</td>\n",
              "      <td>6.891920e+07</td>\n",
              "    </tr>\n",
              "    <tr>\n",
              "      <th>max</th>\n",
              "      <td>3000.000000</td>\n",
              "      <td>3.800000e+08</td>\n",
              "      <td>294.337037</td>\n",
              "      <td>338.000000</td>\n",
              "      <td>1.519558e+09</td>\n",
              "    </tr>\n",
              "  </tbody>\n",
              "</table>\n",
              "</div>\n",
              "      <button class=\"colab-df-convert\" onclick=\"convertToInteractive('df-7b5ef060-7a61-4019-9d59-bfbb18506c40')\"\n",
              "              title=\"Convert this dataframe to an interactive table.\"\n",
              "              style=\"display:none;\">\n",
              "        \n",
              "  <svg xmlns=\"http://www.w3.org/2000/svg\" height=\"24px\"viewBox=\"0 0 24 24\"\n",
              "       width=\"24px\">\n",
              "    <path d=\"M0 0h24v24H0V0z\" fill=\"none\"/>\n",
              "    <path d=\"M18.56 5.44l.94 2.06.94-2.06 2.06-.94-2.06-.94-.94-2.06-.94 2.06-2.06.94zm-11 1L8.5 8.5l.94-2.06 2.06-.94-2.06-.94L8.5 2.5l-.94 2.06-2.06.94zm10 10l.94 2.06.94-2.06 2.06-.94-2.06-.94-.94-2.06-.94 2.06-2.06.94z\"/><path d=\"M17.41 7.96l-1.37-1.37c-.4-.4-.92-.59-1.43-.59-.52 0-1.04.2-1.43.59L10.3 9.45l-7.72 7.72c-.78.78-.78 2.05 0 2.83L4 21.41c.39.39.9.59 1.41.59.51 0 1.02-.2 1.41-.59l7.78-7.78 2.81-2.81c.8-.78.8-2.07 0-2.86zM5.41 20L4 18.59l7.72-7.72 1.47 1.35L5.41 20z\"/>\n",
              "  </svg>\n",
              "      </button>\n",
              "      \n",
              "  <style>\n",
              "    .colab-df-container {\n",
              "      display:flex;\n",
              "      flex-wrap:wrap;\n",
              "      gap: 12px;\n",
              "    }\n",
              "\n",
              "    .colab-df-convert {\n",
              "      background-color: #E8F0FE;\n",
              "      border: none;\n",
              "      border-radius: 50%;\n",
              "      cursor: pointer;\n",
              "      display: none;\n",
              "      fill: #1967D2;\n",
              "      height: 32px;\n",
              "      padding: 0 0 0 0;\n",
              "      width: 32px;\n",
              "    }\n",
              "\n",
              "    .colab-df-convert:hover {\n",
              "      background-color: #E2EBFA;\n",
              "      box-shadow: 0px 1px 2px rgba(60, 64, 67, 0.3), 0px 1px 3px 1px rgba(60, 64, 67, 0.15);\n",
              "      fill: #174EA6;\n",
              "    }\n",
              "\n",
              "    [theme=dark] .colab-df-convert {\n",
              "      background-color: #3B4455;\n",
              "      fill: #D2E3FC;\n",
              "    }\n",
              "\n",
              "    [theme=dark] .colab-df-convert:hover {\n",
              "      background-color: #434B5C;\n",
              "      box-shadow: 0px 1px 3px 1px rgba(0, 0, 0, 0.15);\n",
              "      filter: drop-shadow(0px 1px 2px rgba(0, 0, 0, 0.3));\n",
              "      fill: #FFFFFF;\n",
              "    }\n",
              "  </style>\n",
              "\n",
              "      <script>\n",
              "        const buttonEl =\n",
              "          document.querySelector('#df-7b5ef060-7a61-4019-9d59-bfbb18506c40 button.colab-df-convert');\n",
              "        buttonEl.style.display =\n",
              "          google.colab.kernel.accessAllowed ? 'block' : 'none';\n",
              "\n",
              "        async function convertToInteractive(key) {\n",
              "          const element = document.querySelector('#df-7b5ef060-7a61-4019-9d59-bfbb18506c40');\n",
              "          const dataTable =\n",
              "            await google.colab.kernel.invokeFunction('convertToInteractive',\n",
              "                                                     [key], {});\n",
              "          if (!dataTable) return;\n",
              "\n",
              "          const docLinkHtml = 'Like what you see? Visit the ' +\n",
              "            '<a target=\"_blank\" href=https://colab.research.google.com/notebooks/data_table.ipynb>data table notebook</a>'\n",
              "            + ' to learn more about interactive tables.';\n",
              "          element.innerHTML = '';\n",
              "          dataTable['output_type'] = 'display_data';\n",
              "          await google.colab.output.renderOutput(dataTable, element);\n",
              "          const docLink = document.createElement('div');\n",
              "          docLink.innerHTML = docLinkHtml;\n",
              "          element.appendChild(docLink);\n",
              "        }\n",
              "      </script>\n",
              "    </div>\n",
              "  </div>\n",
              "  "
            ]
          },
          "metadata": {},
          "execution_count": 18
        }
      ]
    },
    {
      "cell_type": "code",
      "source": [
        "#when we use only describe it gives us the description of only numeric values \n",
        "imdb_df.describe(include = 'all')"
      ],
      "metadata": {
        "colab": {
          "base_uri": "https://localhost:8080/",
          "height": 592
        },
        "id": "p3oYR1s1lOyi",
        "outputId": "9ddb2f77-132b-4d91-f648-242386f41801"
      },
      "execution_count": null,
      "outputs": [
        {
          "output_type": "execute_result",
          "data": {
            "text/plain": [
              "                                    belongs_to_collection        budget  \\\n",
              "count                                                 604  3.000000e+03   \n",
              "unique                                                422           NaN   \n",
              "top     [{'id': 645, 'name': 'James Bond Collection', ...           NaN   \n",
              "freq                                                   16           NaN   \n",
              "mean                                                  NaN  2.253133e+07   \n",
              "std                                                   NaN  3.702609e+07   \n",
              "min                                                   NaN  0.000000e+00   \n",
              "25%                                                   NaN  0.000000e+00   \n",
              "50%                                                   NaN  8.000000e+06   \n",
              "75%                                                   NaN  2.900000e+07   \n",
              "max                                                   NaN  3.800000e+08   \n",
              "\n",
              "                               genres                           homepage  \\\n",
              "count                            2993                                946   \n",
              "unique                            872                                941   \n",
              "top     [{'id': 18, 'name': 'Drama'}]  http://www.transformersmovie.com/   \n",
              "freq                              266                                  4   \n",
              "mean                              NaN                                NaN   \n",
              "std                               NaN                                NaN   \n",
              "min                               NaN                                NaN   \n",
              "25%                               NaN                                NaN   \n",
              "50%                               NaN                                NaN   \n",
              "75%                               NaN                                NaN   \n",
              "max                               NaN                                NaN   \n",
              "\n",
              "          imdb_id original_language original_title  \\\n",
              "count        3000              3000           3000   \n",
              "unique       3000                36           2975   \n",
              "top     tt2637294                en         Joshua   \n",
              "freq            1              2575              2   \n",
              "mean          NaN               NaN            NaN   \n",
              "std           NaN               NaN            NaN   \n",
              "min           NaN               NaN            NaN   \n",
              "25%           NaN               NaN            NaN   \n",
              "50%           NaN               NaN            NaN   \n",
              "75%           NaN               NaN            NaN   \n",
              "max           NaN               NaN            NaN   \n",
              "\n",
              "                                                 overview   popularity  \\\n",
              "count                                                2992  3000.000000   \n",
              "unique                                               2992          NaN   \n",
              "top     When Lou, who has become the \"father of the In...          NaN   \n",
              "freq                                                    1          NaN   \n",
              "mean                                                  NaN     8.463274   \n",
              "std                                                   NaN    12.104000   \n",
              "min                                                   NaN     0.000001   \n",
              "25%                                                   NaN     4.018053   \n",
              "50%                                                   NaN     7.374861   \n",
              "75%                                                   NaN    10.890983   \n",
              "max                                                   NaN   294.337037   \n",
              "\n",
              "                             poster_path  ... release_date      runtime  \\\n",
              "count                               2999  ...         3000  2998.000000   \n",
              "unique                              2999  ...         2398          NaN   \n",
              "top     /tQtWuwvMf0hCc2QR2tkolwl7c3c.jpg  ...      9/10/10          NaN   \n",
              "freq                                   1  ...            5          NaN   \n",
              "mean                                 NaN  ...          NaN   107.856571   \n",
              "std                                  NaN  ...          NaN    22.086434   \n",
              "min                                  NaN  ...          NaN     0.000000   \n",
              "25%                                  NaN  ...          NaN    94.000000   \n",
              "50%                                  NaN  ...          NaN   104.000000   \n",
              "75%                                  NaN  ...          NaN   118.000000   \n",
              "max                                  NaN  ...          NaN   338.000000   \n",
              "\n",
              "                                spoken_languages    status  \\\n",
              "count                                       2980      3000   \n",
              "unique                                       401         2   \n",
              "top     [{'iso_639_1': 'en', 'name': 'English'}]  Released   \n",
              "freq                                        1817      2996   \n",
              "mean                                         NaN       NaN   \n",
              "std                                          NaN       NaN   \n",
              "min                                          NaN       NaN   \n",
              "25%                                          NaN       NaN   \n",
              "50%                                          NaN       NaN   \n",
              "75%                                          NaN       NaN   \n",
              "max                                          NaN       NaN   \n",
              "\n",
              "                       tagline                  title  \\\n",
              "count                     2403                   3000   \n",
              "unique                    2400                   2969   \n",
              "top     Based on a true story.  The Magnificent Seven   \n",
              "freq                         3                      2   \n",
              "mean                       NaN                    NaN   \n",
              "std                        NaN                    NaN   \n",
              "min                        NaN                    NaN   \n",
              "25%                        NaN                    NaN   \n",
              "50%                        NaN                    NaN   \n",
              "75%                        NaN                    NaN   \n",
              "max                        NaN                    NaN   \n",
              "\n",
              "                                           Keywords  cast  \\\n",
              "count                                          2724  2987   \n",
              "unique                                         2648  2975   \n",
              "top     [{'id': 10183, 'name': 'independent film'}]    []   \n",
              "freq                                             27    13   \n",
              "mean                                            NaN   NaN   \n",
              "std                                             NaN   NaN   \n",
              "min                                             NaN   NaN   \n",
              "25%                                             NaN   NaN   \n",
              "50%                                             NaN   NaN   \n",
              "75%                                             NaN   NaN   \n",
              "max                                             NaN   NaN   \n",
              "\n",
              "                                                     crew       revenue  \n",
              "count                                                2984  3.000000e+03  \n",
              "unique                                               2984           NaN  \n",
              "top     [{'credit_id': '59ac067c92514107af02c8c8', 'de...           NaN  \n",
              "freq                                                    1           NaN  \n",
              "mean                                                  NaN  6.672585e+07  \n",
              "std                                                   NaN  1.375323e+08  \n",
              "min                                                   NaN  1.000000e+00  \n",
              "25%                                                   NaN  2.379808e+06  \n",
              "50%                                                   NaN  1.680707e+07  \n",
              "75%                                                   NaN  6.891920e+07  \n",
              "max                                                   NaN  1.519558e+09  \n",
              "\n",
              "[11 rows x 22 columns]"
            ],
            "text/html": [
              "\n",
              "  <div id=\"df-9a9f32c9-2199-407d-b50c-d32dc38aff7f\">\n",
              "    <div class=\"colab-df-container\">\n",
              "      <div>\n",
              "<style scoped>\n",
              "    .dataframe tbody tr th:only-of-type {\n",
              "        vertical-align: middle;\n",
              "    }\n",
              "\n",
              "    .dataframe tbody tr th {\n",
              "        vertical-align: top;\n",
              "    }\n",
              "\n",
              "    .dataframe thead th {\n",
              "        text-align: right;\n",
              "    }\n",
              "</style>\n",
              "<table border=\"1\" class=\"dataframe\">\n",
              "  <thead>\n",
              "    <tr style=\"text-align: right;\">\n",
              "      <th></th>\n",
              "      <th>belongs_to_collection</th>\n",
              "      <th>budget</th>\n",
              "      <th>genres</th>\n",
              "      <th>homepage</th>\n",
              "      <th>imdb_id</th>\n",
              "      <th>original_language</th>\n",
              "      <th>original_title</th>\n",
              "      <th>overview</th>\n",
              "      <th>popularity</th>\n",
              "      <th>poster_path</th>\n",
              "      <th>...</th>\n",
              "      <th>release_date</th>\n",
              "      <th>runtime</th>\n",
              "      <th>spoken_languages</th>\n",
              "      <th>status</th>\n",
              "      <th>tagline</th>\n",
              "      <th>title</th>\n",
              "      <th>Keywords</th>\n",
              "      <th>cast</th>\n",
              "      <th>crew</th>\n",
              "      <th>revenue</th>\n",
              "    </tr>\n",
              "  </thead>\n",
              "  <tbody>\n",
              "    <tr>\n",
              "      <th>count</th>\n",
              "      <td>604</td>\n",
              "      <td>3.000000e+03</td>\n",
              "      <td>2993</td>\n",
              "      <td>946</td>\n",
              "      <td>3000</td>\n",
              "      <td>3000</td>\n",
              "      <td>3000</td>\n",
              "      <td>2992</td>\n",
              "      <td>3000.000000</td>\n",
              "      <td>2999</td>\n",
              "      <td>...</td>\n",
              "      <td>3000</td>\n",
              "      <td>2998.000000</td>\n",
              "      <td>2980</td>\n",
              "      <td>3000</td>\n",
              "      <td>2403</td>\n",
              "      <td>3000</td>\n",
              "      <td>2724</td>\n",
              "      <td>2987</td>\n",
              "      <td>2984</td>\n",
              "      <td>3.000000e+03</td>\n",
              "    </tr>\n",
              "    <tr>\n",
              "      <th>unique</th>\n",
              "      <td>422</td>\n",
              "      <td>NaN</td>\n",
              "      <td>872</td>\n",
              "      <td>941</td>\n",
              "      <td>3000</td>\n",
              "      <td>36</td>\n",
              "      <td>2975</td>\n",
              "      <td>2992</td>\n",
              "      <td>NaN</td>\n",
              "      <td>2999</td>\n",
              "      <td>...</td>\n",
              "      <td>2398</td>\n",
              "      <td>NaN</td>\n",
              "      <td>401</td>\n",
              "      <td>2</td>\n",
              "      <td>2400</td>\n",
              "      <td>2969</td>\n",
              "      <td>2648</td>\n",
              "      <td>2975</td>\n",
              "      <td>2984</td>\n",
              "      <td>NaN</td>\n",
              "    </tr>\n",
              "    <tr>\n",
              "      <th>top</th>\n",
              "      <td>[{'id': 645, 'name': 'James Bond Collection', ...</td>\n",
              "      <td>NaN</td>\n",
              "      <td>[{'id': 18, 'name': 'Drama'}]</td>\n",
              "      <td>http://www.transformersmovie.com/</td>\n",
              "      <td>tt2637294</td>\n",
              "      <td>en</td>\n",
              "      <td>Joshua</td>\n",
              "      <td>When Lou, who has become the \"father of the In...</td>\n",
              "      <td>NaN</td>\n",
              "      <td>/tQtWuwvMf0hCc2QR2tkolwl7c3c.jpg</td>\n",
              "      <td>...</td>\n",
              "      <td>9/10/10</td>\n",
              "      <td>NaN</td>\n",
              "      <td>[{'iso_639_1': 'en', 'name': 'English'}]</td>\n",
              "      <td>Released</td>\n",
              "      <td>Based on a true story.</td>\n",
              "      <td>The Magnificent Seven</td>\n",
              "      <td>[{'id': 10183, 'name': 'independent film'}]</td>\n",
              "      <td>[]</td>\n",
              "      <td>[{'credit_id': '59ac067c92514107af02c8c8', 'de...</td>\n",
              "      <td>NaN</td>\n",
              "    </tr>\n",
              "    <tr>\n",
              "      <th>freq</th>\n",
              "      <td>16</td>\n",
              "      <td>NaN</td>\n",
              "      <td>266</td>\n",
              "      <td>4</td>\n",
              "      <td>1</td>\n",
              "      <td>2575</td>\n",
              "      <td>2</td>\n",
              "      <td>1</td>\n",
              "      <td>NaN</td>\n",
              "      <td>1</td>\n",
              "      <td>...</td>\n",
              "      <td>5</td>\n",
              "      <td>NaN</td>\n",
              "      <td>1817</td>\n",
              "      <td>2996</td>\n",
              "      <td>3</td>\n",
              "      <td>2</td>\n",
              "      <td>27</td>\n",
              "      <td>13</td>\n",
              "      <td>1</td>\n",
              "      <td>NaN</td>\n",
              "    </tr>\n",
              "    <tr>\n",
              "      <th>mean</th>\n",
              "      <td>NaN</td>\n",
              "      <td>2.253133e+07</td>\n",
              "      <td>NaN</td>\n",
              "      <td>NaN</td>\n",
              "      <td>NaN</td>\n",
              "      <td>NaN</td>\n",
              "      <td>NaN</td>\n",
              "      <td>NaN</td>\n",
              "      <td>8.463274</td>\n",
              "      <td>NaN</td>\n",
              "      <td>...</td>\n",
              "      <td>NaN</td>\n",
              "      <td>107.856571</td>\n",
              "      <td>NaN</td>\n",
              "      <td>NaN</td>\n",
              "      <td>NaN</td>\n",
              "      <td>NaN</td>\n",
              "      <td>NaN</td>\n",
              "      <td>NaN</td>\n",
              "      <td>NaN</td>\n",
              "      <td>6.672585e+07</td>\n",
              "    </tr>\n",
              "    <tr>\n",
              "      <th>std</th>\n",
              "      <td>NaN</td>\n",
              "      <td>3.702609e+07</td>\n",
              "      <td>NaN</td>\n",
              "      <td>NaN</td>\n",
              "      <td>NaN</td>\n",
              "      <td>NaN</td>\n",
              "      <td>NaN</td>\n",
              "      <td>NaN</td>\n",
              "      <td>12.104000</td>\n",
              "      <td>NaN</td>\n",
              "      <td>...</td>\n",
              "      <td>NaN</td>\n",
              "      <td>22.086434</td>\n",
              "      <td>NaN</td>\n",
              "      <td>NaN</td>\n",
              "      <td>NaN</td>\n",
              "      <td>NaN</td>\n",
              "      <td>NaN</td>\n",
              "      <td>NaN</td>\n",
              "      <td>NaN</td>\n",
              "      <td>1.375323e+08</td>\n",
              "    </tr>\n",
              "    <tr>\n",
              "      <th>min</th>\n",
              "      <td>NaN</td>\n",
              "      <td>0.000000e+00</td>\n",
              "      <td>NaN</td>\n",
              "      <td>NaN</td>\n",
              "      <td>NaN</td>\n",
              "      <td>NaN</td>\n",
              "      <td>NaN</td>\n",
              "      <td>NaN</td>\n",
              "      <td>0.000001</td>\n",
              "      <td>NaN</td>\n",
              "      <td>...</td>\n",
              "      <td>NaN</td>\n",
              "      <td>0.000000</td>\n",
              "      <td>NaN</td>\n",
              "      <td>NaN</td>\n",
              "      <td>NaN</td>\n",
              "      <td>NaN</td>\n",
              "      <td>NaN</td>\n",
              "      <td>NaN</td>\n",
              "      <td>NaN</td>\n",
              "      <td>1.000000e+00</td>\n",
              "    </tr>\n",
              "    <tr>\n",
              "      <th>25%</th>\n",
              "      <td>NaN</td>\n",
              "      <td>0.000000e+00</td>\n",
              "      <td>NaN</td>\n",
              "      <td>NaN</td>\n",
              "      <td>NaN</td>\n",
              "      <td>NaN</td>\n",
              "      <td>NaN</td>\n",
              "      <td>NaN</td>\n",
              "      <td>4.018053</td>\n",
              "      <td>NaN</td>\n",
              "      <td>...</td>\n",
              "      <td>NaN</td>\n",
              "      <td>94.000000</td>\n",
              "      <td>NaN</td>\n",
              "      <td>NaN</td>\n",
              "      <td>NaN</td>\n",
              "      <td>NaN</td>\n",
              "      <td>NaN</td>\n",
              "      <td>NaN</td>\n",
              "      <td>NaN</td>\n",
              "      <td>2.379808e+06</td>\n",
              "    </tr>\n",
              "    <tr>\n",
              "      <th>50%</th>\n",
              "      <td>NaN</td>\n",
              "      <td>8.000000e+06</td>\n",
              "      <td>NaN</td>\n",
              "      <td>NaN</td>\n",
              "      <td>NaN</td>\n",
              "      <td>NaN</td>\n",
              "      <td>NaN</td>\n",
              "      <td>NaN</td>\n",
              "      <td>7.374861</td>\n",
              "      <td>NaN</td>\n",
              "      <td>...</td>\n",
              "      <td>NaN</td>\n",
              "      <td>104.000000</td>\n",
              "      <td>NaN</td>\n",
              "      <td>NaN</td>\n",
              "      <td>NaN</td>\n",
              "      <td>NaN</td>\n",
              "      <td>NaN</td>\n",
              "      <td>NaN</td>\n",
              "      <td>NaN</td>\n",
              "      <td>1.680707e+07</td>\n",
              "    </tr>\n",
              "    <tr>\n",
              "      <th>75%</th>\n",
              "      <td>NaN</td>\n",
              "      <td>2.900000e+07</td>\n",
              "      <td>NaN</td>\n",
              "      <td>NaN</td>\n",
              "      <td>NaN</td>\n",
              "      <td>NaN</td>\n",
              "      <td>NaN</td>\n",
              "      <td>NaN</td>\n",
              "      <td>10.890983</td>\n",
              "      <td>NaN</td>\n",
              "      <td>...</td>\n",
              "      <td>NaN</td>\n",
              "      <td>118.000000</td>\n",
              "      <td>NaN</td>\n",
              "      <td>NaN</td>\n",
              "      <td>NaN</td>\n",
              "      <td>NaN</td>\n",
              "      <td>NaN</td>\n",
              "      <td>NaN</td>\n",
              "      <td>NaN</td>\n",
              "      <td>6.891920e+07</td>\n",
              "    </tr>\n",
              "    <tr>\n",
              "      <th>max</th>\n",
              "      <td>NaN</td>\n",
              "      <td>3.800000e+08</td>\n",
              "      <td>NaN</td>\n",
              "      <td>NaN</td>\n",
              "      <td>NaN</td>\n",
              "      <td>NaN</td>\n",
              "      <td>NaN</td>\n",
              "      <td>NaN</td>\n",
              "      <td>294.337037</td>\n",
              "      <td>NaN</td>\n",
              "      <td>...</td>\n",
              "      <td>NaN</td>\n",
              "      <td>338.000000</td>\n",
              "      <td>NaN</td>\n",
              "      <td>NaN</td>\n",
              "      <td>NaN</td>\n",
              "      <td>NaN</td>\n",
              "      <td>NaN</td>\n",
              "      <td>NaN</td>\n",
              "      <td>NaN</td>\n",
              "      <td>1.519558e+09</td>\n",
              "    </tr>\n",
              "  </tbody>\n",
              "</table>\n",
              "<p>11 rows × 22 columns</p>\n",
              "</div>\n",
              "      <button class=\"colab-df-convert\" onclick=\"convertToInteractive('df-9a9f32c9-2199-407d-b50c-d32dc38aff7f')\"\n",
              "              title=\"Convert this dataframe to an interactive table.\"\n",
              "              style=\"display:none;\">\n",
              "        \n",
              "  <svg xmlns=\"http://www.w3.org/2000/svg\" height=\"24px\"viewBox=\"0 0 24 24\"\n",
              "       width=\"24px\">\n",
              "    <path d=\"M0 0h24v24H0V0z\" fill=\"none\"/>\n",
              "    <path d=\"M18.56 5.44l.94 2.06.94-2.06 2.06-.94-2.06-.94-.94-2.06-.94 2.06-2.06.94zm-11 1L8.5 8.5l.94-2.06 2.06-.94-2.06-.94L8.5 2.5l-.94 2.06-2.06.94zm10 10l.94 2.06.94-2.06 2.06-.94-2.06-.94-.94-2.06-.94 2.06-2.06.94z\"/><path d=\"M17.41 7.96l-1.37-1.37c-.4-.4-.92-.59-1.43-.59-.52 0-1.04.2-1.43.59L10.3 9.45l-7.72 7.72c-.78.78-.78 2.05 0 2.83L4 21.41c.39.39.9.59 1.41.59.51 0 1.02-.2 1.41-.59l7.78-7.78 2.81-2.81c.8-.78.8-2.07 0-2.86zM5.41 20L4 18.59l7.72-7.72 1.47 1.35L5.41 20z\"/>\n",
              "  </svg>\n",
              "      </button>\n",
              "      \n",
              "  <style>\n",
              "    .colab-df-container {\n",
              "      display:flex;\n",
              "      flex-wrap:wrap;\n",
              "      gap: 12px;\n",
              "    }\n",
              "\n",
              "    .colab-df-convert {\n",
              "      background-color: #E8F0FE;\n",
              "      border: none;\n",
              "      border-radius: 50%;\n",
              "      cursor: pointer;\n",
              "      display: none;\n",
              "      fill: #1967D2;\n",
              "      height: 32px;\n",
              "      padding: 0 0 0 0;\n",
              "      width: 32px;\n",
              "    }\n",
              "\n",
              "    .colab-df-convert:hover {\n",
              "      background-color: #E2EBFA;\n",
              "      box-shadow: 0px 1px 2px rgba(60, 64, 67, 0.3), 0px 1px 3px 1px rgba(60, 64, 67, 0.15);\n",
              "      fill: #174EA6;\n",
              "    }\n",
              "\n",
              "    [theme=dark] .colab-df-convert {\n",
              "      background-color: #3B4455;\n",
              "      fill: #D2E3FC;\n",
              "    }\n",
              "\n",
              "    [theme=dark] .colab-df-convert:hover {\n",
              "      background-color: #434B5C;\n",
              "      box-shadow: 0px 1px 3px 1px rgba(0, 0, 0, 0.15);\n",
              "      filter: drop-shadow(0px 1px 2px rgba(0, 0, 0, 0.3));\n",
              "      fill: #FFFFFF;\n",
              "    }\n",
              "  </style>\n",
              "\n",
              "      <script>\n",
              "        const buttonEl =\n",
              "          document.querySelector('#df-9a9f32c9-2199-407d-b50c-d32dc38aff7f button.colab-df-convert');\n",
              "        buttonEl.style.display =\n",
              "          google.colab.kernel.accessAllowed ? 'block' : 'none';\n",
              "\n",
              "        async function convertToInteractive(key) {\n",
              "          const element = document.querySelector('#df-9a9f32c9-2199-407d-b50c-d32dc38aff7f');\n",
              "          const dataTable =\n",
              "            await google.colab.kernel.invokeFunction('convertToInteractive',\n",
              "                                                     [key], {});\n",
              "          if (!dataTable) return;\n",
              "\n",
              "          const docLinkHtml = 'Like what you see? Visit the ' +\n",
              "            '<a target=\"_blank\" href=https://colab.research.google.com/notebooks/data_table.ipynb>data table notebook</a>'\n",
              "            + ' to learn more about interactive tables.';\n",
              "          element.innerHTML = '';\n",
              "          dataTable['output_type'] = 'display_data';\n",
              "          await google.colab.output.renderOutput(dataTable, element);\n",
              "          const docLink = document.createElement('div');\n",
              "          docLink.innerHTML = docLinkHtml;\n",
              "          element.appendChild(docLink);\n",
              "        }\n",
              "      </script>\n",
              "    </div>\n",
              "  </div>\n",
              "  "
            ]
          },
          "metadata": {},
          "execution_count": 20
        }
      ]
    },
    {
      "cell_type": "code",
      "source": [
        "# Create three dataframes\n",
        "\n",
        "# Runtime >= 150 mins\n",
        "imdb1 = imdb_df[imdb_df['runtime'] >= 150].reset_index(drop=True)\n",
        "\n",
        "imdb2 = imdb_df[ (imdb_df['runtime'] < 150) & (imdb_df['runtime'] > 100 )].reset_index(drop=True)\n",
        "\n",
        "imdb3 = imdb_df[imdb_df['runtime'] <= 100].reset_index(drop=True)"
      ],
      "metadata": {
        "id": "jtahE5YclqCC"
      },
      "execution_count": null,
      "outputs": []
    },
    {
      "cell_type": "code",
      "source": [
        "imdb1.shape"
      ],
      "metadata": {
        "colab": {
          "base_uri": "https://localhost:8080/"
        },
        "id": "YVqChc3ImTKD",
        "outputId": "24f9f5e6-ae48-4541-c8b5-3ec3724853f5"
      },
      "execution_count": null,
      "outputs": [
        {
          "output_type": "execute_result",
          "data": {
            "text/plain": [
              "(135, 22)"
            ]
          },
          "metadata": {},
          "execution_count": 40
        }
      ]
    },
    {
      "cell_type": "code",
      "source": [
        "imdb2.shape"
      ],
      "metadata": {
        "colab": {
          "base_uri": "https://localhost:8080/"
        },
        "id": "L9VvzwJrmUwy",
        "outputId": "8247b969-b576-45db-d7cf-aec1c9029749"
      },
      "execution_count": null,
      "outputs": [
        {
          "output_type": "execute_result",
          "data": {
            "text/plain": [
              "(1586, 22)"
            ]
          },
          "metadata": {},
          "execution_count": 41
        }
      ]
    },
    {
      "cell_type": "code",
      "source": [
        "imdb3.shape"
      ],
      "metadata": {
        "colab": {
          "base_uri": "https://localhost:8080/"
        },
        "id": "VpC2m8fvmYem",
        "outputId": "d8adb7e8-cdae-4b8c-b61f-225f61f0e763"
      },
      "execution_count": null,
      "outputs": [
        {
          "output_type": "execute_result",
          "data": {
            "text/plain": [
              "(1277, 22)"
            ]
          },
          "metadata": {},
          "execution_count": 24
        }
      ]
    },
    {
      "cell_type": "code",
      "source": [
        "imdb1\n"
      ],
      "metadata": {
        "colab": {
          "base_uri": "https://localhost:8080/",
          "height": 1000
        },
        "id": "mGYR4o_gmbto",
        "outputId": "0943ecab-1a30-4b5a-d6a3-97fc04a2b8ef"
      },
      "execution_count": null,
      "outputs": [
        {
          "output_type": "execute_result",
          "data": {
            "text/plain": [
              "    belongs_to_collection    budget  \\\n",
              "0                     NaN  44000000   \n",
              "1                     NaN  12000000   \n",
              "2                     NaN    500000   \n",
              "3                     NaN         0   \n",
              "4                     NaN  72000000   \n",
              "..                    ...       ...   \n",
              "130                   NaN  22000000   \n",
              "131                   NaN  18000000   \n",
              "132                   NaN  12000000   \n",
              "133                   NaN  31500000   \n",
              "134                   NaN  61000000   \n",
              "\n",
              "                                                genres  \\\n",
              "0    [{'id': 80, 'name': 'Crime'}, {'id': 18, 'name...   \n",
              "1    [{'id': 12, 'name': 'Adventure'}, {'id': 35, '...   \n",
              "2    [{'id': 18, 'name': 'Drama'}, {'id': 10749, 'n...   \n",
              "3    [{'id': 14, 'name': 'Fantasy'}, {'id': 18, 'na...   \n",
              "4    [{'id': 28, 'name': 'Action'}, {'id': 18, 'nam...   \n",
              "..                                                 ...   \n",
              "130  [{'id': 18, 'name': 'Drama'}, {'id': 36, 'name...   \n",
              "131  [{'id': 18, 'name': 'Drama'}, {'id': 36, 'name...   \n",
              "132  [{'id': 28, 'name': 'Action'}, {'id': 12, 'nam...   \n",
              "133  [{'id': 18, 'name': 'Drama'}, {'id': 10752, 'n...   \n",
              "134  [{'id': 18, 'name': 'Drama'}, {'id': 10402, 'n...   \n",
              "\n",
              "                             homepage    imdb_id original_language  \\\n",
              "0         http://thehatefuleight.com/  tt3460252                en   \n",
              "1                                 NaN  tt0059243                en   \n",
              "2                                 NaN  tt0242572                ta   \n",
              "3                                 NaN  tt1772980                ru   \n",
              "4                                 NaN  tt0112573                en   \n",
              "..                                ...        ...               ...   \n",
              "130                               NaN  tt0083987                en   \n",
              "131                               NaN  tt0086879                en   \n",
              "132                               NaN  tt0060934                en   \n",
              "133      http://www.apocalypsenow.com  tt0078788                en   \n",
              "134  http://www.lesmiserablesfilm.com  tt1707386                en   \n",
              "\n",
              "                original_title  \\\n",
              "0            The Hateful Eight   \n",
              "1               The Great Race   \n",
              "2    Kandukondain Kandukondain   \n",
              "3                       Mishen   \n",
              "4                   Braveheart   \n",
              "..                         ...   \n",
              "130                     Gandhi   \n",
              "131                    Amadeus   \n",
              "132           The Sand Pebbles   \n",
              "133             Apocalypse Now   \n",
              "134             Les Misérables   \n",
              "\n",
              "                                              overview  popularity  \\\n",
              "0    Bounty hunters seek shelter from a raging bliz...   20.328822   \n",
              "1    Professional daredevil and white-suited hero, ...    4.473327   \n",
              "2    Two young women with differing views on love f...    0.660663   \n",
              "3    In the year 2020, a group of wealthy Moscovite...    1.042112   \n",
              "4    Enraged at the slaughter of Murron, his new br...   20.755149   \n",
              "..                                                 ...         ...   \n",
              "130  In the early years of the 20th century, Mohand...   12.383755   \n",
              "131  The incredible story of genius musician Wolfga...   12.677592   \n",
              "132  Engineer Jake Holman arrives aboard the gunboa...   11.354247   \n",
              "133  At the height of the Vietnam war, Captain Benj...   13.596300   \n",
              "134  An adaptation of the successful stage musical ...   13.524080   \n",
              "\n",
              "                          poster_path  ... release_date runtime  \\\n",
              "0    /fqe8JxDNO8B8QfOGTdjh6sPCdSC.jpg  ...     12/25/15   167.0   \n",
              "1    /nc6FRAVC4a8o4podiFy2P5qI9ul.jpg  ...       7/1/65   160.0   \n",
              "2    /AnhaX3iivU7aLc6fLuAuHXTsbgO.jpg  ...       5/5/00   157.0   \n",
              "3    /uMzkG73Y5qL9tiRrXnGlndOqhbJ.jpg  ...      6/26/11   158.0   \n",
              "4    /2qAgGeYdLjelOEqjW9FYvPHpplC.jpg  ...      5/24/95   177.0   \n",
              "..                                ...  ...          ...     ...   \n",
              "130  /2z9A4FSu1YySrhhcuqkdMIXpgyN.jpg  ...     11/30/82   191.0   \n",
              "131  /flnoqdC38mbaulAeptjynOFO7yi.jpg  ...     10/26/84   160.0   \n",
              "132  /zgahpKXixtsmveyl9oPOD7GhmpW.jpg  ...     12/20/66   182.0   \n",
              "133  /jcvJ2xcVWU9Wh0hZAxcs103s8nN.jpg  ...      8/15/79   153.0   \n",
              "134  /qEsrAHoxj746FRb7OLGYjrx1AI3.jpg  ...     12/18/12   157.0   \n",
              "\n",
              "                                      spoken_languages    status  \\\n",
              "0    [{'iso_639_1': 'es', 'name': 'Español'}, {'iso...  Released   \n",
              "1    [{'iso_639_1': 'en', 'name': 'English'}, {'iso...  Released   \n",
              "2    [{'iso_639_1': 'en', 'name': 'English'}, {'iso...  Released   \n",
              "3    [{'iso_639_1': 'de', 'name': 'Deutsch'}, {'iso...  Released   \n",
              "4    [{'iso_639_1': 'en', 'name': 'English'}, {'iso...  Released   \n",
              "..                                                 ...       ...   \n",
              "130  [{'iso_639_1': 'en', 'name': 'English'}, {'iso...  Released   \n",
              "131  [{'iso_639_1': 'en', 'name': 'English'}, {'iso...  Released   \n",
              "132  [{'iso_639_1': 'en', 'name': 'English'}, {'iso...  Released   \n",
              "133  [{'iso_639_1': 'km', 'name': ''}, {'iso_639_1'...  Released   \n",
              "134           [{'iso_639_1': 'en', 'name': 'English'}]  Released   \n",
              "\n",
              "                                               tagline  \\\n",
              "0     No one comes up here without a damn good reason.   \n",
              "1    The movie with 20,000-mile or one-million-laug...   \n",
              "2                                                  NaN   \n",
              "3                                                  NaN   \n",
              "4           Every man dies. Not every man truly lives.   \n",
              "..                                                 ...   \n",
              "130             His triumph changed the world forever.   \n",
              "131                 ...Everything you've heard is true   \n",
              "132  This is the heroic story of the men on the U.S...   \n",
              "133                                 This is the end...   \n",
              "134                          Fight. Dream. Hope. Love.   \n",
              "\n",
              "                         title  \\\n",
              "0            The Hateful Eight   \n",
              "1               The Great Race   \n",
              "2    Kandukondain Kandukondain   \n",
              "3                       Target   \n",
              "4                   Braveheart   \n",
              "..                         ...   \n",
              "130                     Gandhi   \n",
              "131                    Amadeus   \n",
              "132           The Sand Pebbles   \n",
              "133             Apocalypse Now   \n",
              "134             Les Misérables   \n",
              "\n",
              "                                              Keywords  \\\n",
              "0    [{'id': 801, 'name': 'bounty hunter'}, {'id': ...   \n",
              "1    [{'id': 9253, 'name': 'slapstick'}, {'id': 159...   \n",
              "2                                                  NaN   \n",
              "3                                                  NaN   \n",
              "4    [{'id': 30, 'name': 'individual'}, {'id': 388,...   \n",
              "..                                                 ...   \n",
              "130  [{'id': 789, 'name': 'muslim'}, {'id': 958, 'n...   \n",
              "131  [{'id': 131, 'name': 'italy'}, {'id': 1233, 'n...   \n",
              "132  [{'id': 440, 'name': 'missionary'}, {'id': 478...   \n",
              "133  [{'id': 1008, 'name': 'guerrilla'}, {'id': 126...   \n",
              "134  [{'id': 254, 'name': 'france'}, {'id': 642, 'n...   \n",
              "\n",
              "                                                  cast  \\\n",
              "0    [{'cast_id': 22, 'character': 'Major Marquis W...   \n",
              "1    [{'cast_id': 1, 'character': 'Prof. Fate', 'cr...   \n",
              "2    [{'cast_id': 1, 'character': 'Manohar', 'credi...   \n",
              "3    [{'cast_id': 1001, 'character': 'Victor', 'cre...   \n",
              "4    [{'cast_id': 5, 'character': 'William Wallace'...   \n",
              "..                                                 ...   \n",
              "130  [{'cast_id': 7, 'character': 'Mahatma Gandhi',...   \n",
              "131  [{'cast_id': 4, 'character': 'Antonio Salieri'...   \n",
              "132  [{'cast_id': 1, 'character': 'Jake Holman', 'c...   \n",
              "133  [{'cast_id': 29, 'character': 'Captain Benjami...   \n",
              "134                                                NaN   \n",
              "\n",
              "                                                  crew    revenue  \n",
              "0    [{'credit_id': '538aa95ec3a368714e0005b3', 'de...  155760117  \n",
              "1    [{'credit_id': '52fe445e9251416c75032581', 'de...   25333333  \n",
              "2    [{'credit_id': '52fe47c7c3a368484e0d8f41', 'de...     500000  \n",
              "3    [{'credit_id': '58cdbad4c3a36850e9011085', 'de...      73000  \n",
              "4    [{'credit_id': '52fe4225c3a36847f80079c1', 'de...  210000000  \n",
              "..                                                 ...        ...  \n",
              "130  [{'credit_id': '574dc2c3925141120e0000cb', 'de...   77737889  \n",
              "131  [{'credit_id': '57d19657c3a3684b9d008667', 'de...   51973029  \n",
              "132  [{'credit_id': '52fe442ec3a36847f8087029', 'de...   20000000  \n",
              "133  [{'credit_id': '52fe4210c3a36847f80012c7', 'de...   89460381  \n",
              "134                                                NaN  441809770  \n",
              "\n",
              "[135 rows x 22 columns]"
            ],
            "text/html": [
              "\n",
              "  <div id=\"df-ef71ff56-6c39-43f4-90ca-c87b700f7e6c\">\n",
              "    <div class=\"colab-df-container\">\n",
              "      <div>\n",
              "<style scoped>\n",
              "    .dataframe tbody tr th:only-of-type {\n",
              "        vertical-align: middle;\n",
              "    }\n",
              "\n",
              "    .dataframe tbody tr th {\n",
              "        vertical-align: top;\n",
              "    }\n",
              "\n",
              "    .dataframe thead th {\n",
              "        text-align: right;\n",
              "    }\n",
              "</style>\n",
              "<table border=\"1\" class=\"dataframe\">\n",
              "  <thead>\n",
              "    <tr style=\"text-align: right;\">\n",
              "      <th></th>\n",
              "      <th>belongs_to_collection</th>\n",
              "      <th>budget</th>\n",
              "      <th>genres</th>\n",
              "      <th>homepage</th>\n",
              "      <th>imdb_id</th>\n",
              "      <th>original_language</th>\n",
              "      <th>original_title</th>\n",
              "      <th>overview</th>\n",
              "      <th>popularity</th>\n",
              "      <th>poster_path</th>\n",
              "      <th>...</th>\n",
              "      <th>release_date</th>\n",
              "      <th>runtime</th>\n",
              "      <th>spoken_languages</th>\n",
              "      <th>status</th>\n",
              "      <th>tagline</th>\n",
              "      <th>title</th>\n",
              "      <th>Keywords</th>\n",
              "      <th>cast</th>\n",
              "      <th>crew</th>\n",
              "      <th>revenue</th>\n",
              "    </tr>\n",
              "  </thead>\n",
              "  <tbody>\n",
              "    <tr>\n",
              "      <th>0</th>\n",
              "      <td>NaN</td>\n",
              "      <td>44000000</td>\n",
              "      <td>[{'id': 80, 'name': 'Crime'}, {'id': 18, 'name...</td>\n",
              "      <td>http://thehatefuleight.com/</td>\n",
              "      <td>tt3460252</td>\n",
              "      <td>en</td>\n",
              "      <td>The Hateful Eight</td>\n",
              "      <td>Bounty hunters seek shelter from a raging bliz...</td>\n",
              "      <td>20.328822</td>\n",
              "      <td>/fqe8JxDNO8B8QfOGTdjh6sPCdSC.jpg</td>\n",
              "      <td>...</td>\n",
              "      <td>12/25/15</td>\n",
              "      <td>167.0</td>\n",
              "      <td>[{'iso_639_1': 'es', 'name': 'Español'}, {'iso...</td>\n",
              "      <td>Released</td>\n",
              "      <td>No one comes up here without a damn good reason.</td>\n",
              "      <td>The Hateful Eight</td>\n",
              "      <td>[{'id': 801, 'name': 'bounty hunter'}, {'id': ...</td>\n",
              "      <td>[{'cast_id': 22, 'character': 'Major Marquis W...</td>\n",
              "      <td>[{'credit_id': '538aa95ec3a368714e0005b3', 'de...</td>\n",
              "      <td>155760117</td>\n",
              "    </tr>\n",
              "    <tr>\n",
              "      <th>1</th>\n",
              "      <td>NaN</td>\n",
              "      <td>12000000</td>\n",
              "      <td>[{'id': 12, 'name': 'Adventure'}, {'id': 35, '...</td>\n",
              "      <td>NaN</td>\n",
              "      <td>tt0059243</td>\n",
              "      <td>en</td>\n",
              "      <td>The Great Race</td>\n",
              "      <td>Professional daredevil and white-suited hero, ...</td>\n",
              "      <td>4.473327</td>\n",
              "      <td>/nc6FRAVC4a8o4podiFy2P5qI9ul.jpg</td>\n",
              "      <td>...</td>\n",
              "      <td>7/1/65</td>\n",
              "      <td>160.0</td>\n",
              "      <td>[{'iso_639_1': 'en', 'name': 'English'}, {'iso...</td>\n",
              "      <td>Released</td>\n",
              "      <td>The movie with 20,000-mile or one-million-laug...</td>\n",
              "      <td>The Great Race</td>\n",
              "      <td>[{'id': 9253, 'name': 'slapstick'}, {'id': 159...</td>\n",
              "      <td>[{'cast_id': 1, 'character': 'Prof. Fate', 'cr...</td>\n",
              "      <td>[{'credit_id': '52fe445e9251416c75032581', 'de...</td>\n",
              "      <td>25333333</td>\n",
              "    </tr>\n",
              "    <tr>\n",
              "      <th>2</th>\n",
              "      <td>NaN</td>\n",
              "      <td>500000</td>\n",
              "      <td>[{'id': 18, 'name': 'Drama'}, {'id': 10749, 'n...</td>\n",
              "      <td>NaN</td>\n",
              "      <td>tt0242572</td>\n",
              "      <td>ta</td>\n",
              "      <td>Kandukondain Kandukondain</td>\n",
              "      <td>Two young women with differing views on love f...</td>\n",
              "      <td>0.660663</td>\n",
              "      <td>/AnhaX3iivU7aLc6fLuAuHXTsbgO.jpg</td>\n",
              "      <td>...</td>\n",
              "      <td>5/5/00</td>\n",
              "      <td>157.0</td>\n",
              "      <td>[{'iso_639_1': 'en', 'name': 'English'}, {'iso...</td>\n",
              "      <td>Released</td>\n",
              "      <td>NaN</td>\n",
              "      <td>Kandukondain Kandukondain</td>\n",
              "      <td>NaN</td>\n",
              "      <td>[{'cast_id': 1, 'character': 'Manohar', 'credi...</td>\n",
              "      <td>[{'credit_id': '52fe47c7c3a368484e0d8f41', 'de...</td>\n",
              "      <td>500000</td>\n",
              "    </tr>\n",
              "    <tr>\n",
              "      <th>3</th>\n",
              "      <td>NaN</td>\n",
              "      <td>0</td>\n",
              "      <td>[{'id': 14, 'name': 'Fantasy'}, {'id': 18, 'na...</td>\n",
              "      <td>NaN</td>\n",
              "      <td>tt1772980</td>\n",
              "      <td>ru</td>\n",
              "      <td>Mishen</td>\n",
              "      <td>In the year 2020, a group of wealthy Moscovite...</td>\n",
              "      <td>1.042112</td>\n",
              "      <td>/uMzkG73Y5qL9tiRrXnGlndOqhbJ.jpg</td>\n",
              "      <td>...</td>\n",
              "      <td>6/26/11</td>\n",
              "      <td>158.0</td>\n",
              "      <td>[{'iso_639_1': 'de', 'name': 'Deutsch'}, {'iso...</td>\n",
              "      <td>Released</td>\n",
              "      <td>NaN</td>\n",
              "      <td>Target</td>\n",
              "      <td>NaN</td>\n",
              "      <td>[{'cast_id': 1001, 'character': 'Victor', 'cre...</td>\n",
              "      <td>[{'credit_id': '58cdbad4c3a36850e9011085', 'de...</td>\n",
              "      <td>73000</td>\n",
              "    </tr>\n",
              "    <tr>\n",
              "      <th>4</th>\n",
              "      <td>NaN</td>\n",
              "      <td>72000000</td>\n",
              "      <td>[{'id': 28, 'name': 'Action'}, {'id': 18, 'nam...</td>\n",
              "      <td>NaN</td>\n",
              "      <td>tt0112573</td>\n",
              "      <td>en</td>\n",
              "      <td>Braveheart</td>\n",
              "      <td>Enraged at the slaughter of Murron, his new br...</td>\n",
              "      <td>20.755149</td>\n",
              "      <td>/2qAgGeYdLjelOEqjW9FYvPHpplC.jpg</td>\n",
              "      <td>...</td>\n",
              "      <td>5/24/95</td>\n",
              "      <td>177.0</td>\n",
              "      <td>[{'iso_639_1': 'en', 'name': 'English'}, {'iso...</td>\n",
              "      <td>Released</td>\n",
              "      <td>Every man dies. Not every man truly lives.</td>\n",
              "      <td>Braveheart</td>\n",
              "      <td>[{'id': 30, 'name': 'individual'}, {'id': 388,...</td>\n",
              "      <td>[{'cast_id': 5, 'character': 'William Wallace'...</td>\n",
              "      <td>[{'credit_id': '52fe4225c3a36847f80079c1', 'de...</td>\n",
              "      <td>210000000</td>\n",
              "    </tr>\n",
              "    <tr>\n",
              "      <th>...</th>\n",
              "      <td>...</td>\n",
              "      <td>...</td>\n",
              "      <td>...</td>\n",
              "      <td>...</td>\n",
              "      <td>...</td>\n",
              "      <td>...</td>\n",
              "      <td>...</td>\n",
              "      <td>...</td>\n",
              "      <td>...</td>\n",
              "      <td>...</td>\n",
              "      <td>...</td>\n",
              "      <td>...</td>\n",
              "      <td>...</td>\n",
              "      <td>...</td>\n",
              "      <td>...</td>\n",
              "      <td>...</td>\n",
              "      <td>...</td>\n",
              "      <td>...</td>\n",
              "      <td>...</td>\n",
              "      <td>...</td>\n",
              "      <td>...</td>\n",
              "    </tr>\n",
              "    <tr>\n",
              "      <th>130</th>\n",
              "      <td>NaN</td>\n",
              "      <td>22000000</td>\n",
              "      <td>[{'id': 18, 'name': 'Drama'}, {'id': 36, 'name...</td>\n",
              "      <td>NaN</td>\n",
              "      <td>tt0083987</td>\n",
              "      <td>en</td>\n",
              "      <td>Gandhi</td>\n",
              "      <td>In the early years of the 20th century, Mohand...</td>\n",
              "      <td>12.383755</td>\n",
              "      <td>/2z9A4FSu1YySrhhcuqkdMIXpgyN.jpg</td>\n",
              "      <td>...</td>\n",
              "      <td>11/30/82</td>\n",
              "      <td>191.0</td>\n",
              "      <td>[{'iso_639_1': 'en', 'name': 'English'}, {'iso...</td>\n",
              "      <td>Released</td>\n",
              "      <td>His triumph changed the world forever.</td>\n",
              "      <td>Gandhi</td>\n",
              "      <td>[{'id': 789, 'name': 'muslim'}, {'id': 958, 'n...</td>\n",
              "      <td>[{'cast_id': 7, 'character': 'Mahatma Gandhi',...</td>\n",
              "      <td>[{'credit_id': '574dc2c3925141120e0000cb', 'de...</td>\n",
              "      <td>77737889</td>\n",
              "    </tr>\n",
              "    <tr>\n",
              "      <th>131</th>\n",
              "      <td>NaN</td>\n",
              "      <td>18000000</td>\n",
              "      <td>[{'id': 18, 'name': 'Drama'}, {'id': 36, 'name...</td>\n",
              "      <td>NaN</td>\n",
              "      <td>tt0086879</td>\n",
              "      <td>en</td>\n",
              "      <td>Amadeus</td>\n",
              "      <td>The incredible story of genius musician Wolfga...</td>\n",
              "      <td>12.677592</td>\n",
              "      <td>/flnoqdC38mbaulAeptjynOFO7yi.jpg</td>\n",
              "      <td>...</td>\n",
              "      <td>10/26/84</td>\n",
              "      <td>160.0</td>\n",
              "      <td>[{'iso_639_1': 'en', 'name': 'English'}, {'iso...</td>\n",
              "      <td>Released</td>\n",
              "      <td>...Everything you've heard is true</td>\n",
              "      <td>Amadeus</td>\n",
              "      <td>[{'id': 131, 'name': 'italy'}, {'id': 1233, 'n...</td>\n",
              "      <td>[{'cast_id': 4, 'character': 'Antonio Salieri'...</td>\n",
              "      <td>[{'credit_id': '57d19657c3a3684b9d008667', 'de...</td>\n",
              "      <td>51973029</td>\n",
              "    </tr>\n",
              "    <tr>\n",
              "      <th>132</th>\n",
              "      <td>NaN</td>\n",
              "      <td>12000000</td>\n",
              "      <td>[{'id': 28, 'name': 'Action'}, {'id': 12, 'nam...</td>\n",
              "      <td>NaN</td>\n",
              "      <td>tt0060934</td>\n",
              "      <td>en</td>\n",
              "      <td>The Sand Pebbles</td>\n",
              "      <td>Engineer Jake Holman arrives aboard the gunboa...</td>\n",
              "      <td>11.354247</td>\n",
              "      <td>/zgahpKXixtsmveyl9oPOD7GhmpW.jpg</td>\n",
              "      <td>...</td>\n",
              "      <td>12/20/66</td>\n",
              "      <td>182.0</td>\n",
              "      <td>[{'iso_639_1': 'en', 'name': 'English'}, {'iso...</td>\n",
              "      <td>Released</td>\n",
              "      <td>This is the heroic story of the men on the U.S...</td>\n",
              "      <td>The Sand Pebbles</td>\n",
              "      <td>[{'id': 440, 'name': 'missionary'}, {'id': 478...</td>\n",
              "      <td>[{'cast_id': 1, 'character': 'Jake Holman', 'c...</td>\n",
              "      <td>[{'credit_id': '52fe442ec3a36847f8087029', 'de...</td>\n",
              "      <td>20000000</td>\n",
              "    </tr>\n",
              "    <tr>\n",
              "      <th>133</th>\n",
              "      <td>NaN</td>\n",
              "      <td>31500000</td>\n",
              "      <td>[{'id': 18, 'name': 'Drama'}, {'id': 10752, 'n...</td>\n",
              "      <td>http://www.apocalypsenow.com</td>\n",
              "      <td>tt0078788</td>\n",
              "      <td>en</td>\n",
              "      <td>Apocalypse Now</td>\n",
              "      <td>At the height of the Vietnam war, Captain Benj...</td>\n",
              "      <td>13.596300</td>\n",
              "      <td>/jcvJ2xcVWU9Wh0hZAxcs103s8nN.jpg</td>\n",
              "      <td>...</td>\n",
              "      <td>8/15/79</td>\n",
              "      <td>153.0</td>\n",
              "      <td>[{'iso_639_1': 'km', 'name': ''}, {'iso_639_1'...</td>\n",
              "      <td>Released</td>\n",
              "      <td>This is the end...</td>\n",
              "      <td>Apocalypse Now</td>\n",
              "      <td>[{'id': 1008, 'name': 'guerrilla'}, {'id': 126...</td>\n",
              "      <td>[{'cast_id': 29, 'character': 'Captain Benjami...</td>\n",
              "      <td>[{'credit_id': '52fe4210c3a36847f80012c7', 'de...</td>\n",
              "      <td>89460381</td>\n",
              "    </tr>\n",
              "    <tr>\n",
              "      <th>134</th>\n",
              "      <td>NaN</td>\n",
              "      <td>61000000</td>\n",
              "      <td>[{'id': 18, 'name': 'Drama'}, {'id': 10402, 'n...</td>\n",
              "      <td>http://www.lesmiserablesfilm.com</td>\n",
              "      <td>tt1707386</td>\n",
              "      <td>en</td>\n",
              "      <td>Les Misérables</td>\n",
              "      <td>An adaptation of the successful stage musical ...</td>\n",
              "      <td>13.524080</td>\n",
              "      <td>/qEsrAHoxj746FRb7OLGYjrx1AI3.jpg</td>\n",
              "      <td>...</td>\n",
              "      <td>12/18/12</td>\n",
              "      <td>157.0</td>\n",
              "      <td>[{'iso_639_1': 'en', 'name': 'English'}]</td>\n",
              "      <td>Released</td>\n",
              "      <td>Fight. Dream. Hope. Love.</td>\n",
              "      <td>Les Misérables</td>\n",
              "      <td>[{'id': 254, 'name': 'france'}, {'id': 642, 'n...</td>\n",
              "      <td>NaN</td>\n",
              "      <td>NaN</td>\n",
              "      <td>441809770</td>\n",
              "    </tr>\n",
              "  </tbody>\n",
              "</table>\n",
              "<p>135 rows × 22 columns</p>\n",
              "</div>\n",
              "      <button class=\"colab-df-convert\" onclick=\"convertToInteractive('df-ef71ff56-6c39-43f4-90ca-c87b700f7e6c')\"\n",
              "              title=\"Convert this dataframe to an interactive table.\"\n",
              "              style=\"display:none;\">\n",
              "        \n",
              "  <svg xmlns=\"http://www.w3.org/2000/svg\" height=\"24px\"viewBox=\"0 0 24 24\"\n",
              "       width=\"24px\">\n",
              "    <path d=\"M0 0h24v24H0V0z\" fill=\"none\"/>\n",
              "    <path d=\"M18.56 5.44l.94 2.06.94-2.06 2.06-.94-2.06-.94-.94-2.06-.94 2.06-2.06.94zm-11 1L8.5 8.5l.94-2.06 2.06-.94-2.06-.94L8.5 2.5l-.94 2.06-2.06.94zm10 10l.94 2.06.94-2.06 2.06-.94-2.06-.94-.94-2.06-.94 2.06-2.06.94z\"/><path d=\"M17.41 7.96l-1.37-1.37c-.4-.4-.92-.59-1.43-.59-.52 0-1.04.2-1.43.59L10.3 9.45l-7.72 7.72c-.78.78-.78 2.05 0 2.83L4 21.41c.39.39.9.59 1.41.59.51 0 1.02-.2 1.41-.59l7.78-7.78 2.81-2.81c.8-.78.8-2.07 0-2.86zM5.41 20L4 18.59l7.72-7.72 1.47 1.35L5.41 20z\"/>\n",
              "  </svg>\n",
              "      </button>\n",
              "      \n",
              "  <style>\n",
              "    .colab-df-container {\n",
              "      display:flex;\n",
              "      flex-wrap:wrap;\n",
              "      gap: 12px;\n",
              "    }\n",
              "\n",
              "    .colab-df-convert {\n",
              "      background-color: #E8F0FE;\n",
              "      border: none;\n",
              "      border-radius: 50%;\n",
              "      cursor: pointer;\n",
              "      display: none;\n",
              "      fill: #1967D2;\n",
              "      height: 32px;\n",
              "      padding: 0 0 0 0;\n",
              "      width: 32px;\n",
              "    }\n",
              "\n",
              "    .colab-df-convert:hover {\n",
              "      background-color: #E2EBFA;\n",
              "      box-shadow: 0px 1px 2px rgba(60, 64, 67, 0.3), 0px 1px 3px 1px rgba(60, 64, 67, 0.15);\n",
              "      fill: #174EA6;\n",
              "    }\n",
              "\n",
              "    [theme=dark] .colab-df-convert {\n",
              "      background-color: #3B4455;\n",
              "      fill: #D2E3FC;\n",
              "    }\n",
              "\n",
              "    [theme=dark] .colab-df-convert:hover {\n",
              "      background-color: #434B5C;\n",
              "      box-shadow: 0px 1px 3px 1px rgba(0, 0, 0, 0.15);\n",
              "      filter: drop-shadow(0px 1px 2px rgba(0, 0, 0, 0.3));\n",
              "      fill: #FFFFFF;\n",
              "    }\n",
              "  </style>\n",
              "\n",
              "      <script>\n",
              "        const buttonEl =\n",
              "          document.querySelector('#df-ef71ff56-6c39-43f4-90ca-c87b700f7e6c button.colab-df-convert');\n",
              "        buttonEl.style.display =\n",
              "          google.colab.kernel.accessAllowed ? 'block' : 'none';\n",
              "\n",
              "        async function convertToInteractive(key) {\n",
              "          const element = document.querySelector('#df-ef71ff56-6c39-43f4-90ca-c87b700f7e6c');\n",
              "          const dataTable =\n",
              "            await google.colab.kernel.invokeFunction('convertToInteractive',\n",
              "                                                     [key], {});\n",
              "          if (!dataTable) return;\n",
              "\n",
              "          const docLinkHtml = 'Like what you see? Visit the ' +\n",
              "            '<a target=\"_blank\" href=https://colab.research.google.com/notebooks/data_table.ipynb>data table notebook</a>'\n",
              "            + ' to learn more about interactive tables.';\n",
              "          element.innerHTML = '';\n",
              "          dataTable['output_type'] = 'display_data';\n",
              "          await google.colab.output.renderOutput(dataTable, element);\n",
              "          const docLink = document.createElement('div');\n",
              "          docLink.innerHTML = docLinkHtml;\n",
              "          element.appendChild(docLink);\n",
              "        }\n",
              "      </script>\n",
              "    </div>\n",
              "  </div>\n",
              "  "
            ]
          },
          "metadata": {},
          "execution_count": 25
        }
      ]
    },
    {
      "cell_type": "code",
      "source": [],
      "metadata": {
        "id": "8aHaeVSVmhxL"
      },
      "execution_count": null,
      "outputs": []
    },
    {
      "cell_type": "code",
      "source": [
        "a = [1,2,3]\n",
        "b = [4,5,6]\n",
        "c = [7,8,9]"
      ],
      "metadata": {
        "id": "cqWB0n1fm1cB"
      },
      "execution_count": null,
      "outputs": []
    },
    {
      "cell_type": "code",
      "source": [
        "d = a+b+c\n",
        "d"
      ],
      "metadata": {
        "colab": {
          "base_uri": "https://localhost:8080/"
        },
        "id": "cPYiyA-G13xi",
        "outputId": "a0143c08-a2b0-4bb4-cecc-a00c374b9a00"
      },
      "execution_count": null,
      "outputs": [
        {
          "output_type": "execute_result",
          "data": {
            "text/plain": [
              "[1, 2, 3, 4, 5, 6, 7, 8, 9]"
            ]
          },
          "metadata": {},
          "execution_count": 6
        }
      ]
    },
    {
      "cell_type": "code",
      "source": [
        "#to concate the list in pandas\n",
        "list_df = [imdb1,imdb2,imdb3]\n",
        "non_null_values = pd.concat(list_df , axis=1 )\n",
        "non_null_values.shape"
      ],
      "metadata": {
        "colab": {
          "base_uri": "https://localhost:8080/"
        },
        "id": "KhMbSHPf16j9",
        "outputId": "5149c9ea-2bad-4915-dd05-d8db64ee0bdb"
      },
      "execution_count": null,
      "outputs": [
        {
          "output_type": "execute_result",
          "data": {
            "text/plain": [
              "(1586, 66)"
            ]
          },
          "metadata": {},
          "execution_count": 35
        }
      ]
    },
    {
      "cell_type": "code",
      "source": [
        "#another method of concat\n",
        "non_null_no = pd.concat([imdb1 , imdb2 , imdb3 ], axis=1)\n",
        "non_null_no.shape"
      ],
      "metadata": {
        "colab": {
          "base_uri": "https://localhost:8080/"
        },
        "id": "IOT3-Usy2fJC",
        "outputId": "4dae1be3-0057-491d-d0d0-b4ce065e325a"
      },
      "execution_count": null,
      "outputs": [
        {
          "output_type": "execute_result",
          "data": {
            "text/plain": [
              "(1586, 66)"
            ]
          },
          "metadata": {},
          "execution_count": 37
        }
      ]
    },
    {
      "cell_type": "code",
      "source": [],
      "metadata": {
        "id": "FNk5KmbG6cir"
      },
      "execution_count": null,
      "outputs": []
    }
  ]
}