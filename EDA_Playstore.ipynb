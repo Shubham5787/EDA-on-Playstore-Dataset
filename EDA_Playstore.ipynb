{
  "nbformat": 4,
  "nbformat_minor": 0,
  "metadata": {
    "colab": {
      "provenance": [],
      "mount_file_id": "1e906wsX37un-eQLxgopT1nUSlpdpTeZa",
      "authorship_tag": "ABX9TyOSrFicaO3roSX3AtLOVZgH",
      "include_colab_link": true
    },
    "kernelspec": {
      "name": "python3",
      "display_name": "Python 3"
    },
    "language_info": {
      "name": "python"
    }
  },
  "cells": [
    {
      "cell_type": "markdown",
      "metadata": {
        "id": "view-in-github",
        "colab_type": "text"
      },
      "source": [
        "<a href=\"https://colab.research.google.com/github/Shubham5787/EDA-on-Playstore-Dataset/blob/main/EDA_Playstore.ipynb\" target=\"_parent\"><img src=\"https://colab.research.google.com/assets/colab-badge.svg\" alt=\"Open In Colab\"/></a>"
      ]
    },
    {
      "cell_type": "markdown",
      "source": [
        "# EDA on playstore Dataset\n",
        "\n",
        "\n",
        "\n",
        "\n",
        "\n"
      ],
      "metadata": {
        "id": "ZIjCJE0faljH"
      }
    },
    {
      "cell_type": "code",
      "source": [
        "import numpy as np\n",
        "import pandas as pd\n",
        "from google.colab import drive\n",
        "drive.mount('/content/drive')"
      ],
      "metadata": {
        "colab": {
          "base_uri": "https://localhost:8080/",
          "height": 0
        },
        "id": "l8RbkO6PaaJ2",
        "outputId": "e8250225-3d32-4799-84ec-cff22ada2944"
      },
      "execution_count": 1,
      "outputs": [
        {
          "output_type": "stream",
          "name": "stdout",
          "text": [
            "Drive already mounted at /content/drive; to attempt to forcibly remount, call drive.mount(\"/content/drive\", force_remount=True).\n"
          ]
        }
      ]
    },
    {
      "cell_type": "code",
      "source": [
        "import matplotlib.pyplot as plt\n",
        "import seaborn as sns"
      ],
      "metadata": {
        "id": "N6pgklBRc5MV"
      },
      "execution_count": 2,
      "outputs": []
    },
    {
      "cell_type": "code",
      "source": [
        "df = pd.read_csv('/content/drive/MyDrive/Play Store Data.csv')"
      ],
      "metadata": {
        "id": "yeDQjJbIbEfQ"
      },
      "execution_count": 4,
      "outputs": []
    },
    {
      "cell_type": "code",
      "source": [
        "df.head().T"
      ],
      "metadata": {
        "colab": {
          "base_uri": "https://localhost:8080/",
          "height": 457
        },
        "id": "hz1Kh7c-cKHj",
        "outputId": "17105849-9ccb-40fe-c57d-ec3fb5752d25"
      },
      "execution_count": 5,
      "outputs": [
        {
          "output_type": "execute_result",
          "data": {
            "text/plain": [
              "                                                             0  \\\n",
              "App             Photo Editor & Candy Camera & Grid & ScrapBook   \n",
              "Category                                        ART_AND_DESIGN   \n",
              "Rating                                                     4.1   \n",
              "Reviews                                                    159   \n",
              "Size                                                       19M   \n",
              "Installs                                               10,000+   \n",
              "Type                                                      Free   \n",
              "Price                                                        0   \n",
              "Content Rating                                        Everyone   \n",
              "Genres                                            Art & Design   \n",
              "Last Updated                                   January 7, 2018   \n",
              "Current Ver                                              1.0.0   \n",
              "Android Ver                                       4.0.3 and up   \n",
              "\n",
              "                                        1  \\\n",
              "App                   Coloring book moana   \n",
              "Category                   ART_AND_DESIGN   \n",
              "Rating                                3.9   \n",
              "Reviews                               967   \n",
              "Size                                  14M   \n",
              "Installs                         500,000+   \n",
              "Type                                 Free   \n",
              "Price                                   0   \n",
              "Content Rating                   Everyone   \n",
              "Genres          Art & Design;Pretend Play   \n",
              "Last Updated             January 15, 2018   \n",
              "Current Ver                         2.0.0   \n",
              "Android Ver                  4.0.3 and up   \n",
              "\n",
              "                                                                2  \\\n",
              "App             U Launcher Lite – FREE Live Cool Themes, Hide ...   \n",
              "Category                                           ART_AND_DESIGN   \n",
              "Rating                                                        4.7   \n",
              "Reviews                                                     87510   \n",
              "Size                                                         8.7M   \n",
              "Installs                                               5,000,000+   \n",
              "Type                                                         Free   \n",
              "Price                                                           0   \n",
              "Content Rating                                           Everyone   \n",
              "Genres                                               Art & Design   \n",
              "Last Updated                                       August 1, 2018   \n",
              "Current Ver                                                 1.2.4   \n",
              "Android Ver                                          4.0.3 and up   \n",
              "\n",
              "                                    3                                      4  \n",
              "App             Sketch - Draw & Paint  Pixel Draw - Number Art Coloring Book  \n",
              "Category               ART_AND_DESIGN                         ART_AND_DESIGN  \n",
              "Rating                            4.5                                    4.3  \n",
              "Reviews                        215644                                    967  \n",
              "Size                              25M                                   2.8M  \n",
              "Installs                  50,000,000+                               100,000+  \n",
              "Type                             Free                                   Free  \n",
              "Price                               0                                      0  \n",
              "Content Rating                   Teen                               Everyone  \n",
              "Genres                   Art & Design                Art & Design;Creativity  \n",
              "Last Updated             June 8, 2018                          June 20, 2018  \n",
              "Current Ver        Varies with device                                    1.1  \n",
              "Android Ver                4.2 and up                             4.4 and up  "
            ],
            "text/html": [
              "\n",
              "  <div id=\"df-defe2905-a08d-4362-9a59-7837b7578768\">\n",
              "    <div class=\"colab-df-container\">\n",
              "      <div>\n",
              "<style scoped>\n",
              "    .dataframe tbody tr th:only-of-type {\n",
              "        vertical-align: middle;\n",
              "    }\n",
              "\n",
              "    .dataframe tbody tr th {\n",
              "        vertical-align: top;\n",
              "    }\n",
              "\n",
              "    .dataframe thead th {\n",
              "        text-align: right;\n",
              "    }\n",
              "</style>\n",
              "<table border=\"1\" class=\"dataframe\">\n",
              "  <thead>\n",
              "    <tr style=\"text-align: right;\">\n",
              "      <th></th>\n",
              "      <th>0</th>\n",
              "      <th>1</th>\n",
              "      <th>2</th>\n",
              "      <th>3</th>\n",
              "      <th>4</th>\n",
              "    </tr>\n",
              "  </thead>\n",
              "  <tbody>\n",
              "    <tr>\n",
              "      <th>App</th>\n",
              "      <td>Photo Editor &amp; Candy Camera &amp; Grid &amp; ScrapBook</td>\n",
              "      <td>Coloring book moana</td>\n",
              "      <td>U Launcher Lite – FREE Live Cool Themes, Hide ...</td>\n",
              "      <td>Sketch - Draw &amp; Paint</td>\n",
              "      <td>Pixel Draw - Number Art Coloring Book</td>\n",
              "    </tr>\n",
              "    <tr>\n",
              "      <th>Category</th>\n",
              "      <td>ART_AND_DESIGN</td>\n",
              "      <td>ART_AND_DESIGN</td>\n",
              "      <td>ART_AND_DESIGN</td>\n",
              "      <td>ART_AND_DESIGN</td>\n",
              "      <td>ART_AND_DESIGN</td>\n",
              "    </tr>\n",
              "    <tr>\n",
              "      <th>Rating</th>\n",
              "      <td>4.1</td>\n",
              "      <td>3.9</td>\n",
              "      <td>4.7</td>\n",
              "      <td>4.5</td>\n",
              "      <td>4.3</td>\n",
              "    </tr>\n",
              "    <tr>\n",
              "      <th>Reviews</th>\n",
              "      <td>159</td>\n",
              "      <td>967</td>\n",
              "      <td>87510</td>\n",
              "      <td>215644</td>\n",
              "      <td>967</td>\n",
              "    </tr>\n",
              "    <tr>\n",
              "      <th>Size</th>\n",
              "      <td>19M</td>\n",
              "      <td>14M</td>\n",
              "      <td>8.7M</td>\n",
              "      <td>25M</td>\n",
              "      <td>2.8M</td>\n",
              "    </tr>\n",
              "    <tr>\n",
              "      <th>Installs</th>\n",
              "      <td>10,000+</td>\n",
              "      <td>500,000+</td>\n",
              "      <td>5,000,000+</td>\n",
              "      <td>50,000,000+</td>\n",
              "      <td>100,000+</td>\n",
              "    </tr>\n",
              "    <tr>\n",
              "      <th>Type</th>\n",
              "      <td>Free</td>\n",
              "      <td>Free</td>\n",
              "      <td>Free</td>\n",
              "      <td>Free</td>\n",
              "      <td>Free</td>\n",
              "    </tr>\n",
              "    <tr>\n",
              "      <th>Price</th>\n",
              "      <td>0</td>\n",
              "      <td>0</td>\n",
              "      <td>0</td>\n",
              "      <td>0</td>\n",
              "      <td>0</td>\n",
              "    </tr>\n",
              "    <tr>\n",
              "      <th>Content Rating</th>\n",
              "      <td>Everyone</td>\n",
              "      <td>Everyone</td>\n",
              "      <td>Everyone</td>\n",
              "      <td>Teen</td>\n",
              "      <td>Everyone</td>\n",
              "    </tr>\n",
              "    <tr>\n",
              "      <th>Genres</th>\n",
              "      <td>Art &amp; Design</td>\n",
              "      <td>Art &amp; Design;Pretend Play</td>\n",
              "      <td>Art &amp; Design</td>\n",
              "      <td>Art &amp; Design</td>\n",
              "      <td>Art &amp; Design;Creativity</td>\n",
              "    </tr>\n",
              "    <tr>\n",
              "      <th>Last Updated</th>\n",
              "      <td>January 7, 2018</td>\n",
              "      <td>January 15, 2018</td>\n",
              "      <td>August 1, 2018</td>\n",
              "      <td>June 8, 2018</td>\n",
              "      <td>June 20, 2018</td>\n",
              "    </tr>\n",
              "    <tr>\n",
              "      <th>Current Ver</th>\n",
              "      <td>1.0.0</td>\n",
              "      <td>2.0.0</td>\n",
              "      <td>1.2.4</td>\n",
              "      <td>Varies with device</td>\n",
              "      <td>1.1</td>\n",
              "    </tr>\n",
              "    <tr>\n",
              "      <th>Android Ver</th>\n",
              "      <td>4.0.3 and up</td>\n",
              "      <td>4.0.3 and up</td>\n",
              "      <td>4.0.3 and up</td>\n",
              "      <td>4.2 and up</td>\n",
              "      <td>4.4 and up</td>\n",
              "    </tr>\n",
              "  </tbody>\n",
              "</table>\n",
              "</div>\n",
              "      <button class=\"colab-df-convert\" onclick=\"convertToInteractive('df-defe2905-a08d-4362-9a59-7837b7578768')\"\n",
              "              title=\"Convert this dataframe to an interactive table.\"\n",
              "              style=\"display:none;\">\n",
              "        \n",
              "  <svg xmlns=\"http://www.w3.org/2000/svg\" height=\"24px\"viewBox=\"0 0 24 24\"\n",
              "       width=\"24px\">\n",
              "    <path d=\"M0 0h24v24H0V0z\" fill=\"none\"/>\n",
              "    <path d=\"M18.56 5.44l.94 2.06.94-2.06 2.06-.94-2.06-.94-.94-2.06-.94 2.06-2.06.94zm-11 1L8.5 8.5l.94-2.06 2.06-.94-2.06-.94L8.5 2.5l-.94 2.06-2.06.94zm10 10l.94 2.06.94-2.06 2.06-.94-2.06-.94-.94-2.06-.94 2.06-2.06.94z\"/><path d=\"M17.41 7.96l-1.37-1.37c-.4-.4-.92-.59-1.43-.59-.52 0-1.04.2-1.43.59L10.3 9.45l-7.72 7.72c-.78.78-.78 2.05 0 2.83L4 21.41c.39.39.9.59 1.41.59.51 0 1.02-.2 1.41-.59l7.78-7.78 2.81-2.81c.8-.78.8-2.07 0-2.86zM5.41 20L4 18.59l7.72-7.72 1.47 1.35L5.41 20z\"/>\n",
              "  </svg>\n",
              "      </button>\n",
              "      \n",
              "  <style>\n",
              "    .colab-df-container {\n",
              "      display:flex;\n",
              "      flex-wrap:wrap;\n",
              "      gap: 12px;\n",
              "    }\n",
              "\n",
              "    .colab-df-convert {\n",
              "      background-color: #E8F0FE;\n",
              "      border: none;\n",
              "      border-radius: 50%;\n",
              "      cursor: pointer;\n",
              "      display: none;\n",
              "      fill: #1967D2;\n",
              "      height: 32px;\n",
              "      padding: 0 0 0 0;\n",
              "      width: 32px;\n",
              "    }\n",
              "\n",
              "    .colab-df-convert:hover {\n",
              "      background-color: #E2EBFA;\n",
              "      box-shadow: 0px 1px 2px rgba(60, 64, 67, 0.3), 0px 1px 3px 1px rgba(60, 64, 67, 0.15);\n",
              "      fill: #174EA6;\n",
              "    }\n",
              "\n",
              "    [theme=dark] .colab-df-convert {\n",
              "      background-color: #3B4455;\n",
              "      fill: #D2E3FC;\n",
              "    }\n",
              "\n",
              "    [theme=dark] .colab-df-convert:hover {\n",
              "      background-color: #434B5C;\n",
              "      box-shadow: 0px 1px 3px 1px rgba(0, 0, 0, 0.15);\n",
              "      filter: drop-shadow(0px 1px 2px rgba(0, 0, 0, 0.3));\n",
              "      fill: #FFFFFF;\n",
              "    }\n",
              "  </style>\n",
              "\n",
              "      <script>\n",
              "        const buttonEl =\n",
              "          document.querySelector('#df-defe2905-a08d-4362-9a59-7837b7578768 button.colab-df-convert');\n",
              "        buttonEl.style.display =\n",
              "          google.colab.kernel.accessAllowed ? 'block' : 'none';\n",
              "\n",
              "        async function convertToInteractive(key) {\n",
              "          const element = document.querySelector('#df-defe2905-a08d-4362-9a59-7837b7578768');\n",
              "          const dataTable =\n",
              "            await google.colab.kernel.invokeFunction('convertToInteractive',\n",
              "                                                     [key], {});\n",
              "          if (!dataTable) return;\n",
              "\n",
              "          const docLinkHtml = 'Like what you see? Visit the ' +\n",
              "            '<a target=\"_blank\" href=https://colab.research.google.com/notebooks/data_table.ipynb>data table notebook</a>'\n",
              "            + ' to learn more about interactive tables.';\n",
              "          element.innerHTML = '';\n",
              "          dataTable['output_type'] = 'display_data';\n",
              "          await google.colab.output.renderOutput(dataTable, element);\n",
              "          const docLink = document.createElement('div');\n",
              "          docLink.innerHTML = docLinkHtml;\n",
              "          element.appendChild(docLink);\n",
              "        }\n",
              "      </script>\n",
              "    </div>\n",
              "  </div>\n",
              "  "
            ]
          },
          "metadata": {},
          "execution_count": 5
        }
      ]
    },
    {
      "cell_type": "code",
      "source": [
        "df.shape"
      ],
      "metadata": {
        "colab": {
          "base_uri": "https://localhost:8080/",
          "height": 0
        },
        "id": "NjTXFsLkcLFp",
        "outputId": "ebdd130c-8d49-454e-b6f9-7e8ebe56966c"
      },
      "execution_count": 6,
      "outputs": [
        {
          "output_type": "execute_result",
          "data": {
            "text/plain": [
              "(10841, 13)"
            ]
          },
          "metadata": {},
          "execution_count": 6
        }
      ]
    },
    {
      "cell_type": "code",
      "source": [
        "df.info()"
      ],
      "metadata": {
        "colab": {
          "base_uri": "https://localhost:8080/",
          "height": 0
        },
        "id": "NQ_6zFDWcTY0",
        "outputId": "f7ec993a-3595-43b3-d828-57d14b855b0c"
      },
      "execution_count": 7,
      "outputs": [
        {
          "output_type": "stream",
          "name": "stdout",
          "text": [
            "<class 'pandas.core.frame.DataFrame'>\n",
            "RangeIndex: 10841 entries, 0 to 10840\n",
            "Data columns (total 13 columns):\n",
            " #   Column          Non-Null Count  Dtype  \n",
            "---  ------          --------------  -----  \n",
            " 0   App             10841 non-null  object \n",
            " 1   Category        10841 non-null  object \n",
            " 2   Rating          9367 non-null   float64\n",
            " 3   Reviews         10841 non-null  object \n",
            " 4   Size            10841 non-null  object \n",
            " 5   Installs        10841 non-null  object \n",
            " 6   Type            10840 non-null  object \n",
            " 7   Price           10841 non-null  object \n",
            " 8   Content Rating  10840 non-null  object \n",
            " 9   Genres          10841 non-null  object \n",
            " 10  Last Updated    10841 non-null  object \n",
            " 11  Current Ver     10833 non-null  object \n",
            " 12  Android Ver     10838 non-null  object \n",
            "dtypes: float64(1), object(12)\n",
            "memory usage: 1.1+ MB\n"
          ]
        }
      ]
    },
    {
      "cell_type": "code",
      "source": [
        "df.isnull().sum().sort_values(ascending = False)"
      ],
      "metadata": {
        "colab": {
          "base_uri": "https://localhost:8080/",
          "height": 0
        },
        "id": "DhHR6s4NcUxc",
        "outputId": "f4f26c6c-3c2d-4aed-fbe7-19131b473eac"
      },
      "execution_count": 8,
      "outputs": [
        {
          "output_type": "execute_result",
          "data": {
            "text/plain": [
              "Rating            1474\n",
              "Current Ver          8\n",
              "Android Ver          3\n",
              "Type                 1\n",
              "Content Rating       1\n",
              "App                  0\n",
              "Category             0\n",
              "Reviews              0\n",
              "Size                 0\n",
              "Installs             0\n",
              "Price                0\n",
              "Genres               0\n",
              "Last Updated         0\n",
              "dtype: int64"
            ]
          },
          "metadata": {},
          "execution_count": 8
        }
      ]
    },
    {
      "cell_type": "code",
      "source": [
        "# Finding out the mean and filling where the Vlaue is null\n",
        "df['Rating'].mean()"
      ],
      "metadata": {
        "colab": {
          "base_uri": "https://localhost:8080/",
          "height": 0
        },
        "id": "PGsvWSOOHt-F",
        "outputId": "7598066e-7cd9-45ba-c473-229b4eed0188"
      },
      "execution_count": 9,
      "outputs": [
        {
          "output_type": "execute_result",
          "data": {
            "text/plain": [
              "4.193338315362443"
            ]
          },
          "metadata": {},
          "execution_count": 9
        }
      ]
    },
    {
      "cell_type": "code",
      "source": [
        "df['Rating'].fillna(4.193 , inplace = True)"
      ],
      "metadata": {
        "id": "O-s3u3jhyXKY"
      },
      "execution_count": 10,
      "outputs": []
    },
    {
      "cell_type": "code",
      "source": [
        "# here we can see that the rating has no null values\n",
        "df.info()"
      ],
      "metadata": {
        "colab": {
          "base_uri": "https://localhost:8080/",
          "height": 0
        },
        "id": "vEleVFNByhoW",
        "outputId": "d0dcae8e-b40d-4fde-f626-9472f4e53fec"
      },
      "execution_count": 11,
      "outputs": [
        {
          "output_type": "stream",
          "name": "stdout",
          "text": [
            "<class 'pandas.core.frame.DataFrame'>\n",
            "RangeIndex: 10841 entries, 0 to 10840\n",
            "Data columns (total 13 columns):\n",
            " #   Column          Non-Null Count  Dtype  \n",
            "---  ------          --------------  -----  \n",
            " 0   App             10841 non-null  object \n",
            " 1   Category        10841 non-null  object \n",
            " 2   Rating          10841 non-null  float64\n",
            " 3   Reviews         10841 non-null  object \n",
            " 4   Size            10841 non-null  object \n",
            " 5   Installs        10841 non-null  object \n",
            " 6   Type            10840 non-null  object \n",
            " 7   Price           10841 non-null  object \n",
            " 8   Content Rating  10840 non-null  object \n",
            " 9   Genres          10841 non-null  object \n",
            " 10  Last Updated    10841 non-null  object \n",
            " 11  Current Ver     10833 non-null  object \n",
            " 12  Android Ver     10838 non-null  object \n",
            "dtypes: float64(1), object(12)\n",
            "memory usage: 1.1+ MB\n"
          ]
        }
      ]
    },
    {
      "cell_type": "code",
      "source": [
        "#dropping the null values from the table\n",
        "df.dropna(inplace = True)"
      ],
      "metadata": {
        "id": "dHyeDHRqzLpv"
      },
      "execution_count": 12,
      "outputs": []
    },
    {
      "cell_type": "code",
      "source": [
        "#Now we can see that the data is clean\n",
        "df.isnull().sum()"
      ],
      "metadata": {
        "colab": {
          "base_uri": "https://localhost:8080/",
          "height": 0
        },
        "id": "TBlijFds1AZB",
        "outputId": "7e8c6507-30ca-4be5-ab7b-178e375f108c"
      },
      "execution_count": 13,
      "outputs": [
        {
          "output_type": "execute_result",
          "data": {
            "text/plain": [
              "App               0\n",
              "Category          0\n",
              "Rating            0\n",
              "Reviews           0\n",
              "Size              0\n",
              "Installs          0\n",
              "Type              0\n",
              "Price             0\n",
              "Content Rating    0\n",
              "Genres            0\n",
              "Last Updated      0\n",
              "Current Ver       0\n",
              "Android Ver       0\n",
              "dtype: int64"
            ]
          },
          "metadata": {},
          "execution_count": 13
        }
      ]
    },
    {
      "cell_type": "code",
      "source": [
        "#Dropping the column which we dont require\n",
        "df.drop('Android Ver' , axis = 1 , inplace = True)"
      ],
      "metadata": {
        "id": "L5GeHADB1JBL"
      },
      "execution_count": 14,
      "outputs": []
    },
    {
      "cell_type": "code",
      "source": [
        "df['Category'].value_counts()"
      ],
      "metadata": {
        "colab": {
          "base_uri": "https://localhost:8080/",
          "height": 0
        },
        "id": "rzVrv6dts76m",
        "outputId": "70870253-367b-4d42-abc3-3e0e4a61471e"
      },
      "execution_count": 15,
      "outputs": [
        {
          "output_type": "execute_result",
          "data": {
            "text/plain": [
              "FAMILY                 1968\n",
              "GAME                   1144\n",
              "TOOLS                   841\n",
              "MEDICAL                 463\n",
              "BUSINESS                460\n",
              "PRODUCTIVITY            424\n",
              "PERSONALIZATION         390\n",
              "COMMUNICATION           387\n",
              "SPORTS                  384\n",
              "LIFESTYLE               382\n",
              "FINANCE                 366\n",
              "HEALTH_AND_FITNESS      341\n",
              "PHOTOGRAPHY             335\n",
              "SOCIAL                  295\n",
              "NEWS_AND_MAGAZINES      283\n",
              "SHOPPING                260\n",
              "TRAVEL_AND_LOCAL        258\n",
              "DATING                  234\n",
              "BOOKS_AND_REFERENCE     230\n",
              "VIDEO_PLAYERS           175\n",
              "EDUCATION               156\n",
              "ENTERTAINMENT           149\n",
              "MAPS_AND_NAVIGATION     137\n",
              "FOOD_AND_DRINK          127\n",
              "HOUSE_AND_HOME           88\n",
              "AUTO_AND_VEHICLES        85\n",
              "LIBRARIES_AND_DEMO       84\n",
              "WEATHER                  82\n",
              "EVENTS                   64\n",
              "ART_AND_DESIGN           64\n",
              "PARENTING                60\n",
              "COMICS                   60\n",
              "BEAUTY                   53\n",
              "Name: Category, dtype: int64"
            ]
          },
          "metadata": {},
          "execution_count": 15
        }
      ]
    },
    {
      "cell_type": "code",
      "source": [
        "#checking for the duplicates and dropping the duplicate\n",
        "df['App'].value_counts()"
      ],
      "metadata": {
        "colab": {
          "base_uri": "https://localhost:8080/",
          "height": 0
        },
        "id": "03d13kMtugmt",
        "outputId": "c1d84791-9fa1-4f9d-e0aa-5926ee3eaae8"
      },
      "execution_count": 16,
      "outputs": [
        {
          "output_type": "execute_result",
          "data": {
            "text/plain": [
              "ROBLOX                                                9\n",
              "CBS Sports App - Scores, News, Stats & Watch Live     8\n",
              "Candy Crush Saga                                      7\n",
              "8 Ball Pool                                           7\n",
              "ESPN                                                  7\n",
              "                                                     ..\n",
              "Meet U - Get Friends for Snapchat, Kik & Instagram    1\n",
              "U-Report                                              1\n",
              "U of I Community Credit Union                         1\n",
              "Waiting For U Launcher Theme                          1\n",
              "iHoroscope - 2018 Daily Horoscope & Astrology         1\n",
              "Name: App, Length: 9648, dtype: int64"
            ]
          },
          "metadata": {},
          "execution_count": 16
        }
      ]
    },
    {
      "cell_type": "code",
      "source": [
        "#here we can see that the data is clean now no duplicates\n",
        "df.drop_duplicates(subset = 'App' , inplace = True)"
      ],
      "metadata": {
        "id": "cbpLLM_Pwx7u"
      },
      "execution_count": 17,
      "outputs": []
    },
    {
      "cell_type": "code",
      "source": [
        "df['App'].value_counts()"
      ],
      "metadata": {
        "colab": {
          "base_uri": "https://localhost:8080/",
          "height": 0
        },
        "id": "tlQngdqoxDjI",
        "outputId": "83dbf7b5-f458-438f-ec7f-c66acba9b313"
      },
      "execution_count": 18,
      "outputs": [
        {
          "output_type": "execute_result",
          "data": {
            "text/plain": [
              "Photo Editor & Candy Camera & Grid & ScrapBook    1\n",
              "CK Pharmacies                                     1\n",
              "CK Call NEW                                       1\n",
              "Ck Coif                                           1\n",
              "CONTRACT KILLER: ZOMBIES                          1\n",
              "                                                 ..\n",
              "KineMaster – Pro Video Editor                     1\n",
              "Block City Wars + skins export                    1\n",
              "Bike Race Free - Top Motorcycle Racing Games      1\n",
              "Dance School Stories - Dance Dreams Come True     1\n",
              "iHoroscope - 2018 Daily Horoscope & Astrology     1\n",
              "Name: App, Length: 9648, dtype: int64"
            ]
          },
          "metadata": {},
          "execution_count": 18
        }
      ]
    },
    {
      "cell_type": "code",
      "source": [
        "pd.DataFrame(df.App).reset_index()"
      ],
      "metadata": {
        "colab": {
          "base_uri": "https://localhost:8080/",
          "height": 424
        },
        "id": "TVmiqpD0xIvC",
        "outputId": "c00b17d5-e4b4-4d84-c3f9-602b3575748c"
      },
      "execution_count": 19,
      "outputs": [
        {
          "output_type": "execute_result",
          "data": {
            "text/plain": [
              "      index                                                App\n",
              "0         0     Photo Editor & Candy Camera & Grid & ScrapBook\n",
              "1         1                                Coloring book moana\n",
              "2         2  U Launcher Lite – FREE Live Cool Themes, Hide ...\n",
              "3         3                              Sketch - Draw & Paint\n",
              "4         4              Pixel Draw - Number Art Coloring Book\n",
              "...     ...                                                ...\n",
              "9643  10836                                   Sya9a Maroc - FR\n",
              "9644  10837                   Fr. Mike Schmitz Audio Teachings\n",
              "9645  10838                             Parkinson Exercices FR\n",
              "9646  10839                      The SCP Foundation DB fr nn5n\n",
              "9647  10840      iHoroscope - 2018 Daily Horoscope & Astrology\n",
              "\n",
              "[9648 rows x 2 columns]"
            ],
            "text/html": [
              "\n",
              "  <div id=\"df-bb100439-d8fc-4f31-9400-9d0cb9047866\">\n",
              "    <div class=\"colab-df-container\">\n",
              "      <div>\n",
              "<style scoped>\n",
              "    .dataframe tbody tr th:only-of-type {\n",
              "        vertical-align: middle;\n",
              "    }\n",
              "\n",
              "    .dataframe tbody tr th {\n",
              "        vertical-align: top;\n",
              "    }\n",
              "\n",
              "    .dataframe thead th {\n",
              "        text-align: right;\n",
              "    }\n",
              "</style>\n",
              "<table border=\"1\" class=\"dataframe\">\n",
              "  <thead>\n",
              "    <tr style=\"text-align: right;\">\n",
              "      <th></th>\n",
              "      <th>index</th>\n",
              "      <th>App</th>\n",
              "    </tr>\n",
              "  </thead>\n",
              "  <tbody>\n",
              "    <tr>\n",
              "      <th>0</th>\n",
              "      <td>0</td>\n",
              "      <td>Photo Editor &amp; Candy Camera &amp; Grid &amp; ScrapBook</td>\n",
              "    </tr>\n",
              "    <tr>\n",
              "      <th>1</th>\n",
              "      <td>1</td>\n",
              "      <td>Coloring book moana</td>\n",
              "    </tr>\n",
              "    <tr>\n",
              "      <th>2</th>\n",
              "      <td>2</td>\n",
              "      <td>U Launcher Lite – FREE Live Cool Themes, Hide ...</td>\n",
              "    </tr>\n",
              "    <tr>\n",
              "      <th>3</th>\n",
              "      <td>3</td>\n",
              "      <td>Sketch - Draw &amp; Paint</td>\n",
              "    </tr>\n",
              "    <tr>\n",
              "      <th>4</th>\n",
              "      <td>4</td>\n",
              "      <td>Pixel Draw - Number Art Coloring Book</td>\n",
              "    </tr>\n",
              "    <tr>\n",
              "      <th>...</th>\n",
              "      <td>...</td>\n",
              "      <td>...</td>\n",
              "    </tr>\n",
              "    <tr>\n",
              "      <th>9643</th>\n",
              "      <td>10836</td>\n",
              "      <td>Sya9a Maroc - FR</td>\n",
              "    </tr>\n",
              "    <tr>\n",
              "      <th>9644</th>\n",
              "      <td>10837</td>\n",
              "      <td>Fr. Mike Schmitz Audio Teachings</td>\n",
              "    </tr>\n",
              "    <tr>\n",
              "      <th>9645</th>\n",
              "      <td>10838</td>\n",
              "      <td>Parkinson Exercices FR</td>\n",
              "    </tr>\n",
              "    <tr>\n",
              "      <th>9646</th>\n",
              "      <td>10839</td>\n",
              "      <td>The SCP Foundation DB fr nn5n</td>\n",
              "    </tr>\n",
              "    <tr>\n",
              "      <th>9647</th>\n",
              "      <td>10840</td>\n",
              "      <td>iHoroscope - 2018 Daily Horoscope &amp; Astrology</td>\n",
              "    </tr>\n",
              "  </tbody>\n",
              "</table>\n",
              "<p>9648 rows × 2 columns</p>\n",
              "</div>\n",
              "      <button class=\"colab-df-convert\" onclick=\"convertToInteractive('df-bb100439-d8fc-4f31-9400-9d0cb9047866')\"\n",
              "              title=\"Convert this dataframe to an interactive table.\"\n",
              "              style=\"display:none;\">\n",
              "        \n",
              "  <svg xmlns=\"http://www.w3.org/2000/svg\" height=\"24px\"viewBox=\"0 0 24 24\"\n",
              "       width=\"24px\">\n",
              "    <path d=\"M0 0h24v24H0V0z\" fill=\"none\"/>\n",
              "    <path d=\"M18.56 5.44l.94 2.06.94-2.06 2.06-.94-2.06-.94-.94-2.06-.94 2.06-2.06.94zm-11 1L8.5 8.5l.94-2.06 2.06-.94-2.06-.94L8.5 2.5l-.94 2.06-2.06.94zm10 10l.94 2.06.94-2.06 2.06-.94-2.06-.94-.94-2.06-.94 2.06-2.06.94z\"/><path d=\"M17.41 7.96l-1.37-1.37c-.4-.4-.92-.59-1.43-.59-.52 0-1.04.2-1.43.59L10.3 9.45l-7.72 7.72c-.78.78-.78 2.05 0 2.83L4 21.41c.39.39.9.59 1.41.59.51 0 1.02-.2 1.41-.59l7.78-7.78 2.81-2.81c.8-.78.8-2.07 0-2.86zM5.41 20L4 18.59l7.72-7.72 1.47 1.35L5.41 20z\"/>\n",
              "  </svg>\n",
              "      </button>\n",
              "      \n",
              "  <style>\n",
              "    .colab-df-container {\n",
              "      display:flex;\n",
              "      flex-wrap:wrap;\n",
              "      gap: 12px;\n",
              "    }\n",
              "\n",
              "    .colab-df-convert {\n",
              "      background-color: #E8F0FE;\n",
              "      border: none;\n",
              "      border-radius: 50%;\n",
              "      cursor: pointer;\n",
              "      display: none;\n",
              "      fill: #1967D2;\n",
              "      height: 32px;\n",
              "      padding: 0 0 0 0;\n",
              "      width: 32px;\n",
              "    }\n",
              "\n",
              "    .colab-df-convert:hover {\n",
              "      background-color: #E2EBFA;\n",
              "      box-shadow: 0px 1px 2px rgba(60, 64, 67, 0.3), 0px 1px 3px 1px rgba(60, 64, 67, 0.15);\n",
              "      fill: #174EA6;\n",
              "    }\n",
              "\n",
              "    [theme=dark] .colab-df-convert {\n",
              "      background-color: #3B4455;\n",
              "      fill: #D2E3FC;\n",
              "    }\n",
              "\n",
              "    [theme=dark] .colab-df-convert:hover {\n",
              "      background-color: #434B5C;\n",
              "      box-shadow: 0px 1px 3px 1px rgba(0, 0, 0, 0.15);\n",
              "      filter: drop-shadow(0px 1px 2px rgba(0, 0, 0, 0.3));\n",
              "      fill: #FFFFFF;\n",
              "    }\n",
              "  </style>\n",
              "\n",
              "      <script>\n",
              "        const buttonEl =\n",
              "          document.querySelector('#df-bb100439-d8fc-4f31-9400-9d0cb9047866 button.colab-df-convert');\n",
              "        buttonEl.style.display =\n",
              "          google.colab.kernel.accessAllowed ? 'block' : 'none';\n",
              "\n",
              "        async function convertToInteractive(key) {\n",
              "          const element = document.querySelector('#df-bb100439-d8fc-4f31-9400-9d0cb9047866');\n",
              "          const dataTable =\n",
              "            await google.colab.kernel.invokeFunction('convertToInteractive',\n",
              "                                                     [key], {});\n",
              "          if (!dataTable) return;\n",
              "\n",
              "          const docLinkHtml = 'Like what you see? Visit the ' +\n",
              "            '<a target=\"_blank\" href=https://colab.research.google.com/notebooks/data_table.ipynb>data table notebook</a>'\n",
              "            + ' to learn more about interactive tables.';\n",
              "          element.innerHTML = '';\n",
              "          dataTable['output_type'] = 'display_data';\n",
              "          await google.colab.output.renderOutput(dataTable, element);\n",
              "          const docLink = document.createElement('div');\n",
              "          docLink.innerHTML = docLinkHtml;\n",
              "          element.appendChild(docLink);\n",
              "        }\n",
              "      </script>\n",
              "    </div>\n",
              "  </div>\n",
              "  "
            ]
          },
          "metadata": {},
          "execution_count": 19
        }
      ]
    },
    {
      "cell_type": "code",
      "source": [
        "pd.DataFrame(df['Category'].unique())"
      ],
      "metadata": {
        "colab": {
          "base_uri": "https://localhost:8080/",
          "height": 1084
        },
        "id": "z1WAIL1jxX7j",
        "outputId": "b59acdfc-56db-476a-8906-6f0b4bcd88a2"
      },
      "execution_count": 20,
      "outputs": [
        {
          "output_type": "execute_result",
          "data": {
            "text/plain": [
              "                      0\n",
              "0        ART_AND_DESIGN\n",
              "1     AUTO_AND_VEHICLES\n",
              "2                BEAUTY\n",
              "3   BOOKS_AND_REFERENCE\n",
              "4              BUSINESS\n",
              "5                COMICS\n",
              "6         COMMUNICATION\n",
              "7                DATING\n",
              "8             EDUCATION\n",
              "9         ENTERTAINMENT\n",
              "10               EVENTS\n",
              "11              FINANCE\n",
              "12       FOOD_AND_DRINK\n",
              "13   HEALTH_AND_FITNESS\n",
              "14       HOUSE_AND_HOME\n",
              "15   LIBRARIES_AND_DEMO\n",
              "16            LIFESTYLE\n",
              "17                 GAME\n",
              "18               FAMILY\n",
              "19              MEDICAL\n",
              "20               SOCIAL\n",
              "21             SHOPPING\n",
              "22          PHOTOGRAPHY\n",
              "23               SPORTS\n",
              "24     TRAVEL_AND_LOCAL\n",
              "25                TOOLS\n",
              "26      PERSONALIZATION\n",
              "27         PRODUCTIVITY\n",
              "28            PARENTING\n",
              "29              WEATHER\n",
              "30        VIDEO_PLAYERS\n",
              "31   NEWS_AND_MAGAZINES\n",
              "32  MAPS_AND_NAVIGATION"
            ],
            "text/html": [
              "\n",
              "  <div id=\"df-77e580c2-648f-480d-b877-dfd2d2e2c2be\">\n",
              "    <div class=\"colab-df-container\">\n",
              "      <div>\n",
              "<style scoped>\n",
              "    .dataframe tbody tr th:only-of-type {\n",
              "        vertical-align: middle;\n",
              "    }\n",
              "\n",
              "    .dataframe tbody tr th {\n",
              "        vertical-align: top;\n",
              "    }\n",
              "\n",
              "    .dataframe thead th {\n",
              "        text-align: right;\n",
              "    }\n",
              "</style>\n",
              "<table border=\"1\" class=\"dataframe\">\n",
              "  <thead>\n",
              "    <tr style=\"text-align: right;\">\n",
              "      <th></th>\n",
              "      <th>0</th>\n",
              "    </tr>\n",
              "  </thead>\n",
              "  <tbody>\n",
              "    <tr>\n",
              "      <th>0</th>\n",
              "      <td>ART_AND_DESIGN</td>\n",
              "    </tr>\n",
              "    <tr>\n",
              "      <th>1</th>\n",
              "      <td>AUTO_AND_VEHICLES</td>\n",
              "    </tr>\n",
              "    <tr>\n",
              "      <th>2</th>\n",
              "      <td>BEAUTY</td>\n",
              "    </tr>\n",
              "    <tr>\n",
              "      <th>3</th>\n",
              "      <td>BOOKS_AND_REFERENCE</td>\n",
              "    </tr>\n",
              "    <tr>\n",
              "      <th>4</th>\n",
              "      <td>BUSINESS</td>\n",
              "    </tr>\n",
              "    <tr>\n",
              "      <th>5</th>\n",
              "      <td>COMICS</td>\n",
              "    </tr>\n",
              "    <tr>\n",
              "      <th>6</th>\n",
              "      <td>COMMUNICATION</td>\n",
              "    </tr>\n",
              "    <tr>\n",
              "      <th>7</th>\n",
              "      <td>DATING</td>\n",
              "    </tr>\n",
              "    <tr>\n",
              "      <th>8</th>\n",
              "      <td>EDUCATION</td>\n",
              "    </tr>\n",
              "    <tr>\n",
              "      <th>9</th>\n",
              "      <td>ENTERTAINMENT</td>\n",
              "    </tr>\n",
              "    <tr>\n",
              "      <th>10</th>\n",
              "      <td>EVENTS</td>\n",
              "    </tr>\n",
              "    <tr>\n",
              "      <th>11</th>\n",
              "      <td>FINANCE</td>\n",
              "    </tr>\n",
              "    <tr>\n",
              "      <th>12</th>\n",
              "      <td>FOOD_AND_DRINK</td>\n",
              "    </tr>\n",
              "    <tr>\n",
              "      <th>13</th>\n",
              "      <td>HEALTH_AND_FITNESS</td>\n",
              "    </tr>\n",
              "    <tr>\n",
              "      <th>14</th>\n",
              "      <td>HOUSE_AND_HOME</td>\n",
              "    </tr>\n",
              "    <tr>\n",
              "      <th>15</th>\n",
              "      <td>LIBRARIES_AND_DEMO</td>\n",
              "    </tr>\n",
              "    <tr>\n",
              "      <th>16</th>\n",
              "      <td>LIFESTYLE</td>\n",
              "    </tr>\n",
              "    <tr>\n",
              "      <th>17</th>\n",
              "      <td>GAME</td>\n",
              "    </tr>\n",
              "    <tr>\n",
              "      <th>18</th>\n",
              "      <td>FAMILY</td>\n",
              "    </tr>\n",
              "    <tr>\n",
              "      <th>19</th>\n",
              "      <td>MEDICAL</td>\n",
              "    </tr>\n",
              "    <tr>\n",
              "      <th>20</th>\n",
              "      <td>SOCIAL</td>\n",
              "    </tr>\n",
              "    <tr>\n",
              "      <th>21</th>\n",
              "      <td>SHOPPING</td>\n",
              "    </tr>\n",
              "    <tr>\n",
              "      <th>22</th>\n",
              "      <td>PHOTOGRAPHY</td>\n",
              "    </tr>\n",
              "    <tr>\n",
              "      <th>23</th>\n",
              "      <td>SPORTS</td>\n",
              "    </tr>\n",
              "    <tr>\n",
              "      <th>24</th>\n",
              "      <td>TRAVEL_AND_LOCAL</td>\n",
              "    </tr>\n",
              "    <tr>\n",
              "      <th>25</th>\n",
              "      <td>TOOLS</td>\n",
              "    </tr>\n",
              "    <tr>\n",
              "      <th>26</th>\n",
              "      <td>PERSONALIZATION</td>\n",
              "    </tr>\n",
              "    <tr>\n",
              "      <th>27</th>\n",
              "      <td>PRODUCTIVITY</td>\n",
              "    </tr>\n",
              "    <tr>\n",
              "      <th>28</th>\n",
              "      <td>PARENTING</td>\n",
              "    </tr>\n",
              "    <tr>\n",
              "      <th>29</th>\n",
              "      <td>WEATHER</td>\n",
              "    </tr>\n",
              "    <tr>\n",
              "      <th>30</th>\n",
              "      <td>VIDEO_PLAYERS</td>\n",
              "    </tr>\n",
              "    <tr>\n",
              "      <th>31</th>\n",
              "      <td>NEWS_AND_MAGAZINES</td>\n",
              "    </tr>\n",
              "    <tr>\n",
              "      <th>32</th>\n",
              "      <td>MAPS_AND_NAVIGATION</td>\n",
              "    </tr>\n",
              "  </tbody>\n",
              "</table>\n",
              "</div>\n",
              "      <button class=\"colab-df-convert\" onclick=\"convertToInteractive('df-77e580c2-648f-480d-b877-dfd2d2e2c2be')\"\n",
              "              title=\"Convert this dataframe to an interactive table.\"\n",
              "              style=\"display:none;\">\n",
              "        \n",
              "  <svg xmlns=\"http://www.w3.org/2000/svg\" height=\"24px\"viewBox=\"0 0 24 24\"\n",
              "       width=\"24px\">\n",
              "    <path d=\"M0 0h24v24H0V0z\" fill=\"none\"/>\n",
              "    <path d=\"M18.56 5.44l.94 2.06.94-2.06 2.06-.94-2.06-.94-.94-2.06-.94 2.06-2.06.94zm-11 1L8.5 8.5l.94-2.06 2.06-.94-2.06-.94L8.5 2.5l-.94 2.06-2.06.94zm10 10l.94 2.06.94-2.06 2.06-.94-2.06-.94-.94-2.06-.94 2.06-2.06.94z\"/><path d=\"M17.41 7.96l-1.37-1.37c-.4-.4-.92-.59-1.43-.59-.52 0-1.04.2-1.43.59L10.3 9.45l-7.72 7.72c-.78.78-.78 2.05 0 2.83L4 21.41c.39.39.9.59 1.41.59.51 0 1.02-.2 1.41-.59l7.78-7.78 2.81-2.81c.8-.78.8-2.07 0-2.86zM5.41 20L4 18.59l7.72-7.72 1.47 1.35L5.41 20z\"/>\n",
              "  </svg>\n",
              "      </button>\n",
              "      \n",
              "  <style>\n",
              "    .colab-df-container {\n",
              "      display:flex;\n",
              "      flex-wrap:wrap;\n",
              "      gap: 12px;\n",
              "    }\n",
              "\n",
              "    .colab-df-convert {\n",
              "      background-color: #E8F0FE;\n",
              "      border: none;\n",
              "      border-radius: 50%;\n",
              "      cursor: pointer;\n",
              "      display: none;\n",
              "      fill: #1967D2;\n",
              "      height: 32px;\n",
              "      padding: 0 0 0 0;\n",
              "      width: 32px;\n",
              "    }\n",
              "\n",
              "    .colab-df-convert:hover {\n",
              "      background-color: #E2EBFA;\n",
              "      box-shadow: 0px 1px 2px rgba(60, 64, 67, 0.3), 0px 1px 3px 1px rgba(60, 64, 67, 0.15);\n",
              "      fill: #174EA6;\n",
              "    }\n",
              "\n",
              "    [theme=dark] .colab-df-convert {\n",
              "      background-color: #3B4455;\n",
              "      fill: #D2E3FC;\n",
              "    }\n",
              "\n",
              "    [theme=dark] .colab-df-convert:hover {\n",
              "      background-color: #434B5C;\n",
              "      box-shadow: 0px 1px 3px 1px rgba(0, 0, 0, 0.15);\n",
              "      filter: drop-shadow(0px 1px 2px rgba(0, 0, 0, 0.3));\n",
              "      fill: #FFFFFF;\n",
              "    }\n",
              "  </style>\n",
              "\n",
              "      <script>\n",
              "        const buttonEl =\n",
              "          document.querySelector('#df-77e580c2-648f-480d-b877-dfd2d2e2c2be button.colab-df-convert');\n",
              "        buttonEl.style.display =\n",
              "          google.colab.kernel.accessAllowed ? 'block' : 'none';\n",
              "\n",
              "        async function convertToInteractive(key) {\n",
              "          const element = document.querySelector('#df-77e580c2-648f-480d-b877-dfd2d2e2c2be');\n",
              "          const dataTable =\n",
              "            await google.colab.kernel.invokeFunction('convertToInteractive',\n",
              "                                                     [key], {});\n",
              "          if (!dataTable) return;\n",
              "\n",
              "          const docLinkHtml = 'Like what you see? Visit the ' +\n",
              "            '<a target=\"_blank\" href=https://colab.research.google.com/notebooks/data_table.ipynb>data table notebook</a>'\n",
              "            + ' to learn more about interactive tables.';\n",
              "          element.innerHTML = '';\n",
              "          dataTable['output_type'] = 'display_data';\n",
              "          await google.colab.output.renderOutput(dataTable, element);\n",
              "          const docLink = document.createElement('div');\n",
              "          docLink.innerHTML = docLinkHtml;\n",
              "          element.appendChild(docLink);\n",
              "        }\n",
              "      </script>\n",
              "    </div>\n",
              "  </div>\n",
              "  "
            ]
          },
          "metadata": {},
          "execution_count": 20
        }
      ]
    },
    {
      "cell_type": "code",
      "source": [
        "# now we have to check the downloads but we have some characters present in the downloads such as x , k , m , etc\n",
        "df['Installs'].unique()"
      ],
      "metadata": {
        "colab": {
          "base_uri": "https://localhost:8080/",
          "height": 0
        },
        "id": "wtL3Ktgyzgpw",
        "outputId": "07cc7b27-8433-44e5-a01b-900ae8b4bf0b"
      },
      "execution_count": 21,
      "outputs": [
        {
          "output_type": "execute_result",
          "data": {
            "text/plain": [
              "array(['10,000+', '500,000+', '5,000,000+', '50,000,000+', '100,000+',\n",
              "       '50,000+', '1,000,000+', '10,000,000+', '5,000+', '100,000,000+',\n",
              "       '1,000,000,000+', '1,000+', '500,000,000+', '50+', '100+', '500+',\n",
              "       '10+', '1+', '5+', '0+'], dtype=object)"
            ]
          },
          "metadata": {},
          "execution_count": 21
        }
      ]
    },
    {
      "cell_type": "code",
      "source": [
        "#checking for the null values as well\n",
        "df['Installs'].isnull().value_counts()"
      ],
      "metadata": {
        "colab": {
          "base_uri": "https://localhost:8080/",
          "height": 0
        },
        "id": "_iwP6fLy1p87",
        "outputId": "41a1bc88-60ee-43b4-e09d-0535bbe099b4"
      },
      "execution_count": 22,
      "outputs": [
        {
          "output_type": "execute_result",
          "data": {
            "text/plain": [
              "False    9648\n",
              "Name: Installs, dtype: int64"
            ]
          },
          "metadata": {},
          "execution_count": 22
        }
      ]
    },
    {
      "cell_type": "code",
      "source": [
        "#removing plus sign from the Installs\n",
        "df['Installs']=df['Installs'].apply(lambda x : x.strip('+'))"
      ],
      "metadata": {
        "id": "5mcFgEIC2Vah"
      },
      "execution_count": 23,
      "outputs": []
    },
    {
      "cell_type": "code",
      "source": [
        "df['Installs']= df['Installs'].apply(lambda x : x.replace(',' , ''))"
      ],
      "metadata": {
        "id": "PA_pPkls2L5G"
      },
      "execution_count": 24,
      "outputs": []
    },
    {
      "cell_type": "code",
      "source": [
        "# here we can see that there is no + sign now now its easy to add\n",
        "type(df['Installs'][0])"
      ],
      "metadata": {
        "colab": {
          "base_uri": "https://localhost:8080/",
          "height": 0
        },
        "id": "Ze0q-z7r2yGh",
        "outputId": "287e78e0-a2a5-46c0-c0c2-2aeb11a54d38"
      },
      "execution_count": 25,
      "outputs": [
        {
          "output_type": "execute_result",
          "data": {
            "text/plain": [
              "str"
            ]
          },
          "metadata": {},
          "execution_count": 25
        }
      ]
    },
    {
      "cell_type": "code",
      "source": [
        "df['Installs'] = df['Installs'].astype('int')"
      ],
      "metadata": {
        "id": "bsyX_TeK0vtY"
      },
      "execution_count": 26,
      "outputs": []
    },
    {
      "cell_type": "code",
      "source": [
        "df['Installs']"
      ],
      "metadata": {
        "colab": {
          "base_uri": "https://localhost:8080/",
          "height": 0
        },
        "id": "MFzCcT-A1L8C",
        "outputId": "a2769b3f-b71e-4199-8302-25ac24ab5ab9"
      },
      "execution_count": 27,
      "outputs": [
        {
          "output_type": "execute_result",
          "data": {
            "text/plain": [
              "0           10000\n",
              "1          500000\n",
              "2         5000000\n",
              "3        50000000\n",
              "4          100000\n",
              "           ...   \n",
              "10836        5000\n",
              "10837         100\n",
              "10838        1000\n",
              "10839        1000\n",
              "10840    10000000\n",
              "Name: Installs, Length: 9648, dtype: int64"
            ]
          },
          "metadata": {},
          "execution_count": 27
        }
      ]
    },
    {
      "cell_type": "code",
      "source": [
        "df.head().T"
      ],
      "metadata": {
        "colab": {
          "base_uri": "https://localhost:8080/",
          "height": 426
        },
        "id": "hBtEq04A1fkg",
        "outputId": "0173a3e5-0293-4fad-d1ca-9f00c40b2917"
      },
      "execution_count": 28,
      "outputs": [
        {
          "output_type": "execute_result",
          "data": {
            "text/plain": [
              "                                                             0  \\\n",
              "App             Photo Editor & Candy Camera & Grid & ScrapBook   \n",
              "Category                                        ART_AND_DESIGN   \n",
              "Rating                                                     4.1   \n",
              "Reviews                                                    159   \n",
              "Size                                                       19M   \n",
              "Installs                                                 10000   \n",
              "Type                                                      Free   \n",
              "Price                                                        0   \n",
              "Content Rating                                        Everyone   \n",
              "Genres                                            Art & Design   \n",
              "Last Updated                                   January 7, 2018   \n",
              "Current Ver                                              1.0.0   \n",
              "\n",
              "                                        1  \\\n",
              "App                   Coloring book moana   \n",
              "Category                   ART_AND_DESIGN   \n",
              "Rating                                3.9   \n",
              "Reviews                               967   \n",
              "Size                                  14M   \n",
              "Installs                           500000   \n",
              "Type                                 Free   \n",
              "Price                                   0   \n",
              "Content Rating                   Everyone   \n",
              "Genres          Art & Design;Pretend Play   \n",
              "Last Updated             January 15, 2018   \n",
              "Current Ver                         2.0.0   \n",
              "\n",
              "                                                                2  \\\n",
              "App             U Launcher Lite – FREE Live Cool Themes, Hide ...   \n",
              "Category                                           ART_AND_DESIGN   \n",
              "Rating                                                        4.7   \n",
              "Reviews                                                     87510   \n",
              "Size                                                         8.7M   \n",
              "Installs                                                  5000000   \n",
              "Type                                                         Free   \n",
              "Price                                                           0   \n",
              "Content Rating                                           Everyone   \n",
              "Genres                                               Art & Design   \n",
              "Last Updated                                       August 1, 2018   \n",
              "Current Ver                                                 1.2.4   \n",
              "\n",
              "                                    3                                      4  \n",
              "App             Sketch - Draw & Paint  Pixel Draw - Number Art Coloring Book  \n",
              "Category               ART_AND_DESIGN                         ART_AND_DESIGN  \n",
              "Rating                            4.5                                    4.3  \n",
              "Reviews                        215644                                    967  \n",
              "Size                              25M                                   2.8M  \n",
              "Installs                     50000000                                 100000  \n",
              "Type                             Free                                   Free  \n",
              "Price                               0                                      0  \n",
              "Content Rating                   Teen                               Everyone  \n",
              "Genres                   Art & Design                Art & Design;Creativity  \n",
              "Last Updated             June 8, 2018                          June 20, 2018  \n",
              "Current Ver        Varies with device                                    1.1  "
            ],
            "text/html": [
              "\n",
              "  <div id=\"df-08f4778a-8837-4836-9504-778dde3fbe26\">\n",
              "    <div class=\"colab-df-container\">\n",
              "      <div>\n",
              "<style scoped>\n",
              "    .dataframe tbody tr th:only-of-type {\n",
              "        vertical-align: middle;\n",
              "    }\n",
              "\n",
              "    .dataframe tbody tr th {\n",
              "        vertical-align: top;\n",
              "    }\n",
              "\n",
              "    .dataframe thead th {\n",
              "        text-align: right;\n",
              "    }\n",
              "</style>\n",
              "<table border=\"1\" class=\"dataframe\">\n",
              "  <thead>\n",
              "    <tr style=\"text-align: right;\">\n",
              "      <th></th>\n",
              "      <th>0</th>\n",
              "      <th>1</th>\n",
              "      <th>2</th>\n",
              "      <th>3</th>\n",
              "      <th>4</th>\n",
              "    </tr>\n",
              "  </thead>\n",
              "  <tbody>\n",
              "    <tr>\n",
              "      <th>App</th>\n",
              "      <td>Photo Editor &amp; Candy Camera &amp; Grid &amp; ScrapBook</td>\n",
              "      <td>Coloring book moana</td>\n",
              "      <td>U Launcher Lite – FREE Live Cool Themes, Hide ...</td>\n",
              "      <td>Sketch - Draw &amp; Paint</td>\n",
              "      <td>Pixel Draw - Number Art Coloring Book</td>\n",
              "    </tr>\n",
              "    <tr>\n",
              "      <th>Category</th>\n",
              "      <td>ART_AND_DESIGN</td>\n",
              "      <td>ART_AND_DESIGN</td>\n",
              "      <td>ART_AND_DESIGN</td>\n",
              "      <td>ART_AND_DESIGN</td>\n",
              "      <td>ART_AND_DESIGN</td>\n",
              "    </tr>\n",
              "    <tr>\n",
              "      <th>Rating</th>\n",
              "      <td>4.1</td>\n",
              "      <td>3.9</td>\n",
              "      <td>4.7</td>\n",
              "      <td>4.5</td>\n",
              "      <td>4.3</td>\n",
              "    </tr>\n",
              "    <tr>\n",
              "      <th>Reviews</th>\n",
              "      <td>159</td>\n",
              "      <td>967</td>\n",
              "      <td>87510</td>\n",
              "      <td>215644</td>\n",
              "      <td>967</td>\n",
              "    </tr>\n",
              "    <tr>\n",
              "      <th>Size</th>\n",
              "      <td>19M</td>\n",
              "      <td>14M</td>\n",
              "      <td>8.7M</td>\n",
              "      <td>25M</td>\n",
              "      <td>2.8M</td>\n",
              "    </tr>\n",
              "    <tr>\n",
              "      <th>Installs</th>\n",
              "      <td>10000</td>\n",
              "      <td>500000</td>\n",
              "      <td>5000000</td>\n",
              "      <td>50000000</td>\n",
              "      <td>100000</td>\n",
              "    </tr>\n",
              "    <tr>\n",
              "      <th>Type</th>\n",
              "      <td>Free</td>\n",
              "      <td>Free</td>\n",
              "      <td>Free</td>\n",
              "      <td>Free</td>\n",
              "      <td>Free</td>\n",
              "    </tr>\n",
              "    <tr>\n",
              "      <th>Price</th>\n",
              "      <td>0</td>\n",
              "      <td>0</td>\n",
              "      <td>0</td>\n",
              "      <td>0</td>\n",
              "      <td>0</td>\n",
              "    </tr>\n",
              "    <tr>\n",
              "      <th>Content Rating</th>\n",
              "      <td>Everyone</td>\n",
              "      <td>Everyone</td>\n",
              "      <td>Everyone</td>\n",
              "      <td>Teen</td>\n",
              "      <td>Everyone</td>\n",
              "    </tr>\n",
              "    <tr>\n",
              "      <th>Genres</th>\n",
              "      <td>Art &amp; Design</td>\n",
              "      <td>Art &amp; Design;Pretend Play</td>\n",
              "      <td>Art &amp; Design</td>\n",
              "      <td>Art &amp; Design</td>\n",
              "      <td>Art &amp; Design;Creativity</td>\n",
              "    </tr>\n",
              "    <tr>\n",
              "      <th>Last Updated</th>\n",
              "      <td>January 7, 2018</td>\n",
              "      <td>January 15, 2018</td>\n",
              "      <td>August 1, 2018</td>\n",
              "      <td>June 8, 2018</td>\n",
              "      <td>June 20, 2018</td>\n",
              "    </tr>\n",
              "    <tr>\n",
              "      <th>Current Ver</th>\n",
              "      <td>1.0.0</td>\n",
              "      <td>2.0.0</td>\n",
              "      <td>1.2.4</td>\n",
              "      <td>Varies with device</td>\n",
              "      <td>1.1</td>\n",
              "    </tr>\n",
              "  </tbody>\n",
              "</table>\n",
              "</div>\n",
              "      <button class=\"colab-df-convert\" onclick=\"convertToInteractive('df-08f4778a-8837-4836-9504-778dde3fbe26')\"\n",
              "              title=\"Convert this dataframe to an interactive table.\"\n",
              "              style=\"display:none;\">\n",
              "        \n",
              "  <svg xmlns=\"http://www.w3.org/2000/svg\" height=\"24px\"viewBox=\"0 0 24 24\"\n",
              "       width=\"24px\">\n",
              "    <path d=\"M0 0h24v24H0V0z\" fill=\"none\"/>\n",
              "    <path d=\"M18.56 5.44l.94 2.06.94-2.06 2.06-.94-2.06-.94-.94-2.06-.94 2.06-2.06.94zm-11 1L8.5 8.5l.94-2.06 2.06-.94-2.06-.94L8.5 2.5l-.94 2.06-2.06.94zm10 10l.94 2.06.94-2.06 2.06-.94-2.06-.94-.94-2.06-.94 2.06-2.06.94z\"/><path d=\"M17.41 7.96l-1.37-1.37c-.4-.4-.92-.59-1.43-.59-.52 0-1.04.2-1.43.59L10.3 9.45l-7.72 7.72c-.78.78-.78 2.05 0 2.83L4 21.41c.39.39.9.59 1.41.59.51 0 1.02-.2 1.41-.59l7.78-7.78 2.81-2.81c.8-.78.8-2.07 0-2.86zM5.41 20L4 18.59l7.72-7.72 1.47 1.35L5.41 20z\"/>\n",
              "  </svg>\n",
              "      </button>\n",
              "      \n",
              "  <style>\n",
              "    .colab-df-container {\n",
              "      display:flex;\n",
              "      flex-wrap:wrap;\n",
              "      gap: 12px;\n",
              "    }\n",
              "\n",
              "    .colab-df-convert {\n",
              "      background-color: #E8F0FE;\n",
              "      border: none;\n",
              "      border-radius: 50%;\n",
              "      cursor: pointer;\n",
              "      display: none;\n",
              "      fill: #1967D2;\n",
              "      height: 32px;\n",
              "      padding: 0 0 0 0;\n",
              "      width: 32px;\n",
              "    }\n",
              "\n",
              "    .colab-df-convert:hover {\n",
              "      background-color: #E2EBFA;\n",
              "      box-shadow: 0px 1px 2px rgba(60, 64, 67, 0.3), 0px 1px 3px 1px rgba(60, 64, 67, 0.15);\n",
              "      fill: #174EA6;\n",
              "    }\n",
              "\n",
              "    [theme=dark] .colab-df-convert {\n",
              "      background-color: #3B4455;\n",
              "      fill: #D2E3FC;\n",
              "    }\n",
              "\n",
              "    [theme=dark] .colab-df-convert:hover {\n",
              "      background-color: #434B5C;\n",
              "      box-shadow: 0px 1px 3px 1px rgba(0, 0, 0, 0.15);\n",
              "      filter: drop-shadow(0px 1px 2px rgba(0, 0, 0, 0.3));\n",
              "      fill: #FFFFFF;\n",
              "    }\n",
              "  </style>\n",
              "\n",
              "      <script>\n",
              "        const buttonEl =\n",
              "          document.querySelector('#df-08f4778a-8837-4836-9504-778dde3fbe26 button.colab-df-convert');\n",
              "        buttonEl.style.display =\n",
              "          google.colab.kernel.accessAllowed ? 'block' : 'none';\n",
              "\n",
              "        async function convertToInteractive(key) {\n",
              "          const element = document.querySelector('#df-08f4778a-8837-4836-9504-778dde3fbe26');\n",
              "          const dataTable =\n",
              "            await google.colab.kernel.invokeFunction('convertToInteractive',\n",
              "                                                     [key], {});\n",
              "          if (!dataTable) return;\n",
              "\n",
              "          const docLinkHtml = 'Like what you see? Visit the ' +\n",
              "            '<a target=\"_blank\" href=https://colab.research.google.com/notebooks/data_table.ipynb>data table notebook</a>'\n",
              "            + ' to learn more about interactive tables.';\n",
              "          element.innerHTML = '';\n",
              "          dataTable['output_type'] = 'display_data';\n",
              "          await google.colab.output.renderOutput(dataTable, element);\n",
              "          const docLink = document.createElement('div');\n",
              "          docLink.innerHTML = docLinkHtml;\n",
              "          element.appendChild(docLink);\n",
              "        }\n",
              "      </script>\n",
              "    </div>\n",
              "  </div>\n",
              "  "
            ]
          },
          "metadata": {},
          "execution_count": 28
        }
      ]
    },
    {
      "cell_type": "code",
      "source": [
        "df['Category'].value_counts()"
      ],
      "metadata": {
        "colab": {
          "base_uri": "https://localhost:8080/",
          "height": 0
        },
        "id": "3rOfGzNT2uk7",
        "outputId": "cfd28acc-087e-4fa2-92f9-644f1fefdea0"
      },
      "execution_count": 29,
      "outputs": [
        {
          "output_type": "execute_result",
          "data": {
            "text/plain": [
              "FAMILY                 1828\n",
              "GAME                    959\n",
              "TOOLS                   825\n",
              "BUSINESS                420\n",
              "MEDICAL                 395\n",
              "PRODUCTIVITY            374\n",
              "PERSONALIZATION         374\n",
              "LIFESTYLE               369\n",
              "FINANCE                 345\n",
              "SPORTS                  325\n",
              "COMMUNICATION           315\n",
              "HEALTH_AND_FITNESS      288\n",
              "PHOTOGRAPHY             281\n",
              "NEWS_AND_MAGAZINES      254\n",
              "SOCIAL                  239\n",
              "BOOKS_AND_REFERENCE     221\n",
              "TRAVEL_AND_LOCAL        219\n",
              "SHOPPING                202\n",
              "DATING                  171\n",
              "VIDEO_PLAYERS           163\n",
              "MAPS_AND_NAVIGATION     131\n",
              "EDUCATION               119\n",
              "FOOD_AND_DRINK          112\n",
              "ENTERTAINMENT           102\n",
              "AUTO_AND_VEHICLES        85\n",
              "LIBRARIES_AND_DEMO       83\n",
              "WEATHER                  79\n",
              "HOUSE_AND_HOME           74\n",
              "EVENTS                   64\n",
              "ART_AND_DESIGN           63\n",
              "PARENTING                60\n",
              "COMICS                   56\n",
              "BEAUTY                   53\n",
              "Name: Category, dtype: int64"
            ]
          },
          "metadata": {},
          "execution_count": 29
        }
      ]
    },
    {
      "cell_type": "code",
      "source": [
        "df['Price'].value_counts()"
      ],
      "metadata": {
        "colab": {
          "base_uri": "https://localhost:8080/",
          "height": 0
        },
        "id": "gyzkWzlF3Fqz",
        "outputId": "35cb7e9e-76db-4a3e-ea32-82746ea8b462"
      },
      "execution_count": 30,
      "outputs": [
        {
          "output_type": "execute_result",
          "data": {
            "text/plain": [
              "0          8895\n",
              "$0.99       143\n",
              "$2.99       124\n",
              "$1.99        73\n",
              "$4.99        70\n",
              "           ... \n",
              "$18.99        1\n",
              "$389.99       1\n",
              "$19.90        1\n",
              "$1.75         1\n",
              "$1.04         1\n",
              "Name: Price, Length: 92, dtype: int64"
            ]
          },
          "metadata": {},
          "execution_count": 30
        }
      ]
    },
    {
      "cell_type": "code",
      "source": [
        "# Replacing the characters so as to get datatype = Float\n",
        "df['Price'] = df['Price'].apply(lambda x : x.replace('$' ,''))"
      ],
      "metadata": {
        "id": "-FBrO5pl4Ib0"
      },
      "execution_count": 31,
      "outputs": []
    },
    {
      "cell_type": "code",
      "source": [
        "#finding out the unique values contains\n",
        "df['Price'].unique()"
      ],
      "metadata": {
        "colab": {
          "base_uri": "https://localhost:8080/",
          "height": 0
        },
        "id": "AtH0Tw4N4jQU",
        "outputId": "fddf7ddc-b316-4f5a-8c1b-cebcfa81723d"
      },
      "execution_count": 32,
      "outputs": [
        {
          "output_type": "execute_result",
          "data": {
            "text/plain": [
              "array(['0', '4.99', '3.99', '6.99', '1.49', '2.99', '7.99', '5.99',\n",
              "       '3.49', '1.99', '9.99', '7.49', '0.99', '9.00', '5.49', '10.00',\n",
              "       '24.99', '11.99', '79.99', '16.99', '14.99', '1.00', '29.99',\n",
              "       '12.99', '2.49', '10.99', '1.50', '19.99', '15.99', '33.99',\n",
              "       '74.99', '39.99', '3.95', '4.49', '1.70', '8.99', '2.00', '3.88',\n",
              "       '25.99', '399.99', '17.99', '400.00', '3.02', '1.76', '4.84',\n",
              "       '4.77', '1.61', '2.50', '1.59', '6.49', '1.29', '5.00', '13.99',\n",
              "       '299.99', '379.99', '37.99', '18.99', '389.99', '19.90', '8.49',\n",
              "       '1.75', '14.00', '4.85', '46.99', '109.99', '154.99', '3.08',\n",
              "       '2.59', '4.80', '1.96', '19.40', '3.90', '4.59', '15.46', '3.04',\n",
              "       '4.29', '2.60', '3.28', '4.60', '28.99', '2.95', '2.90', '1.97',\n",
              "       '200.00', '89.99', '2.56', '30.99', '3.61', '394.99', '1.26',\n",
              "       '1.20', '1.04'], dtype=object)"
            ]
          },
          "metadata": {},
          "execution_count": 32
        }
      ]
    },
    {
      "cell_type": "code",
      "source": [
        "# converting the datatype into float\n",
        "df['Price']=df['Price'].astype('float')"
      ],
      "metadata": {
        "id": "7obqP9zY4n0W"
      },
      "execution_count": 33,
      "outputs": []
    },
    {
      "cell_type": "code",
      "source": [
        "df['Price'].value_counts()"
      ],
      "metadata": {
        "colab": {
          "base_uri": "https://localhost:8080/",
          "height": 0
        },
        "id": "-bDHv1vW6B9G",
        "outputId": "065f68f5-8d62-498a-f7a1-a4073f639073"
      },
      "execution_count": 34,
      "outputs": [
        {
          "output_type": "execute_result",
          "data": {
            "text/plain": [
              "0.00      8895\n",
              "0.99       143\n",
              "2.99       124\n",
              "1.99        73\n",
              "4.99        70\n",
              "          ... \n",
              "18.99        1\n",
              "389.99       1\n",
              "19.90        1\n",
              "1.75         1\n",
              "1.04         1\n",
              "Name: Price, Length: 92, dtype: int64"
            ]
          },
          "metadata": {},
          "execution_count": 34
        }
      ]
    },
    {
      "cell_type": "code",
      "source": [
        "df.drop(['Current Ver' , 'Last Updated'] , axis = 1  , inplace = True)"
      ],
      "metadata": {
        "id": "HrL4tcXm6SJ5"
      },
      "execution_count": 35,
      "outputs": []
    },
    {
      "cell_type": "code",
      "source": [
        "df['Size'] = df['Size'].apply(lambda x : x.replace('M' , '000'))\n",
        "df['Size'] = df['Size'].apply(lambda x : x.replace('k' , ''))\n",
        "df['Size'] = df['Size'].apply(lambda x : x.replace('.' , ''))\n"
      ],
      "metadata": {
        "id": "bjU75t2I8UFJ"
      },
      "execution_count": 44,
      "outputs": []
    },
    {
      "cell_type": "code",
      "source": [
        "df['Size'] = df['Size'].apply(lambda x : x.replace('Varies with device' , ''))"
      ],
      "metadata": {
        "id": "Irl-okdL9Ro1"
      },
      "execution_count": 38,
      "outputs": []
    },
    {
      "cell_type": "code",
      "source": [
        "df['Size'].unique()"
      ],
      "metadata": {
        "colab": {
          "base_uri": "https://localhost:8080/",
          "height": 0
        },
        "id": "yqdMd2_x7oEq",
        "outputId": "c955d40b-3504-4ef6-8f1d-1b10020e30ec"
      },
      "execution_count": 45,
      "outputs": [
        {
          "output_type": "execute_result",
          "data": {
            "text/plain": [
              "array(['19000', '14000', '87000', '25000', '28000', '56000', '29000',\n",
              "       '33000', '31000', '12000', '20000', '21000', '37000', '55000',\n",
              "       '17000', '39000', '42000', '70000', '23000', '60000', '61000',\n",
              "       '46000', '92000', '52000', '11000', '24000', '', '94000', '15000',\n",
              "       '10000', '26000', '80000', '79000', '57000', '35000', '54000',\n",
              "       '201', '36000', '86000', '27000', '16000', '34000', '89000',\n",
              "       '38000', '32000', '18000', '22000', '45000', '98000', '90000',\n",
              "       '67000', '30000', '71000', '74000', '64000', '82000', '99000',\n",
              "       '49000', '95000', '50000', '59000', '13000', '73000', '68000',\n",
              "       '40000', '72000', '91000', '23', '65000', '75000', '51000',\n",
              "       '41000', '48000', '85000', '83000', '43000', '47000', '78000',\n",
              "       '88000', '66000', '79', '84000', '118', '44000', '695', '62000',\n",
              "       '18', '53000', '58000', '96000', '63000', '77000', '69000',\n",
              "       '93000', '100000', '81000', '97000', '556', '526', '76000', '334',\n",
              "       '232', '624', '85', '41', '292', '704', '862', '899', '378', '266',\n",
              "       '375', '975', '980', '696', '544', '525', '920', '779', '853',\n",
              "       '720', '713', '772', '318', '58', '241', '196', '857', '51', '953',\n",
              "       '865', '251', '930', '540', '313', '746', '203', '26', '314',\n",
              "       '239', '371', '220', '730', '756', '91', '293', '17', '74', '14',\n",
              "       '317', '78', '924', '902', '818', '81', '939', '169', '45', '475',\n",
              "       '965', '545', '61', '283', '655', '714', '93', '872', '121', '322',\n",
              "       '976', '172', '238', '549', '206', '954', '444', '717', '210',\n",
              "       '609', '308', '705', '306', '904', '473', '175', '350', '383',\n",
              "       '454', '421', '70', '812', '442', '842', '417', '412', '459',\n",
              "       '478', '335', '782', '721', '430', '429', '192', '200', '460',\n",
              "       '728', '496', '816', '414', '506', '887', '613', '243', '569',\n",
              "       '778', '683', '592', '319', '186', '840', '647', '191', '373',\n",
              "       '437', '598', '716', '585', '982', '219', '55', '948', '323',\n",
              "       '691', '511', '951', '963', '25', '554', '351', '27', '82', '208',\n",
              "       '913', '514', '551', '29', '103', '898', '743', '116', '153',\n",
              "       '209', '353', '499', '173', '597', '809', '122', '411', '400',\n",
              "       '801', '787', '50', '643', '986', '97', '516', '837', '780', '961',\n",
              "       '269', '20', '498', '600', '749', '642', '881', '72', '656', '601',\n",
              "       '221', '228', '108', '940', '176', '33', '663', '34', '942', '259',\n",
              "       '164', '458', '245', '629', '28', '288', '775', '785', '636',\n",
              "       '916', '994', '309', '485', '914', '903', '608', '500', '54',\n",
              "       '562', '847', '957', '688', '811', '270', '48', '329', '523',\n",
              "       '921', '874', '981', '784', '280', '24', '518', '754', '892',\n",
              "       '154', '860', '364', '387', '626', '161', '879', '39', '970',\n",
              "       '170', '141', '160', '144', '143', '190', '376', '193', '246',\n",
              "       '73', '992', '253', '420', '404', '470', '226', '240', '89', '234',\n",
              "       '257', '861', '467', '157', '44', '676', '67', '552', '885',\n",
              "       '1020', '582', '619'], dtype=object)"
            ]
          },
          "metadata": {},
          "execution_count": 45
        }
      ]
    },
    {
      "cell_type": "code",
      "source": [
        "df['Size'][0].astype('int')"
      ],
      "metadata": {
        "id": "rGsNBOSl8E2N",
        "colab": {
          "base_uri": "https://localhost:8080/",
          "height": 171
        },
        "outputId": "b9d75c0d-6384-4e30-8ea6-48510d66cab4"
      },
      "execution_count": 49,
      "outputs": [
        {
          "output_type": "error",
          "ename": "AttributeError",
          "evalue": "ignored",
          "traceback": [
            "\u001b[0;31m---------------------------------------------------------------------------\u001b[0m",
            "\u001b[0;31mAttributeError\u001b[0m                            Traceback (most recent call last)",
            "\u001b[0;32m<ipython-input-49-5e30e3c2ab03>\u001b[0m in \u001b[0;36m<module>\u001b[0;34m\u001b[0m\n\u001b[0;32m----> 1\u001b[0;31m \u001b[0mdf\u001b[0m\u001b[0;34m[\u001b[0m\u001b[0;34m'Size'\u001b[0m\u001b[0;34m]\u001b[0m\u001b[0;34m[\u001b[0m\u001b[0;36m0\u001b[0m\u001b[0;34m]\u001b[0m\u001b[0;34m.\u001b[0m\u001b[0mastype\u001b[0m\u001b[0;34m(\u001b[0m\u001b[0;34m'int'\u001b[0m\u001b[0;34m)\u001b[0m\u001b[0;34m\u001b[0m\u001b[0;34m\u001b[0m\u001b[0m\n\u001b[0m",
            "\u001b[0;31mAttributeError\u001b[0m: 'str' object has no attribute 'astype'"
          ]
        }
      ]
    },
    {
      "cell_type": "code",
      "source": [
        "type(df['Price'][0])"
      ],
      "metadata": {
        "colab": {
          "base_uri": "https://localhost:8080/",
          "height": 0
        },
        "id": "UM5RbnrgEKdD",
        "outputId": "07ac14a2-81a6-4000-ce08-266579ecc67b"
      },
      "execution_count": 52,
      "outputs": [
        {
          "output_type": "execute_result",
          "data": {
            "text/plain": [
              "numpy.float64"
            ]
          },
          "metadata": {},
          "execution_count": 52
        }
      ]
    },
    {
      "cell_type": "code",
      "source": [
        "int(df['Size'][0])"
      ],
      "metadata": {
        "colab": {
          "base_uri": "https://localhost:8080/",
          "height": 0
        },
        "id": "4bj5reweE6Hn",
        "outputId": "17bfc2f2-045a-4c73-acb3-1529499d598a"
      },
      "execution_count": 53,
      "outputs": [
        {
          "output_type": "execute_result",
          "data": {
            "text/plain": [
              "19000"
            ]
          },
          "metadata": {},
          "execution_count": 53
        }
      ]
    },
    {
      "cell_type": "code",
      "source": [
        "df['Size']=df['Size']"
      ],
      "metadata": {
        "id": "nymCWPeBF_zL"
      },
      "execution_count": null,
      "outputs": []
    },
    {
      "cell_type": "code",
      "source": [
        "def convert_int(string):\n",
        "  list1 = []\n",
        "  try:\n",
        "    list1.append(int(string))\n",
        "  except:\n",
        "    list1.append(0)\n",
        "  return list1"
      ],
      "metadata": {
        "id": "MDQ5L_LNGHZD"
      },
      "execution_count": 57,
      "outputs": []
    },
    {
      "cell_type": "code",
      "source": [
        "print(convert_int('abc'))"
      ],
      "metadata": {
        "colab": {
          "base_uri": "https://localhost:8080/",
          "height": 0
        },
        "id": "8W6LYSL9GcQA",
        "outputId": "0621bd33-b0e8-4162-f53f-1ef6df86dc91"
      },
      "execution_count": 59,
      "outputs": [
        {
          "output_type": "stream",
          "name": "stdout",
          "text": [
            "[0]\n"
          ]
        }
      ]
    },
    {
      "cell_type": "code",
      "source": [
        "df['new_size']=df['Size'].apply(lambda x : convert_int(x)) "
      ],
      "metadata": {
        "id": "NrBQXtBRGhwo"
      },
      "execution_count": 60,
      "outputs": []
    },
    {
      "cell_type": "code",
      "source": [
        "df['new_size'][0]"
      ],
      "metadata": {
        "colab": {
          "base_uri": "https://localhost:8080/"
        },
        "id": "cfZpd49sHP5n",
        "outputId": "94fedc4b-2b05-4091-b96a-9233407b2377"
      },
      "execution_count": 63,
      "outputs": [
        {
          "output_type": "execute_result",
          "data": {
            "text/plain": [
              "[19000]"
            ]
          },
          "metadata": {},
          "execution_count": 63
        }
      ]
    },
    {
      "cell_type": "code",
      "source": [],
      "metadata": {
        "id": "xSLl12aIJbcf"
      },
      "execution_count": null,
      "outputs": []
    }
  ]
}